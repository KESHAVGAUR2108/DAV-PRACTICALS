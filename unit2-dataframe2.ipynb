{
  "cells": [
    {
      "cell_type": "code",
      "execution_count": 107,
      "metadata": {
        "id": "ny0U03_GvSBD"
      },
      "outputs": [],
      "source": [
        "import pandas as pd\n",
        "import numpy as np"
      ]
    },
    {
      "cell_type": "code",
      "execution_count": 108,
      "metadata": {
        "colab": {
          "base_uri": "https://localhost:8080/"
        },
        "id": "m4J3RH9wdmaK",
        "outputId": "e36d27fb-d697-48cf-def8-8f3ce90a5e69"
      },
      "outputs": [
        {
          "data": {
            "text/plain": [
              "0.2762813202611858"
            ]
          },
          "execution_count": 108,
          "metadata": {},
          "output_type": "execute_result"
        }
      ],
      "source": [
        "np.random.rand()"
      ]
    },
    {
      "cell_type": "code",
      "execution_count": 109,
      "metadata": {
        "colab": {
          "base_uri": "https://localhost:8080/"
        },
        "id": "TjhlA_GavW7r",
        "outputId": "4664fa0d-327a-40d0-9d36-5790ea0f9cea"
      },
      "outputs": [
        {
          "name": "stdout",
          "output_type": "stream",
          "text": [
            "0    0.333659\n",
            "1    0.670425\n",
            "2    0.192254\n",
            "3    0.513502\n",
            "4    0.008917\n",
            "5    0.593662\n",
            "6    0.603221\n",
            "7    0.279537\n",
            "8    0.826835\n",
            "9    0.800202\n",
            "dtype: float64 <class 'pandas.core.series.Series'>\n"
          ]
        }
      ],
      "source": [
        "s1=pd.Series(np.random.rand(10),dtype=float)\n",
        "print(s1,type(s1))"
      ]
    },
    {
      "cell_type": "markdown",
      "metadata": {},
      "source": [
        "## create a data frame with randomly generated contents of a column having 9 random values and second column is double of the first one"
      ]
    },
    {
      "cell_type": "code",
      "execution_count": 110,
      "metadata": {
        "colab": {
          "base_uri": "https://localhost:8080/"
        },
        "id": "jYEOdFXvq3Ql",
        "outputId": "cc8ac928-c6d8-432a-f33d-680f7800ef4f"
      },
      "outputs": [
        {
          "name": "stdout",
          "output_type": "stream",
          "text": [
            "[0.59857363 0.49266795 0.97123359 0.73420623 0.49881091 0.7291844\n",
            " 0.49751606 0.92696618 0.44319134] <class 'numpy.ndarray'>\n"
          ]
        },
        {
          "data": {
            "text/plain": [
              "array([59.85736274, 49.26679492, 97.12335878, 73.42062271, 49.88109103,\n",
              "       72.91844011, 49.75160572, 92.69661793, 44.3191342 ])"
            ]
          },
          "execution_count": 110,
          "metadata": {},
          "output_type": "execute_result"
        }
      ],
      "source": [
        "s=np.random.rand(9)\n",
        "print(s,type(s))\n",
        "s*100"
      ]
    },
    {
      "cell_type": "code",
      "execution_count": 10,
      "metadata": {},
      "outputs": [
        {
          "data": {
            "text/html": [
              "<div>\n",
              "<style scoped>\n",
              "    .dataframe tbody tr th:only-of-type {\n",
              "        vertical-align: middle;\n",
              "    }\n",
              "\n",
              "    .dataframe tbody tr th {\n",
              "        vertical-align: top;\n",
              "    }\n",
              "\n",
              "    .dataframe thead th {\n",
              "        text-align: right;\n",
              "    }\n",
              "</style>\n",
              "<table border=\"1\" class=\"dataframe\">\n",
              "  <thead>\n",
              "    <tr style=\"text-align: right;\">\n",
              "      <th></th>\n",
              "      <th>first</th>\n",
              "    </tr>\n",
              "  </thead>\n",
              "  <tbody>\n",
              "    <tr>\n",
              "      <th>0</th>\n",
              "      <td>0.657524</td>\n",
              "    </tr>\n",
              "    <tr>\n",
              "      <th>1</th>\n",
              "      <td>0.903047</td>\n",
              "    </tr>\n",
              "    <tr>\n",
              "      <th>2</th>\n",
              "      <td>0.561871</td>\n",
              "    </tr>\n",
              "    <tr>\n",
              "      <th>3</th>\n",
              "      <td>0.251597</td>\n",
              "    </tr>\n",
              "    <tr>\n",
              "      <th>4</th>\n",
              "      <td>0.833607</td>\n",
              "    </tr>\n",
              "    <tr>\n",
              "      <th>5</th>\n",
              "      <td>0.380981</td>\n",
              "    </tr>\n",
              "    <tr>\n",
              "      <th>6</th>\n",
              "      <td>0.403838</td>\n",
              "    </tr>\n",
              "    <tr>\n",
              "      <th>7</th>\n",
              "      <td>0.525121</td>\n",
              "    </tr>\n",
              "    <tr>\n",
              "      <th>8</th>\n",
              "      <td>0.020277</td>\n",
              "    </tr>\n",
              "  </tbody>\n",
              "</table>\n",
              "</div>"
            ],
            "text/plain": [
              "      first\n",
              "0  0.657524\n",
              "1  0.903047\n",
              "2  0.561871\n",
              "3  0.251597\n",
              "4  0.833607\n",
              "5  0.380981\n",
              "6  0.403838\n",
              "7  0.525121\n",
              "8  0.020277"
            ]
          },
          "metadata": {},
          "output_type": "display_data"
        },
        {
          "data": {
            "text/html": [
              "<div>\n",
              "<style scoped>\n",
              "    .dataframe tbody tr th:only-of-type {\n",
              "        vertical-align: middle;\n",
              "    }\n",
              "\n",
              "    .dataframe tbody tr th {\n",
              "        vertical-align: top;\n",
              "    }\n",
              "\n",
              "    .dataframe thead th {\n",
              "        text-align: right;\n",
              "    }\n",
              "</style>\n",
              "<table border=\"1\" class=\"dataframe\">\n",
              "  <thead>\n",
              "    <tr style=\"text-align: right;\">\n",
              "      <th></th>\n",
              "      <th>first</th>\n",
              "      <th>second</th>\n",
              "    </tr>\n",
              "  </thead>\n",
              "  <tbody>\n",
              "    <tr>\n",
              "      <th>0</th>\n",
              "      <td>0.657524</td>\n",
              "      <td>1.315047</td>\n",
              "    </tr>\n",
              "    <tr>\n",
              "      <th>1</th>\n",
              "      <td>0.903047</td>\n",
              "      <td>1.806094</td>\n",
              "    </tr>\n",
              "    <tr>\n",
              "      <th>2</th>\n",
              "      <td>0.561871</td>\n",
              "      <td>1.123742</td>\n",
              "    </tr>\n",
              "    <tr>\n",
              "      <th>3</th>\n",
              "      <td>0.251597</td>\n",
              "      <td>0.503195</td>\n",
              "    </tr>\n",
              "    <tr>\n",
              "      <th>4</th>\n",
              "      <td>0.833607</td>\n",
              "      <td>1.667213</td>\n",
              "    </tr>\n",
              "    <tr>\n",
              "      <th>5</th>\n",
              "      <td>0.380981</td>\n",
              "      <td>0.761961</td>\n",
              "    </tr>\n",
              "    <tr>\n",
              "      <th>6</th>\n",
              "      <td>0.403838</td>\n",
              "      <td>0.807676</td>\n",
              "    </tr>\n",
              "    <tr>\n",
              "      <th>7</th>\n",
              "      <td>0.525121</td>\n",
              "      <td>1.050243</td>\n",
              "    </tr>\n",
              "    <tr>\n",
              "      <th>8</th>\n",
              "      <td>0.020277</td>\n",
              "      <td>0.040554</td>\n",
              "    </tr>\n",
              "  </tbody>\n",
              "</table>\n",
              "</div>"
            ],
            "text/plain": [
              "      first    second\n",
              "0  0.657524  1.315047\n",
              "1  0.903047  1.806094\n",
              "2  0.561871  1.123742\n",
              "3  0.251597  0.503195\n",
              "4  0.833607  1.667213\n",
              "5  0.380981  0.761961\n",
              "6  0.403838  0.807676\n",
              "7  0.525121  1.050243\n",
              "8  0.020277  0.040554"
            ]
          },
          "metadata": {},
          "output_type": "display_data"
        }
      ],
      "source": [
        "frame = pd.DataFrame(s,  columns=['first'])\n",
        "display(frame)\n",
        "frame['second']=frame['first']*2\n",
        "display(frame)\n"
      ]
    },
    {
      "cell_type": "markdown",
      "metadata": {
        "id": "1l_ypZ_Zea8P"
      },
      "source": [
        "## find the output?"
      ]
    },
    {
      "cell_type": "code",
      "execution_count": 111,
      "metadata": {
        "colab": {
          "base_uri": "https://localhost:8080/"
        },
        "id": "VZ_zZ3mezx2m",
        "outputId": "b0a58c56-a76e-4d48-cfe2-b0f3c935c49b"
      },
      "outputs": [
        {
          "name": "stdout",
          "output_type": "stream",
          "text": [
            "          Ohio     Texas  California\n",
            "2001  0.598574  0.492668    0.971234\n",
            "2002  0.734206  0.498811    0.729184\n",
            "2003  0.497516  0.926966    0.443191\n"
          ]
        }
      ],
      "source": [
        "frame1 = pd.DataFrame(s.reshape((3, 3)), index=['2001', '2002', '2003'], columns=['Ohio', 'Texas', 'California'])\n",
        "print(frame1)\n"
      ]
    },
    {
      "cell_type": "markdown",
      "metadata": {
        "id": "XhaTNrX6r3xV"
      },
      "source": [
        "## reindexing uses outer join"
      ]
    },
    {
      "cell_type": "code",
      "execution_count": 112,
      "metadata": {
        "colab": {
          "base_uri": "https://localhost:8080/"
        },
        "id": "oR0m18l4eZuo",
        "outputId": "b45d5a0a-6227-4556-c631-2dc61e573801"
      },
      "outputs": [
        {
          "name": "stdout",
          "output_type": "stream",
          "text": [
            "          Ohio     Texas  California\n",
            "2001  0.598574  0.492668    0.971234\n",
            "2002  0.734206  0.498811    0.729184\n",
            "2004       NaN       NaN         NaN\n",
            "2005       NaN       NaN         NaN\n"
          ]
        }
      ],
      "source": [
        "frame2 = frame1.reindex(['2001', '2002', '2004', '2005'])\n",
        "print(frame2)"
      ]
    },
    {
      "cell_type": "code",
      "execution_count": 113,
      "metadata": {
        "id": "MDJi4iUxeg64"
      },
      "outputs": [],
      "source": [
        "frame1['XXX']=-90\n"
      ]
    },
    {
      "cell_type": "code",
      "execution_count": 103,
      "metadata": {
        "colab": {
          "base_uri": "https://localhost:8080/",
          "height": 141
        },
        "id": "oUZ5wMgX44_U",
        "outputId": "4e1b8484-03e2-4d3f-c8f9-ae2a1aa8572c"
      },
      "outputs": [
        {
          "data": {
            "text/html": [
              "<div>\n",
              "<style scoped>\n",
              "    .dataframe tbody tr th:only-of-type {\n",
              "        vertical-align: middle;\n",
              "    }\n",
              "\n",
              "    .dataframe tbody tr th {\n",
              "        vertical-align: top;\n",
              "    }\n",
              "\n",
              "    .dataframe thead th {\n",
              "        text-align: right;\n",
              "    }\n",
              "</style>\n",
              "<table border=\"1\" class=\"dataframe\">\n",
              "  <thead>\n",
              "    <tr style=\"text-align: right;\">\n",
              "      <th></th>\n",
              "      <th>Maximum</th>\n",
              "      <th>Ohio</th>\n",
              "      <th>Texas</th>\n",
              "      <th>California</th>\n",
              "      <th>XXX</th>\n",
              "      <th>YYYY1</th>\n",
              "    </tr>\n",
              "  </thead>\n",
              "  <tbody>\n",
              "    <tr>\n",
              "      <th>2001</th>\n",
              "      <td>8.0</td>\n",
              "      <td>8.000000</td>\n",
              "      <td>8.000000</td>\n",
              "      <td>8.000000</td>\n",
              "      <td>-90</td>\n",
              "      <td>8.0</td>\n",
              "    </tr>\n",
              "    <tr>\n",
              "      <th>2002</th>\n",
              "      <td>8.0</td>\n",
              "      <td>8.000000</td>\n",
              "      <td>8.000000</td>\n",
              "      <td>8.000000</td>\n",
              "      <td>-90</td>\n",
              "      <td>8.0</td>\n",
              "    </tr>\n",
              "    <tr>\n",
              "      <th>2003</th>\n",
              "      <td>20.0</td>\n",
              "      <td>0.403838</td>\n",
              "      <td>0.525121</td>\n",
              "      <td>0.020277</td>\n",
              "      <td>-90</td>\n",
              "      <td>20.0</td>\n",
              "    </tr>\n",
              "    <tr>\n",
              "      <th>g</th>\n",
              "      <td>10.0</td>\n",
              "      <td>0.000000</td>\n",
              "      <td>2.000000</td>\n",
              "      <td>4.000000</td>\n",
              "      <td>-90</td>\n",
              "      <td>10.0</td>\n",
              "    </tr>\n",
              "    <tr>\n",
              "      <th>g1</th>\n",
              "      <td>10.0</td>\n",
              "      <td>10.000000</td>\n",
              "      <td>3.000000</td>\n",
              "      <td>4.000000</td>\n",
              "      <td>-90</td>\n",
              "      <td>6.0</td>\n",
              "    </tr>\n",
              "  </tbody>\n",
              "</table>\n",
              "</div>"
            ],
            "text/plain": [
              "      Maximum       Ohio     Texas  California  XXX  YYYY1\n",
              "2001      8.0   8.000000  8.000000    8.000000  -90    8.0\n",
              "2002      8.0   8.000000  8.000000    8.000000  -90    8.0\n",
              "2003     20.0   0.403838  0.525121    0.020277  -90   20.0\n",
              "g        10.0   0.000000  2.000000    4.000000  -90   10.0\n",
              "g1       10.0  10.000000  3.000000    4.000000  -90    6.0"
            ]
          },
          "execution_count": 103,
          "metadata": {},
          "output_type": "execute_result"
        }
      ],
      "source": [
        "frame1"
      ]
    },
    {
      "cell_type": "code",
      "execution_count": 114,
      "metadata": {
        "id": "TUROeTCgrpXU"
      },
      "outputs": [],
      "source": [
        "L=[21,20,20]"
      ]
    },
    {
      "cell_type": "markdown",
      "metadata": {
        "id": "-Dd4xtjbsRVq"
      },
      "source": [
        "## inserting a new column at the specified location using list. size of elements in the new coulmn must match so that existing row indexes are used, duplicate columns are allowed"
      ]
    },
    {
      "cell_type": "code",
      "execution_count": 115,
      "metadata": {
        "id": "nvsjMF7yrbtQ"
      },
      "outputs": [],
      "source": [
        "frame1.insert(4, \"YYYY1\", L, True)"
      ]
    },
    {
      "cell_type": "code",
      "execution_count": 106,
      "metadata": {
        "colab": {
          "base_uri": "https://localhost:8080/",
          "height": 141
        },
        "id": "4E6Rd-QpERUl",
        "outputId": "30707469-4437-4577-f949-765278179de2"
      },
      "outputs": [
        {
          "data": {
            "text/html": [
              "<div>\n",
              "<style scoped>\n",
              "    .dataframe tbody tr th:only-of-type {\n",
              "        vertical-align: middle;\n",
              "    }\n",
              "\n",
              "    .dataframe tbody tr th {\n",
              "        vertical-align: top;\n",
              "    }\n",
              "\n",
              "    .dataframe thead th {\n",
              "        text-align: right;\n",
              "    }\n",
              "</style>\n",
              "<table border=\"1\" class=\"dataframe\">\n",
              "  <thead>\n",
              "    <tr style=\"text-align: right;\">\n",
              "      <th></th>\n",
              "      <th>Maximum</th>\n",
              "      <th>Ohio</th>\n",
              "      <th>Texas</th>\n",
              "      <th>California</th>\n",
              "      <th>XXX</th>\n",
              "      <th>YYYY1</th>\n",
              "    </tr>\n",
              "  </thead>\n",
              "  <tbody>\n",
              "    <tr>\n",
              "      <th>2001</th>\n",
              "      <td>8.0</td>\n",
              "      <td>8.000000</td>\n",
              "      <td>8.000000</td>\n",
              "      <td>8.000000</td>\n",
              "      <td>-90</td>\n",
              "      <td>8.0</td>\n",
              "    </tr>\n",
              "    <tr>\n",
              "      <th>2002</th>\n",
              "      <td>8.0</td>\n",
              "      <td>8.000000</td>\n",
              "      <td>8.000000</td>\n",
              "      <td>8.000000</td>\n",
              "      <td>-90</td>\n",
              "      <td>8.0</td>\n",
              "    </tr>\n",
              "    <tr>\n",
              "      <th>2003</th>\n",
              "      <td>20.0</td>\n",
              "      <td>0.403838</td>\n",
              "      <td>0.525121</td>\n",
              "      <td>0.020277</td>\n",
              "      <td>-90</td>\n",
              "      <td>20.0</td>\n",
              "    </tr>\n",
              "    <tr>\n",
              "      <th>g</th>\n",
              "      <td>10.0</td>\n",
              "      <td>0.000000</td>\n",
              "      <td>2.000000</td>\n",
              "      <td>4.000000</td>\n",
              "      <td>-90</td>\n",
              "      <td>10.0</td>\n",
              "    </tr>\n",
              "    <tr>\n",
              "      <th>g1</th>\n",
              "      <td>10.0</td>\n",
              "      <td>10.000000</td>\n",
              "      <td>3.000000</td>\n",
              "      <td>4.000000</td>\n",
              "      <td>-90</td>\n",
              "      <td>6.0</td>\n",
              "    </tr>\n",
              "  </tbody>\n",
              "</table>\n",
              "</div>"
            ],
            "text/plain": [
              "      Maximum       Ohio     Texas  California  XXX  YYYY1\n",
              "2001      8.0   8.000000  8.000000    8.000000  -90    8.0\n",
              "2002      8.0   8.000000  8.000000    8.000000  -90    8.0\n",
              "2003     20.0   0.403838  0.525121    0.020277  -90   20.0\n",
              "g        10.0   0.000000  2.000000    4.000000  -90   10.0\n",
              "g1       10.0  10.000000  3.000000    4.000000  -90    6.0"
            ]
          },
          "execution_count": 106,
          "metadata": {},
          "output_type": "execute_result"
        }
      ],
      "source": [
        "frame1"
      ]
    },
    {
      "cell_type": "markdown",
      "metadata": {
        "id": "Bb4ZwhVXtMmB"
      },
      "source": [
        "## inserting a series as a column. Only common Indexes are (Outer join) used and the remaining indexes of the data frame are assigned None value"
      ]
    },
    {
      "cell_type": "code",
      "execution_count": 116,
      "metadata": {
        "id": "oojtGn1Jsone"
      },
      "outputs": [],
      "source": [
        "s1=pd.Series(np.random.rand(4),dtype=float,index=['a','b','c','d'])"
      ]
    },
    {
      "cell_type": "markdown",
      "metadata": {
        "id": "gnRHZuBIIZfM"
      },
      "source": [
        "## duplicate column names are allowed"
      ]
    },
    {
      "cell_type": "code",
      "execution_count": 117,
      "metadata": {},
      "outputs": [
        {
          "data": {
            "text/plain": [
              "'California'"
            ]
          },
          "execution_count": 117,
          "metadata": {},
          "output_type": "execute_result"
        }
      ],
      "source": [
        "frame1.columns[2]"
      ]
    },
    {
      "cell_type": "code",
      "execution_count": 118,
      "metadata": {
        "id": "K5ReBk0QtALF"
      },
      "outputs": [
        {
          "data": {
            "text/html": [
              "<div>\n",
              "<style scoped>\n",
              "    .dataframe tbody tr th:only-of-type {\n",
              "        vertical-align: middle;\n",
              "    }\n",
              "\n",
              "    .dataframe tbody tr th {\n",
              "        vertical-align: top;\n",
              "    }\n",
              "\n",
              "    .dataframe thead th {\n",
              "        text-align: right;\n",
              "    }\n",
              "</style>\n",
              "<table border=\"1\" class=\"dataframe\">\n",
              "  <thead>\n",
              "    <tr style=\"text-align: right;\">\n",
              "      <th></th>\n",
              "      <th>Ohio</th>\n",
              "      <th>Texas</th>\n",
              "      <th>California</th>\n",
              "      <th>YYYY</th>\n",
              "      <th>XXX</th>\n",
              "      <th>YYYY1</th>\n",
              "    </tr>\n",
              "  </thead>\n",
              "  <tbody>\n",
              "    <tr>\n",
              "      <th>2001</th>\n",
              "      <td>0.598574</td>\n",
              "      <td>0.492668</td>\n",
              "      <td>0.971234</td>\n",
              "      <td>21</td>\n",
              "      <td>-90</td>\n",
              "      <td>21</td>\n",
              "    </tr>\n",
              "    <tr>\n",
              "      <th>2002</th>\n",
              "      <td>0.734206</td>\n",
              "      <td>0.498811</td>\n",
              "      <td>0.729184</td>\n",
              "      <td>20</td>\n",
              "      <td>-90</td>\n",
              "      <td>20</td>\n",
              "    </tr>\n",
              "    <tr>\n",
              "      <th>2003</th>\n",
              "      <td>0.497516</td>\n",
              "      <td>0.926966</td>\n",
              "      <td>0.443191</td>\n",
              "      <td>20</td>\n",
              "      <td>-90</td>\n",
              "      <td>20</td>\n",
              "    </tr>\n",
              "  </tbody>\n",
              "</table>\n",
              "</div>"
            ],
            "text/plain": [
              "          Ohio     Texas  California  YYYY  XXX  YYYY1\n",
              "2001  0.598574  0.492668    0.971234    21  -90     21\n",
              "2002  0.734206  0.498811    0.729184    20  -90     20\n",
              "2003  0.497516  0.926966    0.443191    20  -90     20"
            ]
          },
          "execution_count": 118,
          "metadata": {},
          "output_type": "execute_result"
        }
      ],
      "source": [
        "frame1.insert(3, \"YYYY\", L, True)\n",
        "frame1"
      ]
    },
    {
      "cell_type": "code",
      "execution_count": 119,
      "metadata": {
        "colab": {
          "base_uri": "https://localhost:8080/",
          "height": 141
        },
        "id": "uu0TDwEh6SB-",
        "outputId": "e93a5376-ba93-4c13-db8c-50bc4b40dd43"
      },
      "outputs": [
        {
          "data": {
            "text/html": [
              "<div>\n",
              "<style scoped>\n",
              "    .dataframe tbody tr th:only-of-type {\n",
              "        vertical-align: middle;\n",
              "    }\n",
              "\n",
              "    .dataframe tbody tr th {\n",
              "        vertical-align: top;\n",
              "    }\n",
              "\n",
              "    .dataframe thead th {\n",
              "        text-align: right;\n",
              "    }\n",
              "</style>\n",
              "<table border=\"1\" class=\"dataframe\">\n",
              "  <thead>\n",
              "    <tr style=\"text-align: right;\">\n",
              "      <th></th>\n",
              "      <th>Ohio</th>\n",
              "      <th>Texas</th>\n",
              "      <th>California</th>\n",
              "      <th>YYYY</th>\n",
              "      <th>XXX</th>\n",
              "      <th>YYYY1</th>\n",
              "    </tr>\n",
              "  </thead>\n",
              "  <tbody>\n",
              "    <tr>\n",
              "      <th>2001</th>\n",
              "      <td>0.598574</td>\n",
              "      <td>0.492668</td>\n",
              "      <td>0.971234</td>\n",
              "      <td>21</td>\n",
              "      <td>-90</td>\n",
              "      <td>21</td>\n",
              "    </tr>\n",
              "    <tr>\n",
              "      <th>2002</th>\n",
              "      <td>0.734206</td>\n",
              "      <td>0.498811</td>\n",
              "      <td>0.729184</td>\n",
              "      <td>20</td>\n",
              "      <td>-90</td>\n",
              "      <td>20</td>\n",
              "    </tr>\n",
              "    <tr>\n",
              "      <th>2003</th>\n",
              "      <td>0.497516</td>\n",
              "      <td>0.926966</td>\n",
              "      <td>0.443191</td>\n",
              "      <td>20</td>\n",
              "      <td>-90</td>\n",
              "      <td>20</td>\n",
              "    </tr>\n",
              "  </tbody>\n",
              "</table>\n",
              "</div>"
            ],
            "text/plain": [
              "          Ohio     Texas  California  YYYY  XXX  YYYY1\n",
              "2001  0.598574  0.492668    0.971234    21  -90     21\n",
              "2002  0.734206  0.498811    0.729184    20  -90     20\n",
              "2003  0.497516  0.926966    0.443191    20  -90     20"
            ]
          },
          "execution_count": 119,
          "metadata": {},
          "output_type": "execute_result"
        }
      ],
      "source": [
        "frame1"
      ]
    },
    {
      "cell_type": "markdown",
      "metadata": {
        "id": "tbPbuqvtyIjh"
      },
      "source": [
        "## appending rows in data frame1. in-place change\n"
      ]
    },
    {
      "cell_type": "code",
      "execution_count": 120,
      "metadata": {
        "id": "cmbtCOHcyDYV"
      },
      "outputs": [],
      "source": [
        "frame1.loc['g']=range(0,len(frame1.columns)*2,2)"
      ]
    },
    {
      "cell_type": "code",
      "execution_count": 121,
      "metadata": {
        "colab": {
          "base_uri": "https://localhost:8080/",
          "height": 172
        },
        "id": "LMUo-3P4yaVd",
        "outputId": "e9895baf-2adc-48f3-cc07-00c66f18903a"
      },
      "outputs": [
        {
          "data": {
            "text/html": [
              "<div>\n",
              "<style scoped>\n",
              "    .dataframe tbody tr th:only-of-type {\n",
              "        vertical-align: middle;\n",
              "    }\n",
              "\n",
              "    .dataframe tbody tr th {\n",
              "        vertical-align: top;\n",
              "    }\n",
              "\n",
              "    .dataframe thead th {\n",
              "        text-align: right;\n",
              "    }\n",
              "</style>\n",
              "<table border=\"1\" class=\"dataframe\">\n",
              "  <thead>\n",
              "    <tr style=\"text-align: right;\">\n",
              "      <th></th>\n",
              "      <th>Ohio</th>\n",
              "      <th>Texas</th>\n",
              "      <th>California</th>\n",
              "      <th>YYYY</th>\n",
              "      <th>XXX</th>\n",
              "      <th>YYYY1</th>\n",
              "    </tr>\n",
              "  </thead>\n",
              "  <tbody>\n",
              "    <tr>\n",
              "      <th>2001</th>\n",
              "      <td>0.598574</td>\n",
              "      <td>0.492668</td>\n",
              "      <td>0.971234</td>\n",
              "      <td>21</td>\n",
              "      <td>-90</td>\n",
              "      <td>21</td>\n",
              "    </tr>\n",
              "    <tr>\n",
              "      <th>2002</th>\n",
              "      <td>0.734206</td>\n",
              "      <td>0.498811</td>\n",
              "      <td>0.729184</td>\n",
              "      <td>20</td>\n",
              "      <td>-90</td>\n",
              "      <td>20</td>\n",
              "    </tr>\n",
              "    <tr>\n",
              "      <th>2003</th>\n",
              "      <td>0.497516</td>\n",
              "      <td>0.926966</td>\n",
              "      <td>0.443191</td>\n",
              "      <td>20</td>\n",
              "      <td>-90</td>\n",
              "      <td>20</td>\n",
              "    </tr>\n",
              "    <tr>\n",
              "      <th>g</th>\n",
              "      <td>0.000000</td>\n",
              "      <td>2.000000</td>\n",
              "      <td>4.000000</td>\n",
              "      <td>6</td>\n",
              "      <td>8</td>\n",
              "      <td>10</td>\n",
              "    </tr>\n",
              "  </tbody>\n",
              "</table>\n",
              "</div>"
            ],
            "text/plain": [
              "          Ohio     Texas  California  YYYY  XXX  YYYY1\n",
              "2001  0.598574  0.492668    0.971234    21  -90     21\n",
              "2002  0.734206  0.498811    0.729184    20  -90     20\n",
              "2003  0.497516  0.926966    0.443191    20  -90     20\n",
              "g     0.000000  2.000000    4.000000     6    8     10"
            ]
          },
          "execution_count": 121,
          "metadata": {},
          "output_type": "execute_result"
        }
      ],
      "source": [
        "frame1"
      ]
    },
    {
      "cell_type": "markdown",
      "metadata": {},
      "source": [
        "## Find total of each column and add as last row"
      ]
    },
    {
      "cell_type": "code",
      "execution_count": 122,
      "metadata": {},
      "outputs": [],
      "source": [
        "s1=frame1.sum()\n",
        "s1.name='total'"
      ]
    },
    {
      "cell_type": "code",
      "execution_count": 123,
      "metadata": {},
      "outputs": [
        {
          "name": "stderr",
          "output_type": "stream",
          "text": [
            "C:\\Users\\keshav\\AppData\\Local\\Temp\\ipykernel_7648\\3913218282.py:1: FutureWarning: The frame.append method is deprecated and will be removed from pandas in a future version. Use pandas.concat instead.\n",
            "  frame1.append(s1)\n"
          ]
        },
        {
          "data": {
            "text/html": [
              "<div>\n",
              "<style scoped>\n",
              "    .dataframe tbody tr th:only-of-type {\n",
              "        vertical-align: middle;\n",
              "    }\n",
              "\n",
              "    .dataframe tbody tr th {\n",
              "        vertical-align: top;\n",
              "    }\n",
              "\n",
              "    .dataframe thead th {\n",
              "        text-align: right;\n",
              "    }\n",
              "</style>\n",
              "<table border=\"1\" class=\"dataframe\">\n",
              "  <thead>\n",
              "    <tr style=\"text-align: right;\">\n",
              "      <th></th>\n",
              "      <th>Ohio</th>\n",
              "      <th>Texas</th>\n",
              "      <th>California</th>\n",
              "      <th>YYYY</th>\n",
              "      <th>XXX</th>\n",
              "      <th>YYYY1</th>\n",
              "    </tr>\n",
              "  </thead>\n",
              "  <tbody>\n",
              "    <tr>\n",
              "      <th>2001</th>\n",
              "      <td>0.598574</td>\n",
              "      <td>0.492668</td>\n",
              "      <td>0.971234</td>\n",
              "      <td>21.0</td>\n",
              "      <td>-90.0</td>\n",
              "      <td>21.0</td>\n",
              "    </tr>\n",
              "    <tr>\n",
              "      <th>2002</th>\n",
              "      <td>0.734206</td>\n",
              "      <td>0.498811</td>\n",
              "      <td>0.729184</td>\n",
              "      <td>20.0</td>\n",
              "      <td>-90.0</td>\n",
              "      <td>20.0</td>\n",
              "    </tr>\n",
              "    <tr>\n",
              "      <th>2003</th>\n",
              "      <td>0.497516</td>\n",
              "      <td>0.926966</td>\n",
              "      <td>0.443191</td>\n",
              "      <td>20.0</td>\n",
              "      <td>-90.0</td>\n",
              "      <td>20.0</td>\n",
              "    </tr>\n",
              "    <tr>\n",
              "      <th>g</th>\n",
              "      <td>0.000000</td>\n",
              "      <td>2.000000</td>\n",
              "      <td>4.000000</td>\n",
              "      <td>6.0</td>\n",
              "      <td>8.0</td>\n",
              "      <td>10.0</td>\n",
              "    </tr>\n",
              "    <tr>\n",
              "      <th>total</th>\n",
              "      <td>1.830296</td>\n",
              "      <td>3.918445</td>\n",
              "      <td>6.143609</td>\n",
              "      <td>67.0</td>\n",
              "      <td>-262.0</td>\n",
              "      <td>71.0</td>\n",
              "    </tr>\n",
              "  </tbody>\n",
              "</table>\n",
              "</div>"
            ],
            "text/plain": [
              "           Ohio     Texas  California  YYYY    XXX  YYYY1\n",
              "2001   0.598574  0.492668    0.971234  21.0  -90.0   21.0\n",
              "2002   0.734206  0.498811    0.729184  20.0  -90.0   20.0\n",
              "2003   0.497516  0.926966    0.443191  20.0  -90.0   20.0\n",
              "g      0.000000  2.000000    4.000000   6.0    8.0   10.0\n",
              "total  1.830296  3.918445    6.143609  67.0 -262.0   71.0"
            ]
          },
          "execution_count": 123,
          "metadata": {},
          "output_type": "execute_result"
        }
      ],
      "source": [
        "frame1.append(s1)"
      ]
    },
    {
      "cell_type": "code",
      "execution_count": 124,
      "metadata": {},
      "outputs": [
        {
          "data": {
            "text/html": [
              "<div>\n",
              "<style scoped>\n",
              "    .dataframe tbody tr th:only-of-type {\n",
              "        vertical-align: middle;\n",
              "    }\n",
              "\n",
              "    .dataframe tbody tr th {\n",
              "        vertical-align: top;\n",
              "    }\n",
              "\n",
              "    .dataframe thead th {\n",
              "        text-align: right;\n",
              "    }\n",
              "</style>\n",
              "<table border=\"1\" class=\"dataframe\">\n",
              "  <thead>\n",
              "    <tr style=\"text-align: right;\">\n",
              "      <th></th>\n",
              "      <th>Ohio</th>\n",
              "      <th>Texas</th>\n",
              "      <th>California</th>\n",
              "      <th>YYYY</th>\n",
              "      <th>XXX</th>\n",
              "      <th>YYYY1</th>\n",
              "    </tr>\n",
              "  </thead>\n",
              "  <tbody>\n",
              "    <tr>\n",
              "      <th>2001</th>\n",
              "      <td>0.598574</td>\n",
              "      <td>0.492668</td>\n",
              "      <td>0.971234</td>\n",
              "      <td>21</td>\n",
              "      <td>-90</td>\n",
              "      <td>21</td>\n",
              "    </tr>\n",
              "    <tr>\n",
              "      <th>2002</th>\n",
              "      <td>0.734206</td>\n",
              "      <td>0.498811</td>\n",
              "      <td>0.729184</td>\n",
              "      <td>20</td>\n",
              "      <td>-90</td>\n",
              "      <td>20</td>\n",
              "    </tr>\n",
              "    <tr>\n",
              "      <th>2003</th>\n",
              "      <td>0.497516</td>\n",
              "      <td>0.926966</td>\n",
              "      <td>0.443191</td>\n",
              "      <td>20</td>\n",
              "      <td>-90</td>\n",
              "      <td>20</td>\n",
              "    </tr>\n",
              "    <tr>\n",
              "      <th>g</th>\n",
              "      <td>0.000000</td>\n",
              "      <td>2.000000</td>\n",
              "      <td>4.000000</td>\n",
              "      <td>6</td>\n",
              "      <td>8</td>\n",
              "      <td>10</td>\n",
              "    </tr>\n",
              "  </tbody>\n",
              "</table>\n",
              "</div>"
            ],
            "text/plain": [
              "          Ohio     Texas  California  YYYY  XXX  YYYY1\n",
              "2001  0.598574  0.492668    0.971234    21  -90     21\n",
              "2002  0.734206  0.498811    0.729184    20  -90     20\n",
              "2003  0.497516  0.926966    0.443191    20  -90     20\n",
              "g     0.000000  2.000000    4.000000     6    8     10"
            ]
          },
          "execution_count": 124,
          "metadata": {},
          "output_type": "execute_result"
        }
      ],
      "source": [
        "frame1"
      ]
    },
    {
      "cell_type": "markdown",
      "metadata": {
        "id": "nPgVnWLYye6J"
      },
      "source": [
        "## adding row thru appending"
      ]
    },
    {
      "cell_type": "code",
      "execution_count": 125,
      "metadata": {
        "id": "PAigeb83yk5Q"
      },
      "outputs": [],
      "source": [
        "labels=frame1.columns\n",
        "l=len(frame1.columns)"
      ]
    },
    {
      "cell_type": "code",
      "execution_count": 126,
      "metadata": {
        "colab": {
          "base_uri": "https://localhost:8080/"
        },
        "id": "VKXgx0L8yoRi",
        "outputId": "41b7d158-a129-4ecd-b925-92552c0bd94e"
      },
      "outputs": [
        {
          "data": {
            "text/plain": [
              "Ohio          2.738306\n",
              "Texas         1.427421\n",
              "California    0.889843\n",
              "YYYY          1.901296\n",
              "XXX           1.464135\n",
              "YYYY1         2.907108\n",
              "Name: bb, dtype: float64"
            ]
          },
          "execution_count": 126,
          "metadata": {},
          "output_type": "execute_result"
        }
      ],
      "source": [
        "s1=pd.Series(3*np.random.rand(l),dtype=float,index=labels)\n",
        "s1.name='bb'\n",
        "s1"
      ]
    },
    {
      "cell_type": "code",
      "execution_count": 127,
      "metadata": {
        "colab": {
          "base_uri": "https://localhost:8080/",
          "height": 172
        },
        "id": "sJHWj14CFEpG",
        "outputId": "ccf8be94-89a2-46a0-8baa-afb833b19fb4"
      },
      "outputs": [
        {
          "data": {
            "text/html": [
              "<div>\n",
              "<style scoped>\n",
              "    .dataframe tbody tr th:only-of-type {\n",
              "        vertical-align: middle;\n",
              "    }\n",
              "\n",
              "    .dataframe tbody tr th {\n",
              "        vertical-align: top;\n",
              "    }\n",
              "\n",
              "    .dataframe thead th {\n",
              "        text-align: right;\n",
              "    }\n",
              "</style>\n",
              "<table border=\"1\" class=\"dataframe\">\n",
              "  <thead>\n",
              "    <tr style=\"text-align: right;\">\n",
              "      <th></th>\n",
              "      <th>first</th>\n",
              "      <th>second</th>\n",
              "    </tr>\n",
              "  </thead>\n",
              "  <tbody>\n",
              "    <tr>\n",
              "      <th>0</th>\n",
              "      <td>0.657524</td>\n",
              "      <td>1.315047</td>\n",
              "    </tr>\n",
              "    <tr>\n",
              "      <th>1</th>\n",
              "      <td>0.903047</td>\n",
              "      <td>1.806094</td>\n",
              "    </tr>\n",
              "    <tr>\n",
              "      <th>2</th>\n",
              "      <td>0.561871</td>\n",
              "      <td>1.123742</td>\n",
              "    </tr>\n",
              "    <tr>\n",
              "      <th>3</th>\n",
              "      <td>0.251597</td>\n",
              "      <td>0.503195</td>\n",
              "    </tr>\n",
              "    <tr>\n",
              "      <th>4</th>\n",
              "      <td>0.833607</td>\n",
              "      <td>1.667213</td>\n",
              "    </tr>\n",
              "    <tr>\n",
              "      <th>5</th>\n",
              "      <td>0.380981</td>\n",
              "      <td>0.761961</td>\n",
              "    </tr>\n",
              "    <tr>\n",
              "      <th>6</th>\n",
              "      <td>0.403838</td>\n",
              "      <td>0.807676</td>\n",
              "    </tr>\n",
              "    <tr>\n",
              "      <th>7</th>\n",
              "      <td>0.525121</td>\n",
              "      <td>1.050243</td>\n",
              "    </tr>\n",
              "    <tr>\n",
              "      <th>8</th>\n",
              "      <td>0.020277</td>\n",
              "      <td>0.040554</td>\n",
              "    </tr>\n",
              "  </tbody>\n",
              "</table>\n",
              "</div>"
            ],
            "text/plain": [
              "      first    second\n",
              "0  0.657524  1.315047\n",
              "1  0.903047  1.806094\n",
              "2  0.561871  1.123742\n",
              "3  0.251597  0.503195\n",
              "4  0.833607  1.667213\n",
              "5  0.380981  0.761961\n",
              "6  0.403838  0.807676\n",
              "7  0.525121  1.050243\n",
              "8  0.020277  0.040554"
            ]
          },
          "execution_count": 127,
          "metadata": {},
          "output_type": "execute_result"
        }
      ],
      "source": [
        "frame"
      ]
    },
    {
      "cell_type": "markdown",
      "metadata": {
        "id": "SO5qB1OpzlbC"
      },
      "source": [
        "## append() does not do in-place change"
      ]
    },
    {
      "cell_type": "code",
      "execution_count": 128,
      "metadata": {
        "colab": {
          "base_uri": "https://localhost:8080/",
          "height": 204
        },
        "id": "LCb96IJ1y3o7",
        "outputId": "1806ff80-3a73-4d0d-c04e-b35d9ef5438a"
      },
      "outputs": [
        {
          "name": "stderr",
          "output_type": "stream",
          "text": [
            "C:\\Users\\keshav\\AppData\\Local\\Temp\\ipykernel_7648\\3913218282.py:1: FutureWarning: The frame.append method is deprecated and will be removed from pandas in a future version. Use pandas.concat instead.\n",
            "  frame1.append(s1)\n"
          ]
        },
        {
          "data": {
            "text/html": [
              "<div>\n",
              "<style scoped>\n",
              "    .dataframe tbody tr th:only-of-type {\n",
              "        vertical-align: middle;\n",
              "    }\n",
              "\n",
              "    .dataframe tbody tr th {\n",
              "        vertical-align: top;\n",
              "    }\n",
              "\n",
              "    .dataframe thead th {\n",
              "        text-align: right;\n",
              "    }\n",
              "</style>\n",
              "<table border=\"1\" class=\"dataframe\">\n",
              "  <thead>\n",
              "    <tr style=\"text-align: right;\">\n",
              "      <th></th>\n",
              "      <th>Ohio</th>\n",
              "      <th>Texas</th>\n",
              "      <th>California</th>\n",
              "      <th>YYYY</th>\n",
              "      <th>XXX</th>\n",
              "      <th>YYYY1</th>\n",
              "    </tr>\n",
              "  </thead>\n",
              "  <tbody>\n",
              "    <tr>\n",
              "      <th>2001</th>\n",
              "      <td>0.598574</td>\n",
              "      <td>0.492668</td>\n",
              "      <td>0.971234</td>\n",
              "      <td>21.000000</td>\n",
              "      <td>-90.000000</td>\n",
              "      <td>21.000000</td>\n",
              "    </tr>\n",
              "    <tr>\n",
              "      <th>2002</th>\n",
              "      <td>0.734206</td>\n",
              "      <td>0.498811</td>\n",
              "      <td>0.729184</td>\n",
              "      <td>20.000000</td>\n",
              "      <td>-90.000000</td>\n",
              "      <td>20.000000</td>\n",
              "    </tr>\n",
              "    <tr>\n",
              "      <th>2003</th>\n",
              "      <td>0.497516</td>\n",
              "      <td>0.926966</td>\n",
              "      <td>0.443191</td>\n",
              "      <td>20.000000</td>\n",
              "      <td>-90.000000</td>\n",
              "      <td>20.000000</td>\n",
              "    </tr>\n",
              "    <tr>\n",
              "      <th>g</th>\n",
              "      <td>0.000000</td>\n",
              "      <td>2.000000</td>\n",
              "      <td>4.000000</td>\n",
              "      <td>6.000000</td>\n",
              "      <td>8.000000</td>\n",
              "      <td>10.000000</td>\n",
              "    </tr>\n",
              "    <tr>\n",
              "      <th>bb</th>\n",
              "      <td>2.738306</td>\n",
              "      <td>1.427421</td>\n",
              "      <td>0.889843</td>\n",
              "      <td>1.901296</td>\n",
              "      <td>1.464135</td>\n",
              "      <td>2.907108</td>\n",
              "    </tr>\n",
              "  </tbody>\n",
              "</table>\n",
              "</div>"
            ],
            "text/plain": [
              "          Ohio     Texas  California       YYYY        XXX      YYYY1\n",
              "2001  0.598574  0.492668    0.971234  21.000000 -90.000000  21.000000\n",
              "2002  0.734206  0.498811    0.729184  20.000000 -90.000000  20.000000\n",
              "2003  0.497516  0.926966    0.443191  20.000000 -90.000000  20.000000\n",
              "g     0.000000  2.000000    4.000000   6.000000   8.000000  10.000000\n",
              "bb    2.738306  1.427421    0.889843   1.901296   1.464135   2.907108"
            ]
          },
          "execution_count": 128,
          "metadata": {},
          "output_type": "execute_result"
        }
      ],
      "source": [
        "frame1.append(s1)"
      ]
    },
    {
      "cell_type": "markdown",
      "metadata": {},
      "source": [
        "## dropping all columns with same name"
      ]
    },
    {
      "cell_type": "code",
      "execution_count": 130,
      "metadata": {
        "id": "LOBjJWgizadw"
      },
      "outputs": [
        {
          "data": {
            "text/html": [
              "<div>\n",
              "<style scoped>\n",
              "    .dataframe tbody tr th:only-of-type {\n",
              "        vertical-align: middle;\n",
              "    }\n",
              "\n",
              "    .dataframe tbody tr th {\n",
              "        vertical-align: top;\n",
              "    }\n",
              "\n",
              "    .dataframe thead th {\n",
              "        text-align: right;\n",
              "    }\n",
              "</style>\n",
              "<table border=\"1\" class=\"dataframe\">\n",
              "  <thead>\n",
              "    <tr style=\"text-align: right;\">\n",
              "      <th></th>\n",
              "      <th>Ohio</th>\n",
              "      <th>Texas</th>\n",
              "      <th>California</th>\n",
              "      <th>XXX</th>\n",
              "      <th>YYYY1</th>\n",
              "    </tr>\n",
              "  </thead>\n",
              "  <tbody>\n",
              "    <tr>\n",
              "      <th>2001</th>\n",
              "      <td>0.598574</td>\n",
              "      <td>0.492668</td>\n",
              "      <td>0.971234</td>\n",
              "      <td>-90</td>\n",
              "      <td>21</td>\n",
              "    </tr>\n",
              "    <tr>\n",
              "      <th>2002</th>\n",
              "      <td>0.734206</td>\n",
              "      <td>0.498811</td>\n",
              "      <td>0.729184</td>\n",
              "      <td>-90</td>\n",
              "      <td>20</td>\n",
              "    </tr>\n",
              "    <tr>\n",
              "      <th>2003</th>\n",
              "      <td>0.497516</td>\n",
              "      <td>0.926966</td>\n",
              "      <td>0.443191</td>\n",
              "      <td>-90</td>\n",
              "      <td>20</td>\n",
              "    </tr>\n",
              "    <tr>\n",
              "      <th>g</th>\n",
              "      <td>0.000000</td>\n",
              "      <td>2.000000</td>\n",
              "      <td>4.000000</td>\n",
              "      <td>8</td>\n",
              "      <td>10</td>\n",
              "    </tr>\n",
              "  </tbody>\n",
              "</table>\n",
              "</div>"
            ],
            "text/plain": [
              "          Ohio     Texas  California  XXX  YYYY1\n",
              "2001  0.598574  0.492668    0.971234  -90     21\n",
              "2002  0.734206  0.498811    0.729184  -90     20\n",
              "2003  0.497516  0.926966    0.443191  -90     20\n",
              "g     0.000000  2.000000    4.000000    8     10"
            ]
          },
          "metadata": {},
          "output_type": "display_data"
        },
        {
          "ename": "KeyError",
          "evalue": "\"['YYYY'] not found in axis\"",
          "output_type": "error",
          "traceback": [
            "\u001b[1;31m---------------------------------------------------------------------------\u001b[0m",
            "\u001b[1;31mKeyError\u001b[0m                                  Traceback (most recent call last)",
            "\u001b[1;32mc:\\Users\\keshav\\Semester5\\DAV\\studyMaterial\\unit2-dataframe2.ipynb Cell 37\u001b[0m in \u001b[0;36m<cell line: 3>\u001b[1;34m()\u001b[0m\n\u001b[0;32m      <a href='vscode-notebook-cell:/c%3A/Users/keshav/Semester5/DAV/studyMaterial/unit2-dataframe2.ipynb#X51sZmlsZQ%3D%3D?line=0'>1</a>\u001b[0m display(frame1)\n\u001b[1;32m----> <a href='vscode-notebook-cell:/c%3A/Users/keshav/Semester5/DAV/studyMaterial/unit2-dataframe2.ipynb#X51sZmlsZQ%3D%3D?line=2'>3</a>\u001b[0m frame1\u001b[39m.\u001b[39;49mdrop(\u001b[39m\"\u001b[39;49m\u001b[39mYYYY\u001b[39;49m\u001b[39m\"\u001b[39;49m,axis\u001b[39m=\u001b[39;49m\u001b[39m1\u001b[39;49m,inplace\u001b[39m=\u001b[39;49m\u001b[39mTrue\u001b[39;49;00m)\n\u001b[0;32m      <a href='vscode-notebook-cell:/c%3A/Users/keshav/Semester5/DAV/studyMaterial/unit2-dataframe2.ipynb#X51sZmlsZQ%3D%3D?line=3'>4</a>\u001b[0m display(frame1)\n",
            "File \u001b[1;32mc:\\Users\\keshav\\Python3.9.5\\lib\\site-packages\\pandas\\util\\_decorators.py:311\u001b[0m, in \u001b[0;36mdeprecate_nonkeyword_arguments.<locals>.decorate.<locals>.wrapper\u001b[1;34m(*args, **kwargs)\u001b[0m\n\u001b[0;32m    305\u001b[0m \u001b[39mif\u001b[39;00m \u001b[39mlen\u001b[39m(args) \u001b[39m>\u001b[39m num_allow_args:\n\u001b[0;32m    306\u001b[0m     warnings\u001b[39m.\u001b[39mwarn(\n\u001b[0;32m    307\u001b[0m         msg\u001b[39m.\u001b[39mformat(arguments\u001b[39m=\u001b[39marguments),\n\u001b[0;32m    308\u001b[0m         \u001b[39mFutureWarning\u001b[39;00m,\n\u001b[0;32m    309\u001b[0m         stacklevel\u001b[39m=\u001b[39mstacklevel,\n\u001b[0;32m    310\u001b[0m     )\n\u001b[1;32m--> 311\u001b[0m \u001b[39mreturn\u001b[39;00m func(\u001b[39m*\u001b[39margs, \u001b[39m*\u001b[39m\u001b[39m*\u001b[39mkwargs)\n",
            "File \u001b[1;32mc:\\Users\\keshav\\Python3.9.5\\lib\\site-packages\\pandas\\core\\frame.py:4954\u001b[0m, in \u001b[0;36mDataFrame.drop\u001b[1;34m(self, labels, axis, index, columns, level, inplace, errors)\u001b[0m\n\u001b[0;32m   4806\u001b[0m \u001b[39m@deprecate_nonkeyword_arguments\u001b[39m(version\u001b[39m=\u001b[39m\u001b[39mNone\u001b[39;00m, allowed_args\u001b[39m=\u001b[39m[\u001b[39m\"\u001b[39m\u001b[39mself\u001b[39m\u001b[39m\"\u001b[39m, \u001b[39m\"\u001b[39m\u001b[39mlabels\u001b[39m\u001b[39m\"\u001b[39m])\n\u001b[0;32m   4807\u001b[0m \u001b[39mdef\u001b[39;00m \u001b[39mdrop\u001b[39m(\n\u001b[0;32m   4808\u001b[0m     \u001b[39mself\u001b[39m,\n\u001b[1;32m   (...)\u001b[0m\n\u001b[0;32m   4815\u001b[0m     errors: \u001b[39mstr\u001b[39m \u001b[39m=\u001b[39m \u001b[39m\"\u001b[39m\u001b[39mraise\u001b[39m\u001b[39m\"\u001b[39m,\n\u001b[0;32m   4816\u001b[0m ):\n\u001b[0;32m   4817\u001b[0m     \u001b[39m\"\"\"\u001b[39;00m\n\u001b[0;32m   4818\u001b[0m \u001b[39m    Drop specified labels from rows or columns.\u001b[39;00m\n\u001b[0;32m   4819\u001b[0m \n\u001b[1;32m   (...)\u001b[0m\n\u001b[0;32m   4952\u001b[0m \u001b[39m            weight  1.0     0.8\u001b[39;00m\n\u001b[0;32m   4953\u001b[0m \u001b[39m    \"\"\"\u001b[39;00m\n\u001b[1;32m-> 4954\u001b[0m     \u001b[39mreturn\u001b[39;00m \u001b[39msuper\u001b[39;49m()\u001b[39m.\u001b[39;49mdrop(\n\u001b[0;32m   4955\u001b[0m         labels\u001b[39m=\u001b[39;49mlabels,\n\u001b[0;32m   4956\u001b[0m         axis\u001b[39m=\u001b[39;49maxis,\n\u001b[0;32m   4957\u001b[0m         index\u001b[39m=\u001b[39;49mindex,\n\u001b[0;32m   4958\u001b[0m         columns\u001b[39m=\u001b[39;49mcolumns,\n\u001b[0;32m   4959\u001b[0m         level\u001b[39m=\u001b[39;49mlevel,\n\u001b[0;32m   4960\u001b[0m         inplace\u001b[39m=\u001b[39;49minplace,\n\u001b[0;32m   4961\u001b[0m         errors\u001b[39m=\u001b[39;49merrors,\n\u001b[0;32m   4962\u001b[0m     )\n",
            "File \u001b[1;32mc:\\Users\\keshav\\Python3.9.5\\lib\\site-packages\\pandas\\core\\generic.py:4267\u001b[0m, in \u001b[0;36mNDFrame.drop\u001b[1;34m(self, labels, axis, index, columns, level, inplace, errors)\u001b[0m\n\u001b[0;32m   4265\u001b[0m \u001b[39mfor\u001b[39;00m axis, labels \u001b[39min\u001b[39;00m axes\u001b[39m.\u001b[39mitems():\n\u001b[0;32m   4266\u001b[0m     \u001b[39mif\u001b[39;00m labels \u001b[39mis\u001b[39;00m \u001b[39mnot\u001b[39;00m \u001b[39mNone\u001b[39;00m:\n\u001b[1;32m-> 4267\u001b[0m         obj \u001b[39m=\u001b[39m obj\u001b[39m.\u001b[39;49m_drop_axis(labels, axis, level\u001b[39m=\u001b[39;49mlevel, errors\u001b[39m=\u001b[39;49merrors)\n\u001b[0;32m   4269\u001b[0m \u001b[39mif\u001b[39;00m inplace:\n\u001b[0;32m   4270\u001b[0m     \u001b[39mself\u001b[39m\u001b[39m.\u001b[39m_update_inplace(obj)\n",
            "File \u001b[1;32mc:\\Users\\keshav\\Python3.9.5\\lib\\site-packages\\pandas\\core\\generic.py:4311\u001b[0m, in \u001b[0;36mNDFrame._drop_axis\u001b[1;34m(self, labels, axis, level, errors, consolidate, only_slice)\u001b[0m\n\u001b[0;32m   4309\u001b[0m         new_axis \u001b[39m=\u001b[39m axis\u001b[39m.\u001b[39mdrop(labels, level\u001b[39m=\u001b[39mlevel, errors\u001b[39m=\u001b[39merrors)\n\u001b[0;32m   4310\u001b[0m     \u001b[39melse\u001b[39;00m:\n\u001b[1;32m-> 4311\u001b[0m         new_axis \u001b[39m=\u001b[39m axis\u001b[39m.\u001b[39;49mdrop(labels, errors\u001b[39m=\u001b[39;49merrors)\n\u001b[0;32m   4312\u001b[0m     indexer \u001b[39m=\u001b[39m axis\u001b[39m.\u001b[39mget_indexer(new_axis)\n\u001b[0;32m   4314\u001b[0m \u001b[39m# Case for non-unique axis\u001b[39;00m\n\u001b[0;32m   4315\u001b[0m \u001b[39melse\u001b[39;00m:\n",
            "File \u001b[1;32mc:\\Users\\keshav\\Python3.9.5\\lib\\site-packages\\pandas\\core\\indexes\\base.py:6644\u001b[0m, in \u001b[0;36mIndex.drop\u001b[1;34m(self, labels, errors)\u001b[0m\n\u001b[0;32m   6642\u001b[0m \u001b[39mif\u001b[39;00m mask\u001b[39m.\u001b[39many():\n\u001b[0;32m   6643\u001b[0m     \u001b[39mif\u001b[39;00m errors \u001b[39m!=\u001b[39m \u001b[39m\"\u001b[39m\u001b[39mignore\u001b[39m\u001b[39m\"\u001b[39m:\n\u001b[1;32m-> 6644\u001b[0m         \u001b[39mraise\u001b[39;00m \u001b[39mKeyError\u001b[39;00m(\u001b[39mf\u001b[39m\u001b[39m\"\u001b[39m\u001b[39m{\u001b[39;00m\u001b[39mlist\u001b[39m(labels[mask])\u001b[39m}\u001b[39;00m\u001b[39m not found in axis\u001b[39m\u001b[39m\"\u001b[39m)\n\u001b[0;32m   6645\u001b[0m     indexer \u001b[39m=\u001b[39m indexer[\u001b[39m~\u001b[39mmask]\n\u001b[0;32m   6646\u001b[0m \u001b[39mreturn\u001b[39;00m \u001b[39mself\u001b[39m\u001b[39m.\u001b[39mdelete(indexer)\n",
            "\u001b[1;31mKeyError\u001b[0m: \"['YYYY'] not found in axis\""
          ]
        }
      ],
      "source": [
        "display(frame1)\n",
        "\n",
        "frame1.drop(\"YYYY\",axis=1,inplace=True)\n",
        "display(frame1)"
      ]
    },
    {
      "cell_type": "code",
      "execution_count": 131,
      "metadata": {
        "colab": {
          "base_uri": "https://localhost:8080/",
          "height": 172
        },
        "id": "mWLv-rCO7zQ-",
        "outputId": "9b68b495-d3d4-4c00-f702-d6c47caa62e2"
      },
      "outputs": [
        {
          "data": {
            "text/html": [
              "<div>\n",
              "<style scoped>\n",
              "    .dataframe tbody tr th:only-of-type {\n",
              "        vertical-align: middle;\n",
              "    }\n",
              "\n",
              "    .dataframe tbody tr th {\n",
              "        vertical-align: top;\n",
              "    }\n",
              "\n",
              "    .dataframe thead th {\n",
              "        text-align: right;\n",
              "    }\n",
              "</style>\n",
              "<table border=\"1\" class=\"dataframe\">\n",
              "  <thead>\n",
              "    <tr style=\"text-align: right;\">\n",
              "      <th></th>\n",
              "      <th>Ohio</th>\n",
              "      <th>Texas</th>\n",
              "      <th>California</th>\n",
              "      <th>XXX</th>\n",
              "      <th>YYYY1</th>\n",
              "    </tr>\n",
              "  </thead>\n",
              "  <tbody>\n",
              "    <tr>\n",
              "      <th>2001</th>\n",
              "      <td>0.598574</td>\n",
              "      <td>0.492668</td>\n",
              "      <td>0.971234</td>\n",
              "      <td>-90</td>\n",
              "      <td>21</td>\n",
              "    </tr>\n",
              "    <tr>\n",
              "      <th>2002</th>\n",
              "      <td>0.734206</td>\n",
              "      <td>0.498811</td>\n",
              "      <td>0.729184</td>\n",
              "      <td>-90</td>\n",
              "      <td>20</td>\n",
              "    </tr>\n",
              "    <tr>\n",
              "      <th>2003</th>\n",
              "      <td>0.497516</td>\n",
              "      <td>0.926966</td>\n",
              "      <td>0.443191</td>\n",
              "      <td>-90</td>\n",
              "      <td>20</td>\n",
              "    </tr>\n",
              "    <tr>\n",
              "      <th>g</th>\n",
              "      <td>0.000000</td>\n",
              "      <td>2.000000</td>\n",
              "      <td>4.000000</td>\n",
              "      <td>8</td>\n",
              "      <td>10</td>\n",
              "    </tr>\n",
              "  </tbody>\n",
              "</table>\n",
              "</div>"
            ],
            "text/plain": [
              "          Ohio     Texas  California  XXX  YYYY1\n",
              "2001  0.598574  0.492668    0.971234  -90     21\n",
              "2002  0.734206  0.498811    0.729184  -90     20\n",
              "2003  0.497516  0.926966    0.443191  -90     20\n",
              "g     0.000000  2.000000    4.000000    8     10"
            ]
          },
          "execution_count": 131,
          "metadata": {},
          "output_type": "execute_result"
        }
      ],
      "source": [
        "frame1"
      ]
    },
    {
      "cell_type": "markdown",
      "metadata": {
        "id": "cRMpP6XDYsx1"
      },
      "source": [
        "## in case data series added has axis labels different from the cols label of the data frame, then new columns (extra) will be added"
      ]
    },
    {
      "cell_type": "code",
      "execution_count": 132,
      "metadata": {
        "colab": {
          "base_uri": "https://localhost:8080/"
        },
        "id": "bCcxD84VYsNK",
        "outputId": "74600ac8-7ace-4278-8880-30466b7a40e0"
      },
      "outputs": [
        {
          "name": "stdout",
          "output_type": "stream",
          "text": [
            "6\n",
            "0    0\n",
            "1    1\n",
            "2    2\n",
            "3    3\n",
            "dtype: int64\n"
          ]
        }
      ],
      "source": [
        "s2=pd.Series(range(4))\n",
        "print(l)\n",
        "print(s2)"
      ]
    },
    {
      "cell_type": "code",
      "execution_count": 133,
      "metadata": {
        "colab": {
          "base_uri": "https://localhost:8080/"
        },
        "id": "uVhdN2ZPGO_j",
        "outputId": "c1260cbe-36e4-4db4-e53c-01538aa043b8"
      },
      "outputs": [
        {
          "data": {
            "text/plain": [
              "True"
            ]
          },
          "execution_count": 133,
          "metadata": {},
          "output_type": "execute_result"
        }
      ],
      "source": [
        "frame1.index.is_unique"
      ]
    },
    {
      "cell_type": "code",
      "execution_count": 134,
      "metadata": {
        "colab": {
          "base_uri": "https://localhost:8080/"
        },
        "id": "xMuxgIOYGs1T",
        "outputId": "df70cd3f-de7c-49f8-d4c5-5dfe086458fd"
      },
      "outputs": [
        {
          "data": {
            "text/plain": [
              "True"
            ]
          },
          "execution_count": 134,
          "metadata": {},
          "output_type": "execute_result"
        }
      ],
      "source": [
        "frame1.columns.is_unique"
      ]
    },
    {
      "cell_type": "markdown",
      "metadata": {
        "id": "xS1zZl1vJorv"
      },
      "source": [
        "#error occurs in case labels are duplicate. If row index are not in series, then default indexes are used. set ignore_index=T"
      ]
    },
    {
      "cell_type": "code",
      "execution_count": 137,
      "metadata": {
        "colab": {
          "base_uri": "https://localhost:8080/",
          "height": 204
        },
        "id": "XaVBh78dG4WZ",
        "outputId": "69ae57b8-18b5-4c7b-e158-2a04c3abd81f"
      },
      "outputs": [
        {
          "name": "stderr",
          "output_type": "stream",
          "text": [
            "C:\\Users\\keshav\\AppData\\Local\\Temp\\ipykernel_7648\\1172876507.py:1: FutureWarning: The frame.append method is deprecated and will be removed from pandas in a future version. Use pandas.concat instead.\n",
            "  frame1.append(s2,ignore_index=True)\n"
          ]
        },
        {
          "data": {
            "text/html": [
              "<div>\n",
              "<style scoped>\n",
              "    .dataframe tbody tr th:only-of-type {\n",
              "        vertical-align: middle;\n",
              "    }\n",
              "\n",
              "    .dataframe tbody tr th {\n",
              "        vertical-align: top;\n",
              "    }\n",
              "\n",
              "    .dataframe thead th {\n",
              "        text-align: right;\n",
              "    }\n",
              "</style>\n",
              "<table border=\"1\" class=\"dataframe\">\n",
              "  <thead>\n",
              "    <tr style=\"text-align: right;\">\n",
              "      <th></th>\n",
              "      <th>Ohio</th>\n",
              "      <th>Texas</th>\n",
              "      <th>California</th>\n",
              "      <th>XXX</th>\n",
              "      <th>YYYY1</th>\n",
              "      <th>0</th>\n",
              "      <th>1</th>\n",
              "      <th>2</th>\n",
              "      <th>3</th>\n",
              "    </tr>\n",
              "  </thead>\n",
              "  <tbody>\n",
              "    <tr>\n",
              "      <th>0</th>\n",
              "      <td>0.598574</td>\n",
              "      <td>0.492668</td>\n",
              "      <td>0.971234</td>\n",
              "      <td>-90.0</td>\n",
              "      <td>21.0</td>\n",
              "      <td>NaN</td>\n",
              "      <td>NaN</td>\n",
              "      <td>NaN</td>\n",
              "      <td>NaN</td>\n",
              "    </tr>\n",
              "    <tr>\n",
              "      <th>1</th>\n",
              "      <td>0.734206</td>\n",
              "      <td>0.498811</td>\n",
              "      <td>0.729184</td>\n",
              "      <td>-90.0</td>\n",
              "      <td>20.0</td>\n",
              "      <td>NaN</td>\n",
              "      <td>NaN</td>\n",
              "      <td>NaN</td>\n",
              "      <td>NaN</td>\n",
              "    </tr>\n",
              "    <tr>\n",
              "      <th>2</th>\n",
              "      <td>0.497516</td>\n",
              "      <td>0.926966</td>\n",
              "      <td>0.443191</td>\n",
              "      <td>-90.0</td>\n",
              "      <td>20.0</td>\n",
              "      <td>NaN</td>\n",
              "      <td>NaN</td>\n",
              "      <td>NaN</td>\n",
              "      <td>NaN</td>\n",
              "    </tr>\n",
              "    <tr>\n",
              "      <th>3</th>\n",
              "      <td>0.000000</td>\n",
              "      <td>2.000000</td>\n",
              "      <td>4.000000</td>\n",
              "      <td>8.0</td>\n",
              "      <td>10.0</td>\n",
              "      <td>NaN</td>\n",
              "      <td>NaN</td>\n",
              "      <td>NaN</td>\n",
              "      <td>NaN</td>\n",
              "    </tr>\n",
              "    <tr>\n",
              "      <th>4</th>\n",
              "      <td>NaN</td>\n",
              "      <td>NaN</td>\n",
              "      <td>NaN</td>\n",
              "      <td>NaN</td>\n",
              "      <td>NaN</td>\n",
              "      <td>0.0</td>\n",
              "      <td>1.0</td>\n",
              "      <td>2.0</td>\n",
              "      <td>3.0</td>\n",
              "    </tr>\n",
              "  </tbody>\n",
              "</table>\n",
              "</div>"
            ],
            "text/plain": [
              "       Ohio     Texas  California   XXX  YYYY1    0    1    2    3\n",
              "0  0.598574  0.492668    0.971234 -90.0   21.0  NaN  NaN  NaN  NaN\n",
              "1  0.734206  0.498811    0.729184 -90.0   20.0  NaN  NaN  NaN  NaN\n",
              "2  0.497516  0.926966    0.443191 -90.0   20.0  NaN  NaN  NaN  NaN\n",
              "3  0.000000  2.000000    4.000000   8.0   10.0  NaN  NaN  NaN  NaN\n",
              "4       NaN       NaN         NaN   NaN    NaN  0.0  1.0  2.0  3.0"
            ]
          },
          "execution_count": 137,
          "metadata": {},
          "output_type": "execute_result"
        }
      ],
      "source": [
        "frame1.append(s2,ignore_index=True)"
      ]
    },
    {
      "cell_type": "code",
      "execution_count": 37,
      "metadata": {
        "colab": {
          "base_uri": "https://localhost:8080/",
          "height": 172
        },
        "id": "KquitkaCJwPr",
        "outputId": "ab3039f6-2a6b-48a6-c05b-ce582486891d"
      },
      "outputs": [
        {
          "data": {
            "text/html": [
              "<div>\n",
              "<style scoped>\n",
              "    .dataframe tbody tr th:only-of-type {\n",
              "        vertical-align: middle;\n",
              "    }\n",
              "\n",
              "    .dataframe tbody tr th {\n",
              "        vertical-align: top;\n",
              "    }\n",
              "\n",
              "    .dataframe thead th {\n",
              "        text-align: right;\n",
              "    }\n",
              "</style>\n",
              "<table border=\"1\" class=\"dataframe\">\n",
              "  <thead>\n",
              "    <tr style=\"text-align: right;\">\n",
              "      <th></th>\n",
              "      <th>Ohio</th>\n",
              "      <th>Texas</th>\n",
              "      <th>California</th>\n",
              "      <th>XXX</th>\n",
              "      <th>YYYY1</th>\n",
              "    </tr>\n",
              "  </thead>\n",
              "  <tbody>\n",
              "    <tr>\n",
              "      <th>2001</th>\n",
              "      <td>0.657524</td>\n",
              "      <td>0.903047</td>\n",
              "      <td>0.561871</td>\n",
              "      <td>-90</td>\n",
              "      <td>21</td>\n",
              "    </tr>\n",
              "    <tr>\n",
              "      <th>2002</th>\n",
              "      <td>0.251597</td>\n",
              "      <td>0.833607</td>\n",
              "      <td>0.380981</td>\n",
              "      <td>-90</td>\n",
              "      <td>20</td>\n",
              "    </tr>\n",
              "    <tr>\n",
              "      <th>2003</th>\n",
              "      <td>0.403838</td>\n",
              "      <td>0.525121</td>\n",
              "      <td>0.020277</td>\n",
              "      <td>-90</td>\n",
              "      <td>20</td>\n",
              "    </tr>\n",
              "    <tr>\n",
              "      <th>g</th>\n",
              "      <td>0.000000</td>\n",
              "      <td>2.000000</td>\n",
              "      <td>4.000000</td>\n",
              "      <td>8</td>\n",
              "      <td>10</td>\n",
              "    </tr>\n",
              "  </tbody>\n",
              "</table>\n",
              "</div>"
            ],
            "text/plain": [
              "          Ohio     Texas  California  XXX  YYYY1\n",
              "2001  0.657524  0.903047    0.561871  -90     21\n",
              "2002  0.251597  0.833607    0.380981  -90     20\n",
              "2003  0.403838  0.525121    0.020277  -90     20\n",
              "g     0.000000  2.000000    4.000000    8     10"
            ]
          },
          "execution_count": 37,
          "metadata": {},
          "output_type": "execute_result"
        }
      ],
      "source": [
        "frame1"
      ]
    },
    {
      "cell_type": "code",
      "execution_count": 39,
      "metadata": {
        "id": "PnjGWYOrAa-i"
      },
      "outputs": [],
      "source": [
        "col1=frame1.columns"
      ]
    },
    {
      "cell_type": "code",
      "execution_count": 140,
      "metadata": {
        "colab": {
          "base_uri": "https://localhost:8080/"
        },
        "id": "DZRDvRQCXc4d",
        "outputId": "545add02-a72a-46f8-b729-a1d30818bfc2"
      },
      "outputs": [],
      "source": [
        "s1=pd.Series(range(len(col1)),index=col1)\n",
        "s1=s1+2"
      ]
    },
    {
      "cell_type": "code",
      "execution_count": 141,
      "metadata": {},
      "outputs": [
        {
          "data": {
            "text/plain": [
              "Ohio          2\n",
              "Texas         3\n",
              "California    4\n",
              "XXX           5\n",
              "YYYY1         6\n",
              "dtype: int64"
            ]
          },
          "execution_count": 141,
          "metadata": {},
          "output_type": "execute_result"
        }
      ],
      "source": [
        "s1"
      ]
    },
    {
      "cell_type": "code",
      "execution_count": 42,
      "metadata": {},
      "outputs": [
        {
          "data": {
            "text/html": [
              "<div>\n",
              "<style scoped>\n",
              "    .dataframe tbody tr th:only-of-type {\n",
              "        vertical-align: middle;\n",
              "    }\n",
              "\n",
              "    .dataframe tbody tr th {\n",
              "        vertical-align: top;\n",
              "    }\n",
              "\n",
              "    .dataframe thead th {\n",
              "        text-align: right;\n",
              "    }\n",
              "</style>\n",
              "<table border=\"1\" class=\"dataframe\">\n",
              "  <thead>\n",
              "    <tr style=\"text-align: right;\">\n",
              "      <th></th>\n",
              "      <th>Ohio</th>\n",
              "      <th>Texas</th>\n",
              "      <th>California</th>\n",
              "      <th>XXX</th>\n",
              "      <th>YYYY1</th>\n",
              "    </tr>\n",
              "  </thead>\n",
              "  <tbody>\n",
              "    <tr>\n",
              "      <th>2001</th>\n",
              "      <td>0.657524</td>\n",
              "      <td>0.903047</td>\n",
              "      <td>0.561871</td>\n",
              "      <td>-90</td>\n",
              "      <td>21</td>\n",
              "    </tr>\n",
              "    <tr>\n",
              "      <th>2002</th>\n",
              "      <td>0.251597</td>\n",
              "      <td>0.833607</td>\n",
              "      <td>0.380981</td>\n",
              "      <td>-90</td>\n",
              "      <td>20</td>\n",
              "    </tr>\n",
              "    <tr>\n",
              "      <th>2003</th>\n",
              "      <td>0.403838</td>\n",
              "      <td>0.525121</td>\n",
              "      <td>0.020277</td>\n",
              "      <td>-90</td>\n",
              "      <td>20</td>\n",
              "    </tr>\n",
              "    <tr>\n",
              "      <th>g</th>\n",
              "      <td>0.000000</td>\n",
              "      <td>2.000000</td>\n",
              "      <td>4.000000</td>\n",
              "      <td>8</td>\n",
              "      <td>10</td>\n",
              "    </tr>\n",
              "  </tbody>\n",
              "</table>\n",
              "</div>"
            ],
            "text/plain": [
              "          Ohio     Texas  California  XXX  YYYY1\n",
              "2001  0.657524  0.903047    0.561871  -90     21\n",
              "2002  0.251597  0.833607    0.380981  -90     20\n",
              "2003  0.403838  0.525121    0.020277  -90     20\n",
              "g     0.000000  2.000000    4.000000    8     10"
            ]
          },
          "execution_count": 42,
          "metadata": {},
          "output_type": "execute_result"
        }
      ],
      "source": [
        "frame1"
      ]
    },
    {
      "cell_type": "markdown",
      "metadata": {
        "id": "5FmLG4jOX9Yg"
      },
      "source": [
        "## while appending set ignore_index=True which will set row index to default index values.\n",
        "In case series has a name, then it will be label of the row"
      ]
    },
    {
      "cell_type": "code",
      "execution_count": 144,
      "metadata": {
        "colab": {
          "base_uri": "https://localhost:8080/",
          "height": 204
        },
        "id": "iYhELJ7NWg5c",
        "outputId": "bc0dbdc5-cd95-4773-d2de-441489e66d69"
      },
      "outputs": [
        {
          "name": "stderr",
          "output_type": "stream",
          "text": [
            "C:\\Users\\keshav\\AppData\\Local\\Temp\\ipykernel_7648\\3211021238.py:1: FutureWarning: The frame.append method is deprecated and will be removed from pandas in a future version. Use pandas.concat instead.\n",
            "  frame1.append(s1,ignore_index=True)\n"
          ]
        },
        {
          "data": {
            "text/html": [
              "<div>\n",
              "<style scoped>\n",
              "    .dataframe tbody tr th:only-of-type {\n",
              "        vertical-align: middle;\n",
              "    }\n",
              "\n",
              "    .dataframe tbody tr th {\n",
              "        vertical-align: top;\n",
              "    }\n",
              "\n",
              "    .dataframe thead th {\n",
              "        text-align: right;\n",
              "    }\n",
              "</style>\n",
              "<table border=\"1\" class=\"dataframe\">\n",
              "  <thead>\n",
              "    <tr style=\"text-align: right;\">\n",
              "      <th></th>\n",
              "      <th>Ohio</th>\n",
              "      <th>Texas</th>\n",
              "      <th>California</th>\n",
              "      <th>XXX</th>\n",
              "      <th>YYYY1</th>\n",
              "    </tr>\n",
              "  </thead>\n",
              "  <tbody>\n",
              "    <tr>\n",
              "      <th>0</th>\n",
              "      <td>0.598574</td>\n",
              "      <td>0.492668</td>\n",
              "      <td>0.971234</td>\n",
              "      <td>-90</td>\n",
              "      <td>21</td>\n",
              "    </tr>\n",
              "    <tr>\n",
              "      <th>1</th>\n",
              "      <td>0.734206</td>\n",
              "      <td>0.498811</td>\n",
              "      <td>0.729184</td>\n",
              "      <td>-90</td>\n",
              "      <td>20</td>\n",
              "    </tr>\n",
              "    <tr>\n",
              "      <th>2</th>\n",
              "      <td>0.497516</td>\n",
              "      <td>0.926966</td>\n",
              "      <td>0.443191</td>\n",
              "      <td>-90</td>\n",
              "      <td>20</td>\n",
              "    </tr>\n",
              "    <tr>\n",
              "      <th>3</th>\n",
              "      <td>0.000000</td>\n",
              "      <td>2.000000</td>\n",
              "      <td>4.000000</td>\n",
              "      <td>8</td>\n",
              "      <td>10</td>\n",
              "    </tr>\n",
              "    <tr>\n",
              "      <th>4</th>\n",
              "      <td>2.000000</td>\n",
              "      <td>3.000000</td>\n",
              "      <td>4.000000</td>\n",
              "      <td>5</td>\n",
              "      <td>6</td>\n",
              "    </tr>\n",
              "  </tbody>\n",
              "</table>\n",
              "</div>"
            ],
            "text/plain": [
              "       Ohio     Texas  California  XXX  YYYY1\n",
              "0  0.598574  0.492668    0.971234  -90     21\n",
              "1  0.734206  0.498811    0.729184  -90     20\n",
              "2  0.497516  0.926966    0.443191  -90     20\n",
              "3  0.000000  2.000000    4.000000    8     10\n",
              "4  2.000000  3.000000    4.000000    5      6"
            ]
          },
          "execution_count": 144,
          "metadata": {},
          "output_type": "execute_result"
        }
      ],
      "source": [
        "frame1.append(s1,ignore_index=True)"
      ]
    },
    {
      "cell_type": "code",
      "execution_count": 146,
      "metadata": {
        "id": "PhaX876jYGKF"
      },
      "outputs": [],
      "source": [
        "s1.name='g1'"
      ]
    },
    {
      "cell_type": "code",
      "execution_count": 147,
      "metadata": {
        "id": "z-oNRTWMYQ_g"
      },
      "outputs": [
        {
          "name": "stderr",
          "output_type": "stream",
          "text": [
            "C:\\Users\\keshav\\AppData\\Local\\Temp\\ipykernel_7648\\3080025563.py:1: FutureWarning: The frame.append method is deprecated and will be removed from pandas in a future version. Use pandas.concat instead.\n",
            "  frame1=frame1.append(s1)\n"
          ]
        }
      ],
      "source": [
        "frame1=frame1.append(s1)"
      ]
    },
    {
      "cell_type": "code",
      "execution_count": 46,
      "metadata": {
        "colab": {
          "base_uri": "https://localhost:8080/",
          "height": 204
        },
        "id": "rjqn7bPCQXFm",
        "outputId": "552d31e3-1bb4-45b3-b0cd-d91c396aa8c9"
      },
      "outputs": [
        {
          "data": {
            "text/html": [
              "<div>\n",
              "<style scoped>\n",
              "    .dataframe tbody tr th:only-of-type {\n",
              "        vertical-align: middle;\n",
              "    }\n",
              "\n",
              "    .dataframe tbody tr th {\n",
              "        vertical-align: top;\n",
              "    }\n",
              "\n",
              "    .dataframe thead th {\n",
              "        text-align: right;\n",
              "    }\n",
              "</style>\n",
              "<table border=\"1\" class=\"dataframe\">\n",
              "  <thead>\n",
              "    <tr style=\"text-align: right;\">\n",
              "      <th></th>\n",
              "      <th>Ohio</th>\n",
              "      <th>Texas</th>\n",
              "      <th>California</th>\n",
              "      <th>XXX</th>\n",
              "      <th>YYYY1</th>\n",
              "    </tr>\n",
              "  </thead>\n",
              "  <tbody>\n",
              "    <tr>\n",
              "      <th>2001</th>\n",
              "      <td>0.657524</td>\n",
              "      <td>0.903047</td>\n",
              "      <td>0.561871</td>\n",
              "      <td>-90</td>\n",
              "      <td>21</td>\n",
              "    </tr>\n",
              "    <tr>\n",
              "      <th>2002</th>\n",
              "      <td>0.251597</td>\n",
              "      <td>0.833607</td>\n",
              "      <td>0.380981</td>\n",
              "      <td>-90</td>\n",
              "      <td>20</td>\n",
              "    </tr>\n",
              "    <tr>\n",
              "      <th>2003</th>\n",
              "      <td>0.403838</td>\n",
              "      <td>0.525121</td>\n",
              "      <td>0.020277</td>\n",
              "      <td>-90</td>\n",
              "      <td>20</td>\n",
              "    </tr>\n",
              "    <tr>\n",
              "      <th>g</th>\n",
              "      <td>0.000000</td>\n",
              "      <td>2.000000</td>\n",
              "      <td>4.000000</td>\n",
              "      <td>8</td>\n",
              "      <td>10</td>\n",
              "    </tr>\n",
              "    <tr>\n",
              "      <th>g1</th>\n",
              "      <td>2.000000</td>\n",
              "      <td>3.000000</td>\n",
              "      <td>4.000000</td>\n",
              "      <td>5</td>\n",
              "      <td>6</td>\n",
              "    </tr>\n",
              "  </tbody>\n",
              "</table>\n",
              "</div>"
            ],
            "text/plain": [
              "          Ohio     Texas  California  XXX  YYYY1\n",
              "2001  0.657524  0.903047    0.561871  -90     21\n",
              "2002  0.251597  0.833607    0.380981  -90     20\n",
              "2003  0.403838  0.525121    0.020277  -90     20\n",
              "g     0.000000  2.000000    4.000000    8     10\n",
              "g1    2.000000  3.000000    4.000000    5      6"
            ]
          },
          "execution_count": 46,
          "metadata": {},
          "output_type": "execute_result"
        }
      ],
      "source": [
        "frame1"
      ]
    },
    {
      "cell_type": "code",
      "execution_count": 47,
      "metadata": {
        "id": "5iO0Q26wRkeZ"
      },
      "outputs": [],
      "source": [
        "frame1.iloc[4,0]=10"
      ]
    },
    {
      "cell_type": "markdown",
      "metadata": {
        "id": "LGn8H-cuKegf"
      },
      "source": [
        "## dropping row with duplicate rows and keeping first row"
      ]
    },
    {
      "cell_type": "code",
      "execution_count": 48,
      "metadata": {
        "colab": {
          "base_uri": "https://localhost:8080/",
          "height": 204
        },
        "id": "iNuPj5GpQBqi",
        "outputId": "fdb3aa4c-154a-4b73-8e92-ccbe6fc21d28"
      },
      "outputs": [
        {
          "data": {
            "text/html": [
              "<div>\n",
              "<style scoped>\n",
              "    .dataframe tbody tr th:only-of-type {\n",
              "        vertical-align: middle;\n",
              "    }\n",
              "\n",
              "    .dataframe tbody tr th {\n",
              "        vertical-align: top;\n",
              "    }\n",
              "\n",
              "    .dataframe thead th {\n",
              "        text-align: right;\n",
              "    }\n",
              "</style>\n",
              "<table border=\"1\" class=\"dataframe\">\n",
              "  <thead>\n",
              "    <tr style=\"text-align: right;\">\n",
              "      <th></th>\n",
              "      <th>Ohio</th>\n",
              "      <th>Texas</th>\n",
              "      <th>California</th>\n",
              "      <th>XXX</th>\n",
              "      <th>YYYY1</th>\n",
              "    </tr>\n",
              "  </thead>\n",
              "  <tbody>\n",
              "    <tr>\n",
              "      <th>2001</th>\n",
              "      <td>0.657524</td>\n",
              "      <td>0.903047</td>\n",
              "      <td>0.561871</td>\n",
              "      <td>-90</td>\n",
              "      <td>21</td>\n",
              "    </tr>\n",
              "    <tr>\n",
              "      <th>2002</th>\n",
              "      <td>0.251597</td>\n",
              "      <td>0.833607</td>\n",
              "      <td>0.380981</td>\n",
              "      <td>-90</td>\n",
              "      <td>20</td>\n",
              "    </tr>\n",
              "    <tr>\n",
              "      <th>2003</th>\n",
              "      <td>0.403838</td>\n",
              "      <td>0.525121</td>\n",
              "      <td>0.020277</td>\n",
              "      <td>-90</td>\n",
              "      <td>20</td>\n",
              "    </tr>\n",
              "    <tr>\n",
              "      <th>g</th>\n",
              "      <td>0.000000</td>\n",
              "      <td>2.000000</td>\n",
              "      <td>4.000000</td>\n",
              "      <td>8</td>\n",
              "      <td>10</td>\n",
              "    </tr>\n",
              "    <tr>\n",
              "      <th>g1</th>\n",
              "      <td>10.000000</td>\n",
              "      <td>3.000000</td>\n",
              "      <td>4.000000</td>\n",
              "      <td>5</td>\n",
              "      <td>6</td>\n",
              "    </tr>\n",
              "  </tbody>\n",
              "</table>\n",
              "</div>"
            ],
            "text/plain": [
              "           Ohio     Texas  California  XXX  YYYY1\n",
              "2001   0.657524  0.903047    0.561871  -90     21\n",
              "2002   0.251597  0.833607    0.380981  -90     20\n",
              "2003   0.403838  0.525121    0.020277  -90     20\n",
              "g      0.000000  2.000000    4.000000    8     10\n",
              "g1    10.000000  3.000000    4.000000    5      6"
            ]
          },
          "execution_count": 48,
          "metadata": {},
          "output_type": "execute_result"
        }
      ],
      "source": [
        "frame1"
      ]
    },
    {
      "cell_type": "code",
      "execution_count": 49,
      "metadata": {
        "id": "8_m8FrVVud1z"
      },
      "outputs": [],
      "source": [
        "L=frame1.loc['g1'].values\n",
        "frame1.loc['g2']=L"
      ]
    },
    {
      "cell_type": "code",
      "execution_count": 50,
      "metadata": {},
      "outputs": [
        {
          "data": {
            "text/html": [
              "<div>\n",
              "<style scoped>\n",
              "    .dataframe tbody tr th:only-of-type {\n",
              "        vertical-align: middle;\n",
              "    }\n",
              "\n",
              "    .dataframe tbody tr th {\n",
              "        vertical-align: top;\n",
              "    }\n",
              "\n",
              "    .dataframe thead th {\n",
              "        text-align: right;\n",
              "    }\n",
              "</style>\n",
              "<table border=\"1\" class=\"dataframe\">\n",
              "  <thead>\n",
              "    <tr style=\"text-align: right;\">\n",
              "      <th></th>\n",
              "      <th>Ohio</th>\n",
              "      <th>Texas</th>\n",
              "      <th>California</th>\n",
              "      <th>XXX</th>\n",
              "      <th>YYYY1</th>\n",
              "    </tr>\n",
              "  </thead>\n",
              "  <tbody>\n",
              "    <tr>\n",
              "      <th>2001</th>\n",
              "      <td>0.657524</td>\n",
              "      <td>0.903047</td>\n",
              "      <td>0.561871</td>\n",
              "      <td>-90.0</td>\n",
              "      <td>21.0</td>\n",
              "    </tr>\n",
              "    <tr>\n",
              "      <th>2002</th>\n",
              "      <td>0.251597</td>\n",
              "      <td>0.833607</td>\n",
              "      <td>0.380981</td>\n",
              "      <td>-90.0</td>\n",
              "      <td>20.0</td>\n",
              "    </tr>\n",
              "    <tr>\n",
              "      <th>2003</th>\n",
              "      <td>0.403838</td>\n",
              "      <td>0.525121</td>\n",
              "      <td>0.020277</td>\n",
              "      <td>-90.0</td>\n",
              "      <td>20.0</td>\n",
              "    </tr>\n",
              "    <tr>\n",
              "      <th>g</th>\n",
              "      <td>0.000000</td>\n",
              "      <td>2.000000</td>\n",
              "      <td>4.000000</td>\n",
              "      <td>8.0</td>\n",
              "      <td>10.0</td>\n",
              "    </tr>\n",
              "    <tr>\n",
              "      <th>g1</th>\n",
              "      <td>10.000000</td>\n",
              "      <td>3.000000</td>\n",
              "      <td>4.000000</td>\n",
              "      <td>5.0</td>\n",
              "      <td>6.0</td>\n",
              "    </tr>\n",
              "    <tr>\n",
              "      <th>g2</th>\n",
              "      <td>10.000000</td>\n",
              "      <td>3.000000</td>\n",
              "      <td>4.000000</td>\n",
              "      <td>5.0</td>\n",
              "      <td>6.0</td>\n",
              "    </tr>\n",
              "  </tbody>\n",
              "</table>\n",
              "</div>"
            ],
            "text/plain": [
              "           Ohio     Texas  California   XXX  YYYY1\n",
              "2001   0.657524  0.903047    0.561871 -90.0   21.0\n",
              "2002   0.251597  0.833607    0.380981 -90.0   20.0\n",
              "2003   0.403838  0.525121    0.020277 -90.0   20.0\n",
              "g      0.000000  2.000000    4.000000   8.0   10.0\n",
              "g1    10.000000  3.000000    4.000000   5.0    6.0\n",
              "g2    10.000000  3.000000    4.000000   5.0    6.0"
            ]
          },
          "execution_count": 50,
          "metadata": {},
          "output_type": "execute_result"
        }
      ],
      "source": [
        "frame1"
      ]
    },
    {
      "cell_type": "code",
      "execution_count": 148,
      "metadata": {
        "id": "DB7wMjuDJ3En"
      },
      "outputs": [],
      "source": [
        "frame1=frame1.drop_duplicates(keep='first')"
      ]
    },
    {
      "cell_type": "markdown",
      "metadata": {},
      "source": [
        "## have a new column with maximum value of states at a first position\n"
      ]
    },
    {
      "cell_type": "code",
      "execution_count": 149,
      "metadata": {},
      "outputs": [
        {
          "data": {
            "text/plain": [
              "2001    21.0\n",
              "2002    20.0\n",
              "2003    20.0\n",
              "g       10.0\n",
              "g1       6.0\n",
              "dtype: float64"
            ]
          },
          "execution_count": 149,
          "metadata": {},
          "output_type": "execute_result"
        }
      ],
      "source": [
        "frame1.max(axis=1)"
      ]
    },
    {
      "cell_type": "code",
      "execution_count": 150,
      "metadata": {
        "id": "s-QUNPttLE8J"
      },
      "outputs": [],
      "source": [
        "frame1.insert(0, \"Maximum\", frame1.max(axis=1),True)"
      ]
    },
    {
      "cell_type": "code",
      "execution_count": 151,
      "metadata": {
        "colab": {
          "base_uri": "https://localhost:8080/",
          "height": 204
        },
        "id": "iDpoGW9yK6bG",
        "outputId": "42ad7353-161b-4b1c-82e4-09b7d396c1f8"
      },
      "outputs": [
        {
          "data": {
            "text/html": [
              "<div>\n",
              "<style scoped>\n",
              "    .dataframe tbody tr th:only-of-type {\n",
              "        vertical-align: middle;\n",
              "    }\n",
              "\n",
              "    .dataframe tbody tr th {\n",
              "        vertical-align: top;\n",
              "    }\n",
              "\n",
              "    .dataframe thead th {\n",
              "        text-align: right;\n",
              "    }\n",
              "</style>\n",
              "<table border=\"1\" class=\"dataframe\">\n",
              "  <thead>\n",
              "    <tr style=\"text-align: right;\">\n",
              "      <th></th>\n",
              "      <th>Maximum</th>\n",
              "      <th>Ohio</th>\n",
              "      <th>Texas</th>\n",
              "      <th>California</th>\n",
              "      <th>XXX</th>\n",
              "      <th>YYYY1</th>\n",
              "    </tr>\n",
              "  </thead>\n",
              "  <tbody>\n",
              "    <tr>\n",
              "      <th>2001</th>\n",
              "      <td>21.0</td>\n",
              "      <td>0.598574</td>\n",
              "      <td>0.492668</td>\n",
              "      <td>0.971234</td>\n",
              "      <td>-90</td>\n",
              "      <td>21</td>\n",
              "    </tr>\n",
              "    <tr>\n",
              "      <th>2002</th>\n",
              "      <td>20.0</td>\n",
              "      <td>0.734206</td>\n",
              "      <td>0.498811</td>\n",
              "      <td>0.729184</td>\n",
              "      <td>-90</td>\n",
              "      <td>20</td>\n",
              "    </tr>\n",
              "    <tr>\n",
              "      <th>2003</th>\n",
              "      <td>20.0</td>\n",
              "      <td>0.497516</td>\n",
              "      <td>0.926966</td>\n",
              "      <td>0.443191</td>\n",
              "      <td>-90</td>\n",
              "      <td>20</td>\n",
              "    </tr>\n",
              "    <tr>\n",
              "      <th>g</th>\n",
              "      <td>10.0</td>\n",
              "      <td>0.000000</td>\n",
              "      <td>2.000000</td>\n",
              "      <td>4.000000</td>\n",
              "      <td>8</td>\n",
              "      <td>10</td>\n",
              "    </tr>\n",
              "    <tr>\n",
              "      <th>g1</th>\n",
              "      <td>6.0</td>\n",
              "      <td>2.000000</td>\n",
              "      <td>3.000000</td>\n",
              "      <td>4.000000</td>\n",
              "      <td>5</td>\n",
              "      <td>6</td>\n",
              "    </tr>\n",
              "  </tbody>\n",
              "</table>\n",
              "</div>"
            ],
            "text/plain": [
              "      Maximum      Ohio     Texas  California  XXX  YYYY1\n",
              "2001     21.0  0.598574  0.492668    0.971234  -90     21\n",
              "2002     20.0  0.734206  0.498811    0.729184  -90     20\n",
              "2003     20.0  0.497516  0.926966    0.443191  -90     20\n",
              "g        10.0  0.000000  2.000000    4.000000    8     10\n",
              "g1        6.0  2.000000  3.000000    4.000000    5      6"
            ]
          },
          "execution_count": 151,
          "metadata": {},
          "output_type": "execute_result"
        }
      ],
      "source": [
        "frame1"
      ]
    },
    {
      "cell_type": "code",
      "execution_count": 55,
      "metadata": {},
      "outputs": [],
      "source": [
        "frame1.iloc[0,3]=-0.99"
      ]
    },
    {
      "cell_type": "code",
      "execution_count": 56,
      "metadata": {
        "colab": {
          "base_uri": "https://localhost:8080/"
        },
        "id": "1O0KSYO_ublH",
        "outputId": "b7df0dc8-eece-422e-f088-1aded2604098"
      },
      "outputs": [
        {
          "data": {
            "text/html": [
              "<div>\n",
              "<style scoped>\n",
              "    .dataframe tbody tr th:only-of-type {\n",
              "        vertical-align: middle;\n",
              "    }\n",
              "\n",
              "    .dataframe tbody tr th {\n",
              "        vertical-align: top;\n",
              "    }\n",
              "\n",
              "    .dataframe thead th {\n",
              "        text-align: right;\n",
              "    }\n",
              "</style>\n",
              "<table border=\"1\" class=\"dataframe\">\n",
              "  <thead>\n",
              "    <tr style=\"text-align: right;\">\n",
              "      <th></th>\n",
              "      <th>Maximum</th>\n",
              "      <th>Ohio</th>\n",
              "      <th>Texas</th>\n",
              "      <th>California</th>\n",
              "      <th>XXX</th>\n",
              "      <th>YYYY1</th>\n",
              "    </tr>\n",
              "  </thead>\n",
              "  <tbody>\n",
              "    <tr>\n",
              "      <th>2001</th>\n",
              "      <td>21.0</td>\n",
              "      <td>0.657524</td>\n",
              "      <td>0.903047</td>\n",
              "      <td>-0.990000</td>\n",
              "      <td>-90.0</td>\n",
              "      <td>21.0</td>\n",
              "    </tr>\n",
              "    <tr>\n",
              "      <th>2002</th>\n",
              "      <td>20.0</td>\n",
              "      <td>0.251597</td>\n",
              "      <td>0.833607</td>\n",
              "      <td>0.380981</td>\n",
              "      <td>-90.0</td>\n",
              "      <td>20.0</td>\n",
              "    </tr>\n",
              "  </tbody>\n",
              "</table>\n",
              "</div>"
            ],
            "text/plain": [
              "      Maximum      Ohio     Texas  California   XXX  YYYY1\n",
              "2001     21.0  0.657524  0.903047   -0.990000 -90.0   21.0\n",
              "2002     20.0  0.251597  0.833607    0.380981 -90.0   20.0"
            ]
          },
          "execution_count": 56,
          "metadata": {},
          "output_type": "execute_result"
        }
      ],
      "source": [
        "frame1.iloc[0:2,:]"
      ]
    },
    {
      "cell_type": "code",
      "execution_count": 57,
      "metadata": {
        "colab": {
          "base_uri": "https://localhost:8080/",
          "height": 204
        },
        "id": "QxWmLAAWgnV8",
        "outputId": "77101b08-f730-4ed2-9f58-1e1553bfd2bb"
      },
      "outputs": [
        {
          "data": {
            "text/html": [
              "<div>\n",
              "<style scoped>\n",
              "    .dataframe tbody tr th:only-of-type {\n",
              "        vertical-align: middle;\n",
              "    }\n",
              "\n",
              "    .dataframe tbody tr th {\n",
              "        vertical-align: top;\n",
              "    }\n",
              "\n",
              "    .dataframe thead th {\n",
              "        text-align: right;\n",
              "    }\n",
              "</style>\n",
              "<table border=\"1\" class=\"dataframe\">\n",
              "  <thead>\n",
              "    <tr style=\"text-align: right;\">\n",
              "      <th></th>\n",
              "      <th>Maximum</th>\n",
              "      <th>Ohio</th>\n",
              "      <th>Texas</th>\n",
              "      <th>California</th>\n",
              "      <th>XXX</th>\n",
              "      <th>YYYY1</th>\n",
              "    </tr>\n",
              "  </thead>\n",
              "  <tbody>\n",
              "    <tr>\n",
              "      <th>2001</th>\n",
              "      <td>21.0</td>\n",
              "      <td>0.657524</td>\n",
              "      <td>0.903047</td>\n",
              "      <td>0.990000</td>\n",
              "      <td>90.0</td>\n",
              "      <td>21.0</td>\n",
              "    </tr>\n",
              "    <tr>\n",
              "      <th>2002</th>\n",
              "      <td>20.0</td>\n",
              "      <td>0.251597</td>\n",
              "      <td>0.833607</td>\n",
              "      <td>0.380981</td>\n",
              "      <td>90.0</td>\n",
              "      <td>20.0</td>\n",
              "    </tr>\n",
              "    <tr>\n",
              "      <th>2003</th>\n",
              "      <td>20.0</td>\n",
              "      <td>0.403838</td>\n",
              "      <td>0.525121</td>\n",
              "      <td>0.020277</td>\n",
              "      <td>90.0</td>\n",
              "      <td>20.0</td>\n",
              "    </tr>\n",
              "    <tr>\n",
              "      <th>g</th>\n",
              "      <td>10.0</td>\n",
              "      <td>0.000000</td>\n",
              "      <td>2.000000</td>\n",
              "      <td>4.000000</td>\n",
              "      <td>8.0</td>\n",
              "      <td>10.0</td>\n",
              "    </tr>\n",
              "    <tr>\n",
              "      <th>g1</th>\n",
              "      <td>10.0</td>\n",
              "      <td>10.000000</td>\n",
              "      <td>3.000000</td>\n",
              "      <td>4.000000</td>\n",
              "      <td>5.0</td>\n",
              "      <td>6.0</td>\n",
              "    </tr>\n",
              "  </tbody>\n",
              "</table>\n",
              "</div>"
            ],
            "text/plain": [
              "      Maximum       Ohio     Texas  California   XXX  YYYY1\n",
              "2001     21.0   0.657524  0.903047    0.990000  90.0   21.0\n",
              "2002     20.0   0.251597  0.833607    0.380981  90.0   20.0\n",
              "2003     20.0   0.403838  0.525121    0.020277  90.0   20.0\n",
              "g        10.0   0.000000  2.000000    4.000000   8.0   10.0\n",
              "g1       10.0  10.000000  3.000000    4.000000   5.0    6.0"
            ]
          },
          "execution_count": 57,
          "metadata": {},
          "output_type": "execute_result"
        }
      ],
      "source": [
        "frame1=np.abs(frame1)\n",
        "frame1"
      ]
    },
    {
      "cell_type": "markdown",
      "metadata": {
        "id": "XGj19kZov31R"
      },
      "source": [
        "## Subtract 2 from first two rows of the data frame"
      ]
    },
    {
      "cell_type": "code",
      "execution_count": 58,
      "metadata": {
        "id": "4P6k9YpAvu9G"
      },
      "outputs": [],
      "source": [
        "frame1.iloc[0:2,:]=10"
      ]
    },
    {
      "cell_type": "code",
      "execution_count": 59,
      "metadata": {
        "colab": {
          "base_uri": "https://localhost:8080/",
          "height": 235
        },
        "id": "BsmEh5Hpzziq",
        "outputId": "5ef6bc1e-f712-403d-fbba-f330fea0697d"
      },
      "outputs": [
        {
          "data": {
            "text/html": [
              "<div>\n",
              "<style scoped>\n",
              "    .dataframe tbody tr th:only-of-type {\n",
              "        vertical-align: middle;\n",
              "    }\n",
              "\n",
              "    .dataframe tbody tr th {\n",
              "        vertical-align: top;\n",
              "    }\n",
              "\n",
              "    .dataframe thead th {\n",
              "        text-align: right;\n",
              "    }\n",
              "</style>\n",
              "<table border=\"1\" class=\"dataframe\">\n",
              "  <thead>\n",
              "    <tr style=\"text-align: right;\">\n",
              "      <th></th>\n",
              "      <th>Maximum</th>\n",
              "      <th>Ohio</th>\n",
              "      <th>Texas</th>\n",
              "      <th>California</th>\n",
              "      <th>XXX</th>\n",
              "      <th>YYYY1</th>\n",
              "    </tr>\n",
              "  </thead>\n",
              "  <tbody>\n",
              "    <tr>\n",
              "      <th>2001</th>\n",
              "      <td>10.0</td>\n",
              "      <td>10.000000</td>\n",
              "      <td>10.000000</td>\n",
              "      <td>10.000000</td>\n",
              "      <td>10.0</td>\n",
              "      <td>10.0</td>\n",
              "    </tr>\n",
              "    <tr>\n",
              "      <th>2002</th>\n",
              "      <td>10.0</td>\n",
              "      <td>10.000000</td>\n",
              "      <td>10.000000</td>\n",
              "      <td>10.000000</td>\n",
              "      <td>10.0</td>\n",
              "      <td>10.0</td>\n",
              "    </tr>\n",
              "    <tr>\n",
              "      <th>2003</th>\n",
              "      <td>20.0</td>\n",
              "      <td>0.403838</td>\n",
              "      <td>0.525121</td>\n",
              "      <td>0.020277</td>\n",
              "      <td>90.0</td>\n",
              "      <td>20.0</td>\n",
              "    </tr>\n",
              "    <tr>\n",
              "      <th>g</th>\n",
              "      <td>10.0</td>\n",
              "      <td>0.000000</td>\n",
              "      <td>2.000000</td>\n",
              "      <td>4.000000</td>\n",
              "      <td>8.0</td>\n",
              "      <td>10.0</td>\n",
              "    </tr>\n",
              "    <tr>\n",
              "      <th>g1</th>\n",
              "      <td>10.0</td>\n",
              "      <td>10.000000</td>\n",
              "      <td>3.000000</td>\n",
              "      <td>4.000000</td>\n",
              "      <td>5.0</td>\n",
              "      <td>6.0</td>\n",
              "    </tr>\n",
              "  </tbody>\n",
              "</table>\n",
              "</div>"
            ],
            "text/plain": [
              "      Maximum       Ohio      Texas  California   XXX  YYYY1\n",
              "2001     10.0  10.000000  10.000000   10.000000  10.0   10.0\n",
              "2002     10.0  10.000000  10.000000   10.000000  10.0   10.0\n",
              "2003     20.0   0.403838   0.525121    0.020277  90.0   20.0\n",
              "g        10.0   0.000000   2.000000    4.000000   8.0   10.0\n",
              "g1       10.0  10.000000   3.000000    4.000000   5.0    6.0"
            ]
          },
          "execution_count": 59,
          "metadata": {},
          "output_type": "execute_result"
        }
      ],
      "source": [
        "frame1"
      ]
    },
    {
      "cell_type": "code",
      "execution_count": 60,
      "metadata": {
        "id": "_1hhrXpBz1b0"
      },
      "outputs": [],
      "source": [
        "frame1.iloc[0:2,:]-=2"
      ]
    },
    {
      "cell_type": "code",
      "execution_count": 61,
      "metadata": {
        "colab": {
          "base_uri": "https://localhost:8080/",
          "height": 204
        },
        "id": "cZIVVzcuz7If",
        "outputId": "7fe8f0be-0557-44f1-b609-df7092a05f8b"
      },
      "outputs": [
        {
          "data": {
            "text/html": [
              "<div>\n",
              "<style scoped>\n",
              "    .dataframe tbody tr th:only-of-type {\n",
              "        vertical-align: middle;\n",
              "    }\n",
              "\n",
              "    .dataframe tbody tr th {\n",
              "        vertical-align: top;\n",
              "    }\n",
              "\n",
              "    .dataframe thead th {\n",
              "        text-align: right;\n",
              "    }\n",
              "</style>\n",
              "<table border=\"1\" class=\"dataframe\">\n",
              "  <thead>\n",
              "    <tr style=\"text-align: right;\">\n",
              "      <th></th>\n",
              "      <th>Maximum</th>\n",
              "      <th>Ohio</th>\n",
              "      <th>Texas</th>\n",
              "      <th>California</th>\n",
              "      <th>XXX</th>\n",
              "      <th>YYYY1</th>\n",
              "    </tr>\n",
              "  </thead>\n",
              "  <tbody>\n",
              "    <tr>\n",
              "      <th>2001</th>\n",
              "      <td>8.0</td>\n",
              "      <td>8.000000</td>\n",
              "      <td>8.000000</td>\n",
              "      <td>8.000000</td>\n",
              "      <td>8.0</td>\n",
              "      <td>8.0</td>\n",
              "    </tr>\n",
              "    <tr>\n",
              "      <th>2002</th>\n",
              "      <td>8.0</td>\n",
              "      <td>8.000000</td>\n",
              "      <td>8.000000</td>\n",
              "      <td>8.000000</td>\n",
              "      <td>8.0</td>\n",
              "      <td>8.0</td>\n",
              "    </tr>\n",
              "    <tr>\n",
              "      <th>2003</th>\n",
              "      <td>20.0</td>\n",
              "      <td>0.403838</td>\n",
              "      <td>0.525121</td>\n",
              "      <td>0.020277</td>\n",
              "      <td>90.0</td>\n",
              "      <td>20.0</td>\n",
              "    </tr>\n",
              "    <tr>\n",
              "      <th>g</th>\n",
              "      <td>10.0</td>\n",
              "      <td>0.000000</td>\n",
              "      <td>2.000000</td>\n",
              "      <td>4.000000</td>\n",
              "      <td>8.0</td>\n",
              "      <td>10.0</td>\n",
              "    </tr>\n",
              "    <tr>\n",
              "      <th>g1</th>\n",
              "      <td>10.0</td>\n",
              "      <td>10.000000</td>\n",
              "      <td>3.000000</td>\n",
              "      <td>4.000000</td>\n",
              "      <td>5.0</td>\n",
              "      <td>6.0</td>\n",
              "    </tr>\n",
              "  </tbody>\n",
              "</table>\n",
              "</div>"
            ],
            "text/plain": [
              "      Maximum       Ohio     Texas  California   XXX  YYYY1\n",
              "2001      8.0   8.000000  8.000000    8.000000   8.0    8.0\n",
              "2002      8.0   8.000000  8.000000    8.000000   8.0    8.0\n",
              "2003     20.0   0.403838  0.525121    0.020277  90.0   20.0\n",
              "g        10.0   0.000000  2.000000    4.000000   8.0   10.0\n",
              "g1       10.0  10.000000  3.000000    4.000000   5.0    6.0"
            ]
          },
          "execution_count": 61,
          "metadata": {},
          "output_type": "execute_result"
        }
      ],
      "source": [
        "frame1"
      ]
    },
    {
      "cell_type": "markdown",
      "metadata": {
        "id": "Vjp8FJ0rgujs"
      },
      "source": [
        "## Applying user-defined function  on each column to get difference in max and min values of each column"
      ]
    },
    {
      "cell_type": "code",
      "execution_count": 154,
      "metadata": {
        "colab": {
          "base_uri": "https://localhost:8080/"
        },
        "id": "ZjIbZsFLgPRm",
        "outputId": "62582a38-66fa-4422-e18c-e9b68df7743f"
      },
      "outputs": [
        {
          "data": {
            "text/plain": [
              "Maximum       15.000000\n",
              "Ohio           2.000000\n",
              "Texas          2.507332\n",
              "California     3.556809\n",
              "XXX           98.000000\n",
              "YYYY1         15.000000\n",
              "dtype: float64"
            ]
          },
          "metadata": {},
          "output_type": "display_data"
        },
        {
          "data": {
            "text/html": [
              "<div>\n",
              "<style scoped>\n",
              "    .dataframe tbody tr th:only-of-type {\n",
              "        vertical-align: middle;\n",
              "    }\n",
              "\n",
              "    .dataframe tbody tr th {\n",
              "        vertical-align: top;\n",
              "    }\n",
              "\n",
              "    .dataframe thead th {\n",
              "        text-align: right;\n",
              "    }\n",
              "</style>\n",
              "<table border=\"1\" class=\"dataframe\">\n",
              "  <thead>\n",
              "    <tr style=\"text-align: right;\">\n",
              "      <th></th>\n",
              "      <th>Maximum</th>\n",
              "      <th>Ohio</th>\n",
              "      <th>Texas</th>\n",
              "      <th>California</th>\n",
              "      <th>XXX</th>\n",
              "      <th>YYYY1</th>\n",
              "    </tr>\n",
              "  </thead>\n",
              "  <tbody>\n",
              "    <tr>\n",
              "      <th>2001</th>\n",
              "      <td>21.0</td>\n",
              "      <td>0.598574</td>\n",
              "      <td>0.492668</td>\n",
              "      <td>0.971234</td>\n",
              "      <td>-90</td>\n",
              "      <td>21</td>\n",
              "    </tr>\n",
              "    <tr>\n",
              "      <th>2002</th>\n",
              "      <td>20.0</td>\n",
              "      <td>0.734206</td>\n",
              "      <td>0.498811</td>\n",
              "      <td>0.729184</td>\n",
              "      <td>-90</td>\n",
              "      <td>20</td>\n",
              "    </tr>\n",
              "    <tr>\n",
              "      <th>2003</th>\n",
              "      <td>20.0</td>\n",
              "      <td>0.497516</td>\n",
              "      <td>0.926966</td>\n",
              "      <td>0.443191</td>\n",
              "      <td>-90</td>\n",
              "      <td>20</td>\n",
              "    </tr>\n",
              "    <tr>\n",
              "      <th>g</th>\n",
              "      <td>10.0</td>\n",
              "      <td>0.000000</td>\n",
              "      <td>2.000000</td>\n",
              "      <td>4.000000</td>\n",
              "      <td>8</td>\n",
              "      <td>10</td>\n",
              "    </tr>\n",
              "    <tr>\n",
              "      <th>g1</th>\n",
              "      <td>6.0</td>\n",
              "      <td>2.000000</td>\n",
              "      <td>3.000000</td>\n",
              "      <td>4.000000</td>\n",
              "      <td>5</td>\n",
              "      <td>6</td>\n",
              "    </tr>\n",
              "  </tbody>\n",
              "</table>\n",
              "</div>"
            ],
            "text/plain": [
              "      Maximum      Ohio     Texas  California  XXX  YYYY1\n",
              "2001     21.0  0.598574  0.492668    0.971234  -90     21\n",
              "2002     20.0  0.734206  0.498811    0.729184  -90     20\n",
              "2003     20.0  0.497516  0.926966    0.443191  -90     20\n",
              "g        10.0  0.000000  2.000000    4.000000    8     10\n",
              "g1        6.0  2.000000  3.000000    4.000000    5      6"
            ]
          },
          "execution_count": 154,
          "metadata": {},
          "output_type": "execute_result"
        }
      ],
      "source": [
        "f = lambda x: x.max() - x.min()\n",
        "display(frame1.apply(f))\n",
        "frame1"
      ]
    },
    {
      "cell_type": "markdown",
      "metadata": {
        "id": "1Jyv7xqMhRTI"
      },
      "source": [
        "## applying function row-wise"
      ]
    },
    {
      "cell_type": "code",
      "execution_count": 156,
      "metadata": {
        "colab": {
          "base_uri": "https://localhost:8080/",
          "height": 204
        },
        "id": "TBWWJxDowjB_",
        "outputId": "024092a7-df8a-4f9c-9481-291426022cdc"
      },
      "outputs": [
        {
          "data": {
            "text/html": [
              "<div>\n",
              "<style scoped>\n",
              "    .dataframe tbody tr th:only-of-type {\n",
              "        vertical-align: middle;\n",
              "    }\n",
              "\n",
              "    .dataframe tbody tr th {\n",
              "        vertical-align: top;\n",
              "    }\n",
              "\n",
              "    .dataframe thead th {\n",
              "        text-align: right;\n",
              "    }\n",
              "</style>\n",
              "<table border=\"1\" class=\"dataframe\">\n",
              "  <thead>\n",
              "    <tr style=\"text-align: right;\">\n",
              "      <th></th>\n",
              "      <th>Maximum</th>\n",
              "      <th>Ohio</th>\n",
              "      <th>Texas</th>\n",
              "      <th>California</th>\n",
              "      <th>XXX</th>\n",
              "      <th>YYYY1</th>\n",
              "    </tr>\n",
              "  </thead>\n",
              "  <tbody>\n",
              "    <tr>\n",
              "      <th>2001</th>\n",
              "      <td>21.0</td>\n",
              "      <td>0.598574</td>\n",
              "      <td>0.492668</td>\n",
              "      <td>0.971234</td>\n",
              "      <td>-90</td>\n",
              "      <td>21</td>\n",
              "    </tr>\n",
              "    <tr>\n",
              "      <th>2002</th>\n",
              "      <td>20.0</td>\n",
              "      <td>0.734206</td>\n",
              "      <td>0.498811</td>\n",
              "      <td>0.729184</td>\n",
              "      <td>-90</td>\n",
              "      <td>20</td>\n",
              "    </tr>\n",
              "    <tr>\n",
              "      <th>2003</th>\n",
              "      <td>20.0</td>\n",
              "      <td>0.497516</td>\n",
              "      <td>0.926966</td>\n",
              "      <td>0.443191</td>\n",
              "      <td>-90</td>\n",
              "      <td>20</td>\n",
              "    </tr>\n",
              "    <tr>\n",
              "      <th>g</th>\n",
              "      <td>10.0</td>\n",
              "      <td>0.000000</td>\n",
              "      <td>2.000000</td>\n",
              "      <td>4.000000</td>\n",
              "      <td>8</td>\n",
              "      <td>10</td>\n",
              "    </tr>\n",
              "    <tr>\n",
              "      <th>g1</th>\n",
              "      <td>6.0</td>\n",
              "      <td>2.000000</td>\n",
              "      <td>3.000000</td>\n",
              "      <td>4.000000</td>\n",
              "      <td>5</td>\n",
              "      <td>6</td>\n",
              "    </tr>\n",
              "  </tbody>\n",
              "</table>\n",
              "</div>"
            ],
            "text/plain": [
              "      Maximum      Ohio     Texas  California  XXX  YYYY1\n",
              "2001     21.0  0.598574  0.492668    0.971234  -90     21\n",
              "2002     20.0  0.734206  0.498811    0.729184  -90     20\n",
              "2003     20.0  0.497516  0.926966    0.443191  -90     20\n",
              "g        10.0  0.000000  2.000000    4.000000    8     10\n",
              "g1        6.0  2.000000  3.000000    4.000000    5      6"
            ]
          },
          "execution_count": 156,
          "metadata": {},
          "output_type": "execute_result"
        }
      ],
      "source": [
        "frame1"
      ]
    },
    {
      "cell_type": "code",
      "execution_count": 64,
      "metadata": {
        "colab": {
          "base_uri": "https://localhost:8080/"
        },
        "id": "7bQm-SZAhV6F",
        "outputId": "89f6c49d-73b6-4046-ae58-1479163342da"
      },
      "outputs": [
        {
          "data": {
            "text/plain": [
              "2001     0.000000\n",
              "2002     0.000000\n",
              "2003    89.979723\n",
              "g       10.000000\n",
              "g1       7.000000\n",
              "dtype: float64"
            ]
          },
          "execution_count": 64,
          "metadata": {},
          "output_type": "execute_result"
        }
      ],
      "source": [
        "frame1.apply(f,axis='columns')"
      ]
    },
    {
      "cell_type": "code",
      "execution_count": 65,
      "metadata": {
        "colab": {
          "base_uri": "https://localhost:8080/"
        },
        "id": "P5VKgpYbvqz4",
        "outputId": "d6a986ec-d0a5-4231-b802-cdcb97f0335f"
      },
      "outputs": [
        {
          "data": {
            "text/plain": [
              "2001     0.000000\n",
              "2002     0.000000\n",
              "2003    89.979723\n",
              "g       10.000000\n",
              "g1       7.000000\n",
              "dtype: float64"
            ]
          },
          "execution_count": 65,
          "metadata": {},
          "output_type": "execute_result"
        }
      ],
      "source": [
        "frame1.apply(f,axis=1)"
      ]
    },
    {
      "cell_type": "code",
      "execution_count": 66,
      "metadata": {},
      "outputs": [
        {
          "data": {
            "text/plain": [
              "Maximum       12.000000\n",
              "Ohio          10.000000\n",
              "Texas          7.474879\n",
              "California     7.979723\n",
              "XXX           85.000000\n",
              "YYYY1         14.000000\n",
              "dtype: float64"
            ]
          },
          "execution_count": 66,
          "metadata": {},
          "output_type": "execute_result"
        }
      ],
      "source": [
        "frame1.apply(f,axis=0)"
      ]
    },
    {
      "cell_type": "markdown",
      "metadata": {
        "id": "bP_JmK6HxNQN"
      },
      "source": [
        "## find mean values for each column, by default it is column for data frame"
      ]
    },
    {
      "cell_type": "code",
      "execution_count": 67,
      "metadata": {
        "colab": {
          "base_uri": "https://localhost:8080/"
        },
        "id": "E_kAOqkGxGCf",
        "outputId": "22e7820d-4322-420b-a3b1-5d0d979bfe8e"
      },
      "outputs": [
        {
          "data": {
            "text/plain": [
              "Maximum       11.200000\n",
              "Ohio           5.280768\n",
              "Texas          4.305024\n",
              "California     4.804055\n",
              "XXX           23.800000\n",
              "YYYY1         10.400000\n",
              "dtype: float64"
            ]
          },
          "execution_count": 67,
          "metadata": {},
          "output_type": "execute_result"
        }
      ],
      "source": [
        "frame1.mean(axis=0)"
      ]
    },
    {
      "cell_type": "markdown",
      "metadata": {},
      "source": [
        "## count values greater than mean of DF for each row and store as a new column"
      ]
    },
    {
      "cell_type": "code",
      "execution_count": 204,
      "metadata": {
        "colab": {
          "base_uri": "https://localhost:8080/",
          "height": 235
        },
        "id": "8quqdTe70n9B",
        "outputId": "6590f616-53bb-4aba-dac0-08a992e5747b"
      },
      "outputs": [
        {
          "data": {
            "text/html": [
              "<div>\n",
              "<style scoped>\n",
              "    .dataframe tbody tr th:only-of-type {\n",
              "        vertical-align: middle;\n",
              "    }\n",
              "\n",
              "    .dataframe tbody tr th {\n",
              "        vertical-align: top;\n",
              "    }\n",
              "\n",
              "    .dataframe thead th {\n",
              "        text-align: right;\n",
              "    }\n",
              "</style>\n",
              "<table border=\"1\" class=\"dataframe\">\n",
              "  <thead>\n",
              "    <tr style=\"text-align: right;\">\n",
              "      <th></th>\n",
              "      <th>Maximum</th>\n",
              "      <th>Ohio</th>\n",
              "      <th>Texas</th>\n",
              "      <th>California</th>\n",
              "      <th>XXX</th>\n",
              "      <th>YYYY1</th>\n",
              "      <th>Greater than mean</th>\n",
              "    </tr>\n",
              "  </thead>\n",
              "  <tbody>\n",
              "    <tr>\n",
              "      <th>2001</th>\n",
              "      <td>21.0</td>\n",
              "      <td>NaN</td>\n",
              "      <td>0.492668</td>\n",
              "      <td>0.971234</td>\n",
              "      <td>90</td>\n",
              "      <td>21</td>\n",
              "      <td>NaN</td>\n",
              "    </tr>\n",
              "    <tr>\n",
              "      <th>2002</th>\n",
              "      <td>20.0</td>\n",
              "      <td>0.734206</td>\n",
              "      <td>0.498811</td>\n",
              "      <td>0.729184</td>\n",
              "      <td>90</td>\n",
              "      <td>20</td>\n",
              "      <td>NaN</td>\n",
              "    </tr>\n",
              "    <tr>\n",
              "      <th>2003</th>\n",
              "      <td>20.0</td>\n",
              "      <td>0.497516</td>\n",
              "      <td>0.926966</td>\n",
              "      <td>0.443191</td>\n",
              "      <td>90</td>\n",
              "      <td>20</td>\n",
              "      <td>NaN</td>\n",
              "    </tr>\n",
              "    <tr>\n",
              "      <th>g</th>\n",
              "      <td>10.0</td>\n",
              "      <td>0.000000</td>\n",
              "      <td>2.000000</td>\n",
              "      <td>4.000000</td>\n",
              "      <td>8</td>\n",
              "      <td>10</td>\n",
              "      <td>NaN</td>\n",
              "    </tr>\n",
              "    <tr>\n",
              "      <th>g1</th>\n",
              "      <td>6.0</td>\n",
              "      <td>2.000000</td>\n",
              "      <td>3.000000</td>\n",
              "      <td>4.000000</td>\n",
              "      <td>5</td>\n",
              "      <td>6</td>\n",
              "      <td>NaN</td>\n",
              "    </tr>\n",
              "  </tbody>\n",
              "</table>\n",
              "</div>"
            ],
            "text/plain": [
              "      Maximum      Ohio     Texas  California  XXX  YYYY1  Greater than mean\n",
              "2001     21.0       NaN  0.492668    0.971234   90     21                NaN\n",
              "2002     20.0  0.734206  0.498811    0.729184   90     20                NaN\n",
              "2003     20.0  0.497516  0.926966    0.443191   90     20                NaN\n",
              "g        10.0  0.000000  2.000000    4.000000    8     10                NaN\n",
              "g1        6.0  2.000000  3.000000    4.000000    5      6                NaN"
            ]
          },
          "metadata": {},
          "output_type": "display_data"
        },
        {
          "name": "stdout",
          "output_type": "stream",
          "text": [
            "15.270056907502187\n"
          ]
        },
        {
          "data": {
            "text/html": [
              "<div>\n",
              "<style scoped>\n",
              "    .dataframe tbody tr th:only-of-type {\n",
              "        vertical-align: middle;\n",
              "    }\n",
              "\n",
              "    .dataframe tbody tr th {\n",
              "        vertical-align: top;\n",
              "    }\n",
              "\n",
              "    .dataframe thead th {\n",
              "        text-align: right;\n",
              "    }\n",
              "</style>\n",
              "<table border=\"1\" class=\"dataframe\">\n",
              "  <thead>\n",
              "    <tr style=\"text-align: right;\">\n",
              "      <th></th>\n",
              "      <th>Maximum</th>\n",
              "      <th>Ohio</th>\n",
              "      <th>Texas</th>\n",
              "      <th>California</th>\n",
              "      <th>XXX</th>\n",
              "      <th>YYYY1</th>\n",
              "      <th>Greater than mean</th>\n",
              "    </tr>\n",
              "  </thead>\n",
              "  <tbody>\n",
              "    <tr>\n",
              "      <th>2001</th>\n",
              "      <td>21.0</td>\n",
              "      <td>NaN</td>\n",
              "      <td>0.492668</td>\n",
              "      <td>0.971234</td>\n",
              "      <td>90</td>\n",
              "      <td>21</td>\n",
              "      <td>3</td>\n",
              "    </tr>\n",
              "    <tr>\n",
              "      <th>2002</th>\n",
              "      <td>20.0</td>\n",
              "      <td>0.734206</td>\n",
              "      <td>0.498811</td>\n",
              "      <td>0.729184</td>\n",
              "      <td>90</td>\n",
              "      <td>20</td>\n",
              "      <td>3</td>\n",
              "    </tr>\n",
              "    <tr>\n",
              "      <th>2003</th>\n",
              "      <td>20.0</td>\n",
              "      <td>0.497516</td>\n",
              "      <td>0.926966</td>\n",
              "      <td>0.443191</td>\n",
              "      <td>90</td>\n",
              "      <td>20</td>\n",
              "      <td>3</td>\n",
              "    </tr>\n",
              "    <tr>\n",
              "      <th>g</th>\n",
              "      <td>10.0</td>\n",
              "      <td>0.000000</td>\n",
              "      <td>2.000000</td>\n",
              "      <td>4.000000</td>\n",
              "      <td>8</td>\n",
              "      <td>10</td>\n",
              "      <td>0</td>\n",
              "    </tr>\n",
              "    <tr>\n",
              "      <th>g1</th>\n",
              "      <td>6.0</td>\n",
              "      <td>2.000000</td>\n",
              "      <td>3.000000</td>\n",
              "      <td>4.000000</td>\n",
              "      <td>5</td>\n",
              "      <td>6</td>\n",
              "      <td>0</td>\n",
              "    </tr>\n",
              "  </tbody>\n",
              "</table>\n",
              "</div>"
            ],
            "text/plain": [
              "      Maximum      Ohio     Texas  California  XXX  YYYY1  Greater than mean\n",
              "2001     21.0       NaN  0.492668    0.971234   90     21                  3\n",
              "2002     20.0  0.734206  0.498811    0.729184   90     20                  3\n",
              "2003     20.0  0.497516  0.926966    0.443191   90     20                  3\n",
              "g        10.0  0.000000  2.000000    4.000000    8     10                  0\n",
              "g1        6.0  2.000000  3.000000    4.000000    5      6                  0"
            ]
          },
          "execution_count": 204,
          "metadata": {},
          "output_type": "execute_result"
        }
      ],
      "source": [
        "frame1 = np.abs(frame1)\n",
        "display(frame1)\n",
        "df_mean = frame1.mean().mean()\n",
        "print(df_mean)\n",
        "\n",
        "# lambda function to count values > than mean in a row\n",
        "f = lambda x :  (x>df_mean).sum()\n",
        "\n",
        "frame1['Greater than mean'] = frame1.apply(f,axis=1)\n",
        "frame1\n"
      ]
    },
    {
      "cell_type": "code",
      "execution_count": 173,
      "metadata": {
        "colab": {
          "base_uri": "https://localhost:8080/"
        },
        "id": "U8qk03wvxRfn",
        "outputId": "1929944f-2104-4c81-9532-9dfe93e5492c"
      },
      "outputs": [
        {
          "data": {
            "text/plain": [
              "Maximum              20.000000\n",
              "Ohio                  0.598574\n",
              "Texas                 0.926966\n",
              "California            0.971234\n",
              "XXX                  90.000000\n",
              "YYYY1                20.000000\n",
              "Greater than mean     3.000000\n",
              "dtype: float64"
            ]
          },
          "execution_count": 173,
          "metadata": {},
          "output_type": "execute_result"
        }
      ],
      "source": [
        "frame1.median()"
      ]
    },
    {
      "cell_type": "markdown",
      "metadata": {
        "id": "zotHfj6AiRUI"
      },
      "source": [
        "#add all  values of the specified columns"
      ]
    },
    {
      "cell_type": "code",
      "execution_count": 174,
      "metadata": {
        "colab": {
          "base_uri": "https://localhost:8080/",
          "height": 204
        },
        "id": "6kIzPsaQxo8h",
        "outputId": "f832caaa-9f85-4035-9d18-c6b37bdf8bf1"
      },
      "outputs": [
        {
          "data": {
            "text/html": [
              "<div>\n",
              "<style scoped>\n",
              "    .dataframe tbody tr th:only-of-type {\n",
              "        vertical-align: middle;\n",
              "    }\n",
              "\n",
              "    .dataframe tbody tr th {\n",
              "        vertical-align: top;\n",
              "    }\n",
              "\n",
              "    .dataframe thead th {\n",
              "        text-align: right;\n",
              "    }\n",
              "</style>\n",
              "<table border=\"1\" class=\"dataframe\">\n",
              "  <thead>\n",
              "    <tr style=\"text-align: right;\">\n",
              "      <th></th>\n",
              "      <th>Maximum</th>\n",
              "      <th>Ohio</th>\n",
              "      <th>Texas</th>\n",
              "      <th>California</th>\n",
              "      <th>XXX</th>\n",
              "      <th>YYYY1</th>\n",
              "      <th>Greater than mean</th>\n",
              "    </tr>\n",
              "  </thead>\n",
              "  <tbody>\n",
              "    <tr>\n",
              "      <th>2001</th>\n",
              "      <td>21.0</td>\n",
              "      <td>0.598574</td>\n",
              "      <td>0.492668</td>\n",
              "      <td>0.971234</td>\n",
              "      <td>90</td>\n",
              "      <td>21</td>\n",
              "      <td>3</td>\n",
              "    </tr>\n",
              "    <tr>\n",
              "      <th>2002</th>\n",
              "      <td>20.0</td>\n",
              "      <td>0.734206</td>\n",
              "      <td>0.498811</td>\n",
              "      <td>0.729184</td>\n",
              "      <td>90</td>\n",
              "      <td>20</td>\n",
              "      <td>3</td>\n",
              "    </tr>\n",
              "    <tr>\n",
              "      <th>2003</th>\n",
              "      <td>20.0</td>\n",
              "      <td>0.497516</td>\n",
              "      <td>0.926966</td>\n",
              "      <td>0.443191</td>\n",
              "      <td>90</td>\n",
              "      <td>20</td>\n",
              "      <td>3</td>\n",
              "    </tr>\n",
              "    <tr>\n",
              "      <th>g</th>\n",
              "      <td>10.0</td>\n",
              "      <td>0.000000</td>\n",
              "      <td>2.000000</td>\n",
              "      <td>4.000000</td>\n",
              "      <td>8</td>\n",
              "      <td>10</td>\n",
              "      <td>0</td>\n",
              "    </tr>\n",
              "    <tr>\n",
              "      <th>g1</th>\n",
              "      <td>6.0</td>\n",
              "      <td>2.000000</td>\n",
              "      <td>3.000000</td>\n",
              "      <td>4.000000</td>\n",
              "      <td>5</td>\n",
              "      <td>6</td>\n",
              "      <td>0</td>\n",
              "    </tr>\n",
              "  </tbody>\n",
              "</table>\n",
              "</div>"
            ],
            "text/plain": [
              "      Maximum      Ohio     Texas  California  XXX  YYYY1  Greater than mean\n",
              "2001     21.0  0.598574  0.492668    0.971234   90     21                  3\n",
              "2002     20.0  0.734206  0.498811    0.729184   90     20                  3\n",
              "2003     20.0  0.497516  0.926966    0.443191   90     20                  3\n",
              "g        10.0  0.000000  2.000000    4.000000    8     10                  0\n",
              "g1        6.0  2.000000  3.000000    4.000000    5      6                  0"
            ]
          },
          "execution_count": 174,
          "metadata": {},
          "output_type": "execute_result"
        }
      ],
      "source": [
        "frame1"
      ]
    },
    {
      "cell_type": "code",
      "execution_count": 175,
      "metadata": {
        "colab": {
          "base_uri": "https://localhost:8080/"
        },
        "id": "QHF7Fy6CiEPI",
        "outputId": "b3402770-846a-4e38-dd19-b64974a44cb4"
      },
      "outputs": [
        {
          "data": {
            "text/plain": [
              "Ohio      3.830296\n",
              "XXX     283.000000\n",
              "dtype: float64"
            ]
          },
          "execution_count": 175,
          "metadata": {},
          "output_type": "execute_result"
        }
      ],
      "source": [
        "frame1[['Ohio','XXX']].sum(axis=0)"
      ]
    },
    {
      "cell_type": "code",
      "execution_count": 176,
      "metadata": {
        "colab": {
          "base_uri": "https://localhost:8080/"
        },
        "id": "CmhPY2MpiYOw",
        "outputId": "249e936e-d10d-4453-cffa-8383825fe06b"
      },
      "outputs": [
        {
          "data": {
            "text/plain": [
              "2001    45.299287\n",
              "2002    45.367103\n",
              "2003    45.248758\n",
              "g        4.000000\n",
              "g1       3.500000\n",
              "dtype: float64"
            ]
          },
          "execution_count": 176,
          "metadata": {},
          "output_type": "execute_result"
        }
      ],
      "source": [
        "frame1[['Ohio','XXX']].mean(axis=1)"
      ]
    },
    {
      "cell_type": "markdown",
      "metadata": {
        "id": "Dt9dYRPmiwsF"
      },
      "source": [
        "#applied function may also return a series (i.e. multiple values)"
      ]
    },
    {
      "cell_type": "code",
      "execution_count": 177,
      "metadata": {
        "colab": {
          "base_uri": "https://localhost:8080/",
          "height": 141
        },
        "id": "rwKvvSJ4i2ac",
        "outputId": "d101b4b9-0f54-454a-ed47-f9fd1c85c4ca"
      },
      "outputs": [
        {
          "data": {
            "text/html": [
              "<div>\n",
              "<style scoped>\n",
              "    .dataframe tbody tr th:only-of-type {\n",
              "        vertical-align: middle;\n",
              "    }\n",
              "\n",
              "    .dataframe tbody tr th {\n",
              "        vertical-align: top;\n",
              "    }\n",
              "\n",
              "    .dataframe thead th {\n",
              "        text-align: right;\n",
              "    }\n",
              "</style>\n",
              "<table border=\"1\" class=\"dataframe\">\n",
              "  <thead>\n",
              "    <tr style=\"text-align: right;\">\n",
              "      <th></th>\n",
              "      <th>Maximum</th>\n",
              "      <th>Ohio</th>\n",
              "      <th>Texas</th>\n",
              "      <th>California</th>\n",
              "      <th>XXX</th>\n",
              "      <th>YYYY1</th>\n",
              "      <th>Greater than mean</th>\n",
              "    </tr>\n",
              "  </thead>\n",
              "  <tbody>\n",
              "    <tr>\n",
              "      <th>min</th>\n",
              "      <td>6.0</td>\n",
              "      <td>0.000000</td>\n",
              "      <td>0.492668</td>\n",
              "      <td>0.443191</td>\n",
              "      <td>5.0</td>\n",
              "      <td>6.0</td>\n",
              "      <td>0.0</td>\n",
              "    </tr>\n",
              "    <tr>\n",
              "      <th>max</th>\n",
              "      <td>21.0</td>\n",
              "      <td>2.000000</td>\n",
              "      <td>3.000000</td>\n",
              "      <td>4.000000</td>\n",
              "      <td>90.0</td>\n",
              "      <td>21.0</td>\n",
              "      <td>3.0</td>\n",
              "    </tr>\n",
              "    <tr>\n",
              "      <th>avg</th>\n",
              "      <td>15.4</td>\n",
              "      <td>0.766059</td>\n",
              "      <td>1.383689</td>\n",
              "      <td>2.028722</td>\n",
              "      <td>56.6</td>\n",
              "      <td>15.4</td>\n",
              "      <td>1.8</td>\n",
              "    </tr>\n",
              "  </tbody>\n",
              "</table>\n",
              "</div>"
            ],
            "text/plain": [
              "     Maximum      Ohio     Texas  California   XXX  YYYY1  Greater than mean\n",
              "min      6.0  0.000000  0.492668    0.443191   5.0    6.0                0.0\n",
              "max     21.0  2.000000  3.000000    4.000000  90.0   21.0                3.0\n",
              "avg     15.4  0.766059  1.383689    2.028722  56.6   15.4                1.8"
            ]
          },
          "execution_count": 177,
          "metadata": {},
          "output_type": "execute_result"
        }
      ],
      "source": [
        "def f(x):\n",
        "    return pd.Series([x.min(), x.max(),x.mean()], index=['min', 'max','avg'])\n",
        "frame1.apply(f)"
      ]
    },
    {
      "cell_type": "markdown",
      "metadata": {
        "id": "sW8cB13BjKom"
      },
      "source": [
        "## problem to do: can a lambda function return multiple values?"
      ]
    },
    {
      "cell_type": "code",
      "execution_count": 178,
      "metadata": {
        "id": "qUn7d6DF21ym"
      },
      "outputs": [
        {
          "data": {
            "text/html": [
              "<div>\n",
              "<style scoped>\n",
              "    .dataframe tbody tr th:only-of-type {\n",
              "        vertical-align: middle;\n",
              "    }\n",
              "\n",
              "    .dataframe tbody tr th {\n",
              "        vertical-align: top;\n",
              "    }\n",
              "\n",
              "    .dataframe thead th {\n",
              "        text-align: right;\n",
              "    }\n",
              "</style>\n",
              "<table border=\"1\" class=\"dataframe\">\n",
              "  <thead>\n",
              "    <tr style=\"text-align: right;\">\n",
              "      <th></th>\n",
              "      <th>Maximum</th>\n",
              "      <th>Ohio</th>\n",
              "      <th>Texas</th>\n",
              "      <th>California</th>\n",
              "      <th>XXX</th>\n",
              "      <th>YYYY1</th>\n",
              "      <th>Greater than mean</th>\n",
              "    </tr>\n",
              "  </thead>\n",
              "  <tbody>\n",
              "    <tr>\n",
              "      <th>0</th>\n",
              "      <td>6.0</td>\n",
              "      <td>0.000000</td>\n",
              "      <td>0.492668</td>\n",
              "      <td>0.443191</td>\n",
              "      <td>5.0</td>\n",
              "      <td>6.0</td>\n",
              "      <td>0.0</td>\n",
              "    </tr>\n",
              "    <tr>\n",
              "      <th>1</th>\n",
              "      <td>21.0</td>\n",
              "      <td>2.000000</td>\n",
              "      <td>3.000000</td>\n",
              "      <td>4.000000</td>\n",
              "      <td>90.0</td>\n",
              "      <td>21.0</td>\n",
              "      <td>3.0</td>\n",
              "    </tr>\n",
              "    <tr>\n",
              "      <th>2</th>\n",
              "      <td>15.4</td>\n",
              "      <td>0.766059</td>\n",
              "      <td>1.383689</td>\n",
              "      <td>2.028722</td>\n",
              "      <td>56.6</td>\n",
              "      <td>15.4</td>\n",
              "      <td>1.8</td>\n",
              "    </tr>\n",
              "  </tbody>\n",
              "</table>\n",
              "</div>"
            ],
            "text/plain": [
              "   Maximum      Ohio     Texas  California   XXX  YYYY1  Greater than mean\n",
              "0      6.0  0.000000  0.492668    0.443191   5.0    6.0                0.0\n",
              "1     21.0  2.000000  3.000000    4.000000  90.0   21.0                3.0\n",
              "2     15.4  0.766059  1.383689    2.028722  56.6   15.4                1.8"
            ]
          },
          "execution_count": 178,
          "metadata": {},
          "output_type": "execute_result"
        }
      ],
      "source": [
        "f1=lambda x: (x.min(),x.max(),x.mean())\n",
        "f2=frame1.apply(f1)\n",
        "f2"
      ]
    },
    {
      "cell_type": "code",
      "execution_count": 75,
      "metadata": {
        "colab": {
          "base_uri": "https://localhost:8080/"
        },
        "id": "JXyLor4j3S1e",
        "outputId": "e890e28a-ae75-41c4-8b0c-109266d5780f"
      },
      "outputs": [
        {
          "data": {
            "text/plain": [
              "pandas.core.frame.DataFrame"
            ]
          },
          "execution_count": 75,
          "metadata": {},
          "output_type": "execute_result"
        }
      ],
      "source": [
        "type(f2)"
      ]
    },
    {
      "cell_type": "markdown",
      "metadata": {
        "id": "OK-u0OWRjQYR"
      },
      "source": [
        "## element-wise operation"
      ]
    },
    {
      "cell_type": "code",
      "execution_count": 76,
      "metadata": {
        "colab": {
          "base_uri": "https://localhost:8080/",
          "height": 235
        },
        "id": "IJYK1wIo3f8A",
        "outputId": "6f856145-a6e6-4358-fea3-fee4d168e94a"
      },
      "outputs": [
        {
          "data": {
            "text/html": [
              "<div>\n",
              "<style scoped>\n",
              "    .dataframe tbody tr th:only-of-type {\n",
              "        vertical-align: middle;\n",
              "    }\n",
              "\n",
              "    .dataframe tbody tr th {\n",
              "        vertical-align: top;\n",
              "    }\n",
              "\n",
              "    .dataframe thead th {\n",
              "        text-align: right;\n",
              "    }\n",
              "</style>\n",
              "<table border=\"1\" class=\"dataframe\">\n",
              "  <thead>\n",
              "    <tr style=\"text-align: right;\">\n",
              "      <th></th>\n",
              "      <th>Maximum</th>\n",
              "      <th>Ohio</th>\n",
              "      <th>Texas</th>\n",
              "      <th>California</th>\n",
              "      <th>XXX</th>\n",
              "      <th>YYYY1</th>\n",
              "    </tr>\n",
              "  </thead>\n",
              "  <tbody>\n",
              "    <tr>\n",
              "      <th>2001</th>\n",
              "      <td>8.0</td>\n",
              "      <td>8.000000</td>\n",
              "      <td>8.000000</td>\n",
              "      <td>8.000000</td>\n",
              "      <td>8.0</td>\n",
              "      <td>8.0</td>\n",
              "    </tr>\n",
              "    <tr>\n",
              "      <th>2002</th>\n",
              "      <td>8.0</td>\n",
              "      <td>8.000000</td>\n",
              "      <td>8.000000</td>\n",
              "      <td>8.000000</td>\n",
              "      <td>8.0</td>\n",
              "      <td>8.0</td>\n",
              "    </tr>\n",
              "    <tr>\n",
              "      <th>2003</th>\n",
              "      <td>20.0</td>\n",
              "      <td>0.403838</td>\n",
              "      <td>0.525121</td>\n",
              "      <td>0.020277</td>\n",
              "      <td>90.0</td>\n",
              "      <td>20.0</td>\n",
              "    </tr>\n",
              "    <tr>\n",
              "      <th>g</th>\n",
              "      <td>10.0</td>\n",
              "      <td>0.000000</td>\n",
              "      <td>2.000000</td>\n",
              "      <td>4.000000</td>\n",
              "      <td>8.0</td>\n",
              "      <td>10.0</td>\n",
              "    </tr>\n",
              "    <tr>\n",
              "      <th>g1</th>\n",
              "      <td>10.0</td>\n",
              "      <td>10.000000</td>\n",
              "      <td>3.000000</td>\n",
              "      <td>4.000000</td>\n",
              "      <td>5.0</td>\n",
              "      <td>6.0</td>\n",
              "    </tr>\n",
              "  </tbody>\n",
              "</table>\n",
              "</div>"
            ],
            "text/plain": [
              "      Maximum       Ohio     Texas  California   XXX  YYYY1\n",
              "2001      8.0   8.000000  8.000000    8.000000   8.0    8.0\n",
              "2002      8.0   8.000000  8.000000    8.000000   8.0    8.0\n",
              "2003     20.0   0.403838  0.525121    0.020277  90.0   20.0\n",
              "g        10.0   0.000000  2.000000    4.000000   8.0   10.0\n",
              "g1       10.0  10.000000  3.000000    4.000000   5.0    6.0"
            ]
          },
          "execution_count": 76,
          "metadata": {},
          "output_type": "execute_result"
        }
      ],
      "source": [
        "frame1"
      ]
    },
    {
      "cell_type": "markdown",
      "metadata": {
        "id": "VyuwkiSiwaDa"
      },
      "source": [
        "#adding 20 to all elements of DF"
      ]
    },
    {
      "cell_type": "code",
      "execution_count": 77,
      "metadata": {
        "colab": {
          "base_uri": "https://localhost:8080/",
          "height": 235
        },
        "id": "YSFCnhWVifjF",
        "outputId": "b7301d47-e3a4-4cea-e28d-33e6149a9e14"
      },
      "outputs": [
        {
          "data": {
            "text/html": [
              "<div>\n",
              "<style scoped>\n",
              "    .dataframe tbody tr th:only-of-type {\n",
              "        vertical-align: middle;\n",
              "    }\n",
              "\n",
              "    .dataframe tbody tr th {\n",
              "        vertical-align: top;\n",
              "    }\n",
              "\n",
              "    .dataframe thead th {\n",
              "        text-align: right;\n",
              "    }\n",
              "</style>\n",
              "<table border=\"1\" class=\"dataframe\">\n",
              "  <thead>\n",
              "    <tr style=\"text-align: right;\">\n",
              "      <th></th>\n",
              "      <th>Maximum</th>\n",
              "      <th>Ohio</th>\n",
              "      <th>Texas</th>\n",
              "      <th>California</th>\n",
              "      <th>XXX</th>\n",
              "      <th>YYYY1</th>\n",
              "    </tr>\n",
              "  </thead>\n",
              "  <tbody>\n",
              "    <tr>\n",
              "      <th>2001</th>\n",
              "      <td>28.0</td>\n",
              "      <td>28.000000</td>\n",
              "      <td>28.000000</td>\n",
              "      <td>28.000000</td>\n",
              "      <td>28.0</td>\n",
              "      <td>28.0</td>\n",
              "    </tr>\n",
              "    <tr>\n",
              "      <th>2002</th>\n",
              "      <td>28.0</td>\n",
              "      <td>28.000000</td>\n",
              "      <td>28.000000</td>\n",
              "      <td>28.000000</td>\n",
              "      <td>28.0</td>\n",
              "      <td>28.0</td>\n",
              "    </tr>\n",
              "    <tr>\n",
              "      <th>2003</th>\n",
              "      <td>40.0</td>\n",
              "      <td>20.403838</td>\n",
              "      <td>20.525121</td>\n",
              "      <td>20.020277</td>\n",
              "      <td>110.0</td>\n",
              "      <td>40.0</td>\n",
              "    </tr>\n",
              "    <tr>\n",
              "      <th>g</th>\n",
              "      <td>30.0</td>\n",
              "      <td>20.000000</td>\n",
              "      <td>22.000000</td>\n",
              "      <td>24.000000</td>\n",
              "      <td>28.0</td>\n",
              "      <td>30.0</td>\n",
              "    </tr>\n",
              "    <tr>\n",
              "      <th>g1</th>\n",
              "      <td>30.0</td>\n",
              "      <td>30.000000</td>\n",
              "      <td>23.000000</td>\n",
              "      <td>24.000000</td>\n",
              "      <td>25.0</td>\n",
              "      <td>26.0</td>\n",
              "    </tr>\n",
              "  </tbody>\n",
              "</table>\n",
              "</div>"
            ],
            "text/plain": [
              "      Maximum       Ohio      Texas  California    XXX  YYYY1\n",
              "2001     28.0  28.000000  28.000000   28.000000   28.0   28.0\n",
              "2002     28.0  28.000000  28.000000   28.000000   28.0   28.0\n",
              "2003     40.0  20.403838  20.525121   20.020277  110.0   40.0\n",
              "g        30.0  20.000000  22.000000   24.000000   28.0   30.0\n",
              "g1       30.0  30.000000  23.000000   24.000000   25.0   26.0"
            ]
          },
          "execution_count": 77,
          "metadata": {},
          "output_type": "execute_result"
        }
      ],
      "source": [
        "frame1+20"
      ]
    },
    {
      "cell_type": "markdown",
      "metadata": {
        "id": "uro4lM3vjtz8"
      },
      "source": [
        "## using applymap() to apply a specific operation on data elements"
      ]
    },
    {
      "cell_type": "code",
      "execution_count": 179,
      "metadata": {
        "id": "GWPSn8crjYG2"
      },
      "outputs": [],
      "source": [
        "f1 = lambda x: np.sqrt(x)+x**2 if (x is not None and x >=0) else 0"
      ]
    },
    {
      "cell_type": "code",
      "execution_count": 180,
      "metadata": {
        "colab": {
          "base_uri": "https://localhost:8080/"
        },
        "id": "r1pxqG3NV95q",
        "outputId": "da5fc3b2-a5d8-45e2-800f-1bcbac27979f"
      },
      "outputs": [
        {
          "data": {
            "text/plain": [
              "0    0\n",
              "1    1\n",
              "2    2\n",
              "3    3\n",
              "4    4\n",
              "dtype: int64"
            ]
          },
          "execution_count": 180,
          "metadata": {},
          "output_type": "execute_result"
        }
      ],
      "source": [
        "s1=pd.Series(range(5))\n",
        "s1"
      ]
    },
    {
      "cell_type": "code",
      "execution_count": 181,
      "metadata": {
        "colab": {
          "base_uri": "https://localhost:8080/"
        },
        "id": "ChAcFWckDKaY",
        "outputId": "0e209d97-e225-49d8-8c58-824e15a58bb8"
      },
      "outputs": [
        {
          "data": {
            "text/plain": [
              "0     0\n",
              "1     1\n",
              "2     2\n",
              "3     3\n",
              "4   -90\n",
              "dtype: int64"
            ]
          },
          "execution_count": 181,
          "metadata": {},
          "output_type": "execute_result"
        }
      ],
      "source": [
        "s1[4]=-90\n",
        "s1"
      ]
    },
    {
      "cell_type": "markdown",
      "metadata": {
        "id": "71FBfyIaWPAD"
      },
      "source": [
        "## find the output?"
      ]
    },
    {
      "cell_type": "code",
      "execution_count": 81,
      "metadata": {
        "colab": {
          "base_uri": "https://localhost:8080/"
        },
        "id": "qa-8TFAPWI21",
        "outputId": "367916ac-97db-4276-ba58-2be3750f23a1"
      },
      "outputs": [
        {
          "data": {
            "text/plain": [
              "0     0.000000\n",
              "1     2.000000\n",
              "2     5.414214\n",
              "3    10.732051\n",
              "4     0.000000\n",
              "dtype: float64"
            ]
          },
          "execution_count": 81,
          "metadata": {},
          "output_type": "execute_result"
        }
      ],
      "source": [
        "s1.apply(f1)"
      ]
    },
    {
      "cell_type": "code",
      "execution_count": 182,
      "metadata": {
        "colab": {
          "base_uri": "https://localhost:8080/",
          "height": 235
        },
        "id": "CmylpBzF4lyP",
        "outputId": "77e8705f-593d-46eb-f3b8-161d10d0505c"
      },
      "outputs": [
        {
          "data": {
            "text/html": [
              "<div>\n",
              "<style scoped>\n",
              "    .dataframe tbody tr th:only-of-type {\n",
              "        vertical-align: middle;\n",
              "    }\n",
              "\n",
              "    .dataframe tbody tr th {\n",
              "        vertical-align: top;\n",
              "    }\n",
              "\n",
              "    .dataframe thead th {\n",
              "        text-align: right;\n",
              "    }\n",
              "</style>\n",
              "<table border=\"1\" class=\"dataframe\">\n",
              "  <thead>\n",
              "    <tr style=\"text-align: right;\">\n",
              "      <th></th>\n",
              "      <th>Maximum</th>\n",
              "      <th>Ohio</th>\n",
              "      <th>Texas</th>\n",
              "      <th>California</th>\n",
              "      <th>XXX</th>\n",
              "      <th>YYYY1</th>\n",
              "      <th>Greater than mean</th>\n",
              "    </tr>\n",
              "  </thead>\n",
              "  <tbody>\n",
              "    <tr>\n",
              "      <th>2001</th>\n",
              "      <td>21.0</td>\n",
              "      <td>0.598574</td>\n",
              "      <td>0.492668</td>\n",
              "      <td>0.971234</td>\n",
              "      <td>90</td>\n",
              "      <td>21</td>\n",
              "      <td>3</td>\n",
              "    </tr>\n",
              "    <tr>\n",
              "      <th>2002</th>\n",
              "      <td>20.0</td>\n",
              "      <td>0.734206</td>\n",
              "      <td>0.498811</td>\n",
              "      <td>0.729184</td>\n",
              "      <td>90</td>\n",
              "      <td>20</td>\n",
              "      <td>3</td>\n",
              "    </tr>\n",
              "    <tr>\n",
              "      <th>2003</th>\n",
              "      <td>20.0</td>\n",
              "      <td>0.497516</td>\n",
              "      <td>0.926966</td>\n",
              "      <td>0.443191</td>\n",
              "      <td>90</td>\n",
              "      <td>20</td>\n",
              "      <td>3</td>\n",
              "    </tr>\n",
              "    <tr>\n",
              "      <th>g</th>\n",
              "      <td>10.0</td>\n",
              "      <td>0.000000</td>\n",
              "      <td>2.000000</td>\n",
              "      <td>4.000000</td>\n",
              "      <td>8</td>\n",
              "      <td>10</td>\n",
              "      <td>0</td>\n",
              "    </tr>\n",
              "    <tr>\n",
              "      <th>g1</th>\n",
              "      <td>6.0</td>\n",
              "      <td>2.000000</td>\n",
              "      <td>3.000000</td>\n",
              "      <td>4.000000</td>\n",
              "      <td>5</td>\n",
              "      <td>6</td>\n",
              "      <td>0</td>\n",
              "    </tr>\n",
              "  </tbody>\n",
              "</table>\n",
              "</div>"
            ],
            "text/plain": [
              "      Maximum      Ohio     Texas  California  XXX  YYYY1  Greater than mean\n",
              "2001     21.0  0.598574  0.492668    0.971234   90     21                  3\n",
              "2002     20.0  0.734206  0.498811    0.729184   90     20                  3\n",
              "2003     20.0  0.497516  0.926966    0.443191   90     20                  3\n",
              "g        10.0  0.000000  2.000000    4.000000    8     10                  0\n",
              "g1        6.0  2.000000  3.000000    4.000000    5      6                  0"
            ]
          },
          "execution_count": 182,
          "metadata": {},
          "output_type": "execute_result"
        }
      ],
      "source": [
        "frame1"
      ]
    },
    {
      "cell_type": "code",
      "execution_count": 185,
      "metadata": {
        "colab": {
          "base_uri": "https://localhost:8080/",
          "height": 204
        },
        "id": "BlJlOBUpjS6k",
        "outputId": "57d40de0-2df2-4836-ac27-8bdc2655d59f"
      },
      "outputs": [
        {
          "data": {
            "text/html": [
              "<div>\n",
              "<style scoped>\n",
              "    .dataframe tbody tr th:only-of-type {\n",
              "        vertical-align: middle;\n",
              "    }\n",
              "\n",
              "    .dataframe tbody tr th {\n",
              "        vertical-align: top;\n",
              "    }\n",
              "\n",
              "    .dataframe thead th {\n",
              "        text-align: right;\n",
              "    }\n",
              "</style>\n",
              "<table border=\"1\" class=\"dataframe\">\n",
              "  <thead>\n",
              "    <tr style=\"text-align: right;\">\n",
              "      <th></th>\n",
              "      <th>Maximum</th>\n",
              "      <th>Ohio</th>\n",
              "      <th>Texas</th>\n",
              "      <th>California</th>\n",
              "      <th>XXX</th>\n",
              "      <th>YYYY1</th>\n",
              "      <th>Greater than mean</th>\n",
              "    </tr>\n",
              "  </thead>\n",
              "  <tbody>\n",
              "    <tr>\n",
              "      <th>2001</th>\n",
              "      <td>445.582576</td>\n",
              "      <td>1.131966</td>\n",
              "      <td>0.944625</td>\n",
              "      <td>1.928807</td>\n",
              "      <td>8109.486833</td>\n",
              "      <td>445.582576</td>\n",
              "      <td>10.732051</td>\n",
              "    </tr>\n",
              "    <tr>\n",
              "      <th>2002</th>\n",
              "      <td>404.472136</td>\n",
              "      <td>1.395917</td>\n",
              "      <td>0.955078</td>\n",
              "      <td>1.385633</td>\n",
              "      <td>8109.486833</td>\n",
              "      <td>404.472136</td>\n",
              "      <td>10.732051</td>\n",
              "    </tr>\n",
              "    <tr>\n",
              "      <th>2003</th>\n",
              "      <td>404.472136</td>\n",
              "      <td>0.952870</td>\n",
              "      <td>1.822057</td>\n",
              "      <td>0.862145</td>\n",
              "      <td>8109.486833</td>\n",
              "      <td>404.472136</td>\n",
              "      <td>10.732051</td>\n",
              "    </tr>\n",
              "    <tr>\n",
              "      <th>g</th>\n",
              "      <td>103.162278</td>\n",
              "      <td>0.000000</td>\n",
              "      <td>5.414214</td>\n",
              "      <td>18.000000</td>\n",
              "      <td>66.828427</td>\n",
              "      <td>103.162278</td>\n",
              "      <td>0.000000</td>\n",
              "    </tr>\n",
              "    <tr>\n",
              "      <th>g1</th>\n",
              "      <td>38.449490</td>\n",
              "      <td>5.414214</td>\n",
              "      <td>10.732051</td>\n",
              "      <td>18.000000</td>\n",
              "      <td>27.236068</td>\n",
              "      <td>38.449490</td>\n",
              "      <td>0.000000</td>\n",
              "    </tr>\n",
              "  </tbody>\n",
              "</table>\n",
              "</div>"
            ],
            "text/plain": [
              "         Maximum      Ohio      Texas  California          XXX       YYYY1  \\\n",
              "2001  445.582576  1.131966   0.944625    1.928807  8109.486833  445.582576   \n",
              "2002  404.472136  1.395917   0.955078    1.385633  8109.486833  404.472136   \n",
              "2003  404.472136  0.952870   1.822057    0.862145  8109.486833  404.472136   \n",
              "g     103.162278  0.000000   5.414214   18.000000    66.828427  103.162278   \n",
              "g1     38.449490  5.414214  10.732051   18.000000    27.236068   38.449490   \n",
              "\n",
              "      Greater than mean  \n",
              "2001          10.732051  \n",
              "2002          10.732051  \n",
              "2003          10.732051  \n",
              "g              0.000000  \n",
              "g1             0.000000  "
            ]
          },
          "execution_count": 185,
          "metadata": {},
          "output_type": "execute_result"
        }
      ],
      "source": [
        "frame1.applymap(f1)"
      ]
    },
    {
      "cell_type": "code",
      "execution_count": 84,
      "metadata": {
        "colab": {
          "base_uri": "https://localhost:8080/",
          "height": 204
        },
        "id": "rXDLLeqWjy1c",
        "outputId": "5c56cabc-9fc5-4bcd-8a21-92d1176a3da6"
      },
      "outputs": [
        {
          "data": {
            "text/html": [
              "<div>\n",
              "<style scoped>\n",
              "    .dataframe tbody tr th:only-of-type {\n",
              "        vertical-align: middle;\n",
              "    }\n",
              "\n",
              "    .dataframe tbody tr th {\n",
              "        vertical-align: top;\n",
              "    }\n",
              "\n",
              "    .dataframe thead th {\n",
              "        text-align: right;\n",
              "    }\n",
              "</style>\n",
              "<table border=\"1\" class=\"dataframe\">\n",
              "  <thead>\n",
              "    <tr style=\"text-align: right;\">\n",
              "      <th></th>\n",
              "      <th>Maximum</th>\n",
              "      <th>Ohio</th>\n",
              "      <th>Texas</th>\n",
              "      <th>California</th>\n",
              "      <th>XXX</th>\n",
              "      <th>YYYY1</th>\n",
              "    </tr>\n",
              "  </thead>\n",
              "  <tbody>\n",
              "    <tr>\n",
              "      <th>2001</th>\n",
              "      <td>8.0</td>\n",
              "      <td>8.000000</td>\n",
              "      <td>8.000000</td>\n",
              "      <td>8.000000</td>\n",
              "      <td>8.0</td>\n",
              "      <td>8.0</td>\n",
              "    </tr>\n",
              "    <tr>\n",
              "      <th>2002</th>\n",
              "      <td>8.0</td>\n",
              "      <td>8.000000</td>\n",
              "      <td>8.000000</td>\n",
              "      <td>8.000000</td>\n",
              "      <td>8.0</td>\n",
              "      <td>8.0</td>\n",
              "    </tr>\n",
              "    <tr>\n",
              "      <th>2003</th>\n",
              "      <td>20.0</td>\n",
              "      <td>0.403838</td>\n",
              "      <td>0.525121</td>\n",
              "      <td>0.020277</td>\n",
              "      <td>90.0</td>\n",
              "      <td>20.0</td>\n",
              "    </tr>\n",
              "    <tr>\n",
              "      <th>g</th>\n",
              "      <td>10.0</td>\n",
              "      <td>0.000000</td>\n",
              "      <td>2.000000</td>\n",
              "      <td>4.000000</td>\n",
              "      <td>8.0</td>\n",
              "      <td>10.0</td>\n",
              "    </tr>\n",
              "    <tr>\n",
              "      <th>g1</th>\n",
              "      <td>10.0</td>\n",
              "      <td>10.000000</td>\n",
              "      <td>3.000000</td>\n",
              "      <td>4.000000</td>\n",
              "      <td>5.0</td>\n",
              "      <td>6.0</td>\n",
              "    </tr>\n",
              "  </tbody>\n",
              "</table>\n",
              "</div>"
            ],
            "text/plain": [
              "      Maximum       Ohio     Texas  California   XXX  YYYY1\n",
              "2001      8.0   8.000000  8.000000    8.000000   8.0    8.0\n",
              "2002      8.0   8.000000  8.000000    8.000000   8.0    8.0\n",
              "2003     20.0   0.403838  0.525121    0.020277  90.0   20.0\n",
              "g        10.0   0.000000  2.000000    4.000000   8.0   10.0\n",
              "g1       10.0  10.000000  3.000000    4.000000   5.0    6.0"
            ]
          },
          "execution_count": 84,
          "metadata": {},
          "output_type": "execute_result"
        }
      ],
      "source": [
        "frame1"
      ]
    },
    {
      "cell_type": "markdown",
      "metadata": {
        "id": "fGAG3_cgkCRW"
      },
      "source": [
        "#Sorting and ranking"
      ]
    },
    {
      "cell_type": "code",
      "execution_count": 85,
      "metadata": {
        "colab": {
          "base_uri": "https://localhost:8080/",
          "height": 204
        },
        "id": "bQzrFd24ir6c",
        "outputId": "c19cb356-8a38-4e64-984f-666abffbb634"
      },
      "outputs": [
        {
          "data": {
            "text/html": [
              "<div>\n",
              "<style scoped>\n",
              "    .dataframe tbody tr th:only-of-type {\n",
              "        vertical-align: middle;\n",
              "    }\n",
              "\n",
              "    .dataframe tbody tr th {\n",
              "        vertical-align: top;\n",
              "    }\n",
              "\n",
              "    .dataframe thead th {\n",
              "        text-align: right;\n",
              "    }\n",
              "</style>\n",
              "<table border=\"1\" class=\"dataframe\">\n",
              "  <thead>\n",
              "    <tr style=\"text-align: right;\">\n",
              "      <th></th>\n",
              "      <th>Maximum</th>\n",
              "      <th>Ohio</th>\n",
              "      <th>Texas</th>\n",
              "      <th>California</th>\n",
              "      <th>XXX</th>\n",
              "      <th>YYYY1</th>\n",
              "    </tr>\n",
              "  </thead>\n",
              "  <tbody>\n",
              "    <tr>\n",
              "      <th>2001</th>\n",
              "      <td>8.0</td>\n",
              "      <td>8.000000</td>\n",
              "      <td>8.000000</td>\n",
              "      <td>8.000000</td>\n",
              "      <td>8.0</td>\n",
              "      <td>8.0</td>\n",
              "    </tr>\n",
              "    <tr>\n",
              "      <th>2002</th>\n",
              "      <td>8.0</td>\n",
              "      <td>8.000000</td>\n",
              "      <td>8.000000</td>\n",
              "      <td>8.000000</td>\n",
              "      <td>8.0</td>\n",
              "      <td>8.0</td>\n",
              "    </tr>\n",
              "    <tr>\n",
              "      <th>2003</th>\n",
              "      <td>20.0</td>\n",
              "      <td>0.403838</td>\n",
              "      <td>0.525121</td>\n",
              "      <td>0.020277</td>\n",
              "      <td>90.0</td>\n",
              "      <td>20.0</td>\n",
              "    </tr>\n",
              "    <tr>\n",
              "      <th>g</th>\n",
              "      <td>10.0</td>\n",
              "      <td>0.000000</td>\n",
              "      <td>2.000000</td>\n",
              "      <td>4.000000</td>\n",
              "      <td>8.0</td>\n",
              "      <td>10.0</td>\n",
              "    </tr>\n",
              "    <tr>\n",
              "      <th>g1</th>\n",
              "      <td>10.0</td>\n",
              "      <td>10.000000</td>\n",
              "      <td>3.000000</td>\n",
              "      <td>4.000000</td>\n",
              "      <td>5.0</td>\n",
              "      <td>6.0</td>\n",
              "    </tr>\n",
              "  </tbody>\n",
              "</table>\n",
              "</div>"
            ],
            "text/plain": [
              "      Maximum       Ohio     Texas  California   XXX  YYYY1\n",
              "2001      8.0   8.000000  8.000000    8.000000   8.0    8.0\n",
              "2002      8.0   8.000000  8.000000    8.000000   8.0    8.0\n",
              "2003     20.0   0.403838  0.525121    0.020277  90.0   20.0\n",
              "g        10.0   0.000000  2.000000    4.000000   8.0   10.0\n",
              "g1       10.0  10.000000  3.000000    4.000000   5.0    6.0"
            ]
          },
          "execution_count": 85,
          "metadata": {},
          "output_type": "execute_result"
        }
      ],
      "source": [
        "frame1.sort_index()"
      ]
    },
    {
      "cell_type": "markdown",
      "metadata": {
        "id": "2I1d1xd76feY"
      },
      "source": [
        "#sorting column names in data frame"
      ]
    },
    {
      "cell_type": "code",
      "execution_count": 86,
      "metadata": {
        "colab": {
          "base_uri": "https://localhost:8080/",
          "height": 204
        },
        "id": "um9hIr5xkUEz",
        "outputId": "6812c973-7cb6-4bd3-c732-a355058d2293"
      },
      "outputs": [
        {
          "data": {
            "text/html": [
              "<div>\n",
              "<style scoped>\n",
              "    .dataframe tbody tr th:only-of-type {\n",
              "        vertical-align: middle;\n",
              "    }\n",
              "\n",
              "    .dataframe tbody tr th {\n",
              "        vertical-align: top;\n",
              "    }\n",
              "\n",
              "    .dataframe thead th {\n",
              "        text-align: right;\n",
              "    }\n",
              "</style>\n",
              "<table border=\"1\" class=\"dataframe\">\n",
              "  <thead>\n",
              "    <tr style=\"text-align: right;\">\n",
              "      <th></th>\n",
              "      <th>YYYY1</th>\n",
              "      <th>XXX</th>\n",
              "      <th>Texas</th>\n",
              "      <th>Ohio</th>\n",
              "      <th>Maximum</th>\n",
              "      <th>California</th>\n",
              "    </tr>\n",
              "  </thead>\n",
              "  <tbody>\n",
              "    <tr>\n",
              "      <th>2001</th>\n",
              "      <td>8.0</td>\n",
              "      <td>8.0</td>\n",
              "      <td>8.000000</td>\n",
              "      <td>8.000000</td>\n",
              "      <td>8.0</td>\n",
              "      <td>8.000000</td>\n",
              "    </tr>\n",
              "    <tr>\n",
              "      <th>2002</th>\n",
              "      <td>8.0</td>\n",
              "      <td>8.0</td>\n",
              "      <td>8.000000</td>\n",
              "      <td>8.000000</td>\n",
              "      <td>8.0</td>\n",
              "      <td>8.000000</td>\n",
              "    </tr>\n",
              "    <tr>\n",
              "      <th>2003</th>\n",
              "      <td>20.0</td>\n",
              "      <td>90.0</td>\n",
              "      <td>0.525121</td>\n",
              "      <td>0.403838</td>\n",
              "      <td>20.0</td>\n",
              "      <td>0.020277</td>\n",
              "    </tr>\n",
              "    <tr>\n",
              "      <th>g</th>\n",
              "      <td>10.0</td>\n",
              "      <td>8.0</td>\n",
              "      <td>2.000000</td>\n",
              "      <td>0.000000</td>\n",
              "      <td>10.0</td>\n",
              "      <td>4.000000</td>\n",
              "    </tr>\n",
              "    <tr>\n",
              "      <th>g1</th>\n",
              "      <td>6.0</td>\n",
              "      <td>5.0</td>\n",
              "      <td>3.000000</td>\n",
              "      <td>10.000000</td>\n",
              "      <td>10.0</td>\n",
              "      <td>4.000000</td>\n",
              "    </tr>\n",
              "  </tbody>\n",
              "</table>\n",
              "</div>"
            ],
            "text/plain": [
              "      YYYY1   XXX     Texas       Ohio  Maximum  California\n",
              "2001    8.0   8.0  8.000000   8.000000      8.0    8.000000\n",
              "2002    8.0   8.0  8.000000   8.000000      8.0    8.000000\n",
              "2003   20.0  90.0  0.525121   0.403838     20.0    0.020277\n",
              "g      10.0   8.0  2.000000   0.000000     10.0    4.000000\n",
              "g1      6.0   5.0  3.000000  10.000000     10.0    4.000000"
            ]
          },
          "execution_count": 86,
          "metadata": {},
          "output_type": "execute_result"
        }
      ],
      "source": [
        "frame1.sort_index(axis=1,ascending=False)"
      ]
    },
    {
      "cell_type": "markdown",
      "metadata": {
        "id": "J0ODtH08lH2B"
      },
      "source": [
        "#sorting on values"
      ]
    },
    {
      "cell_type": "code",
      "execution_count": 190,
      "metadata": {
        "colab": {
          "base_uri": "https://localhost:8080/",
          "height": 204
        },
        "id": "fJnzSrNglLEp",
        "outputId": "99cda77d-4e3b-4346-f798-49969627f118"
      },
      "outputs": [
        {
          "data": {
            "text/html": [
              "<div>\n",
              "<style scoped>\n",
              "    .dataframe tbody tr th:only-of-type {\n",
              "        vertical-align: middle;\n",
              "    }\n",
              "\n",
              "    .dataframe tbody tr th {\n",
              "        vertical-align: top;\n",
              "    }\n",
              "\n",
              "    .dataframe thead th {\n",
              "        text-align: right;\n",
              "    }\n",
              "</style>\n",
              "<table border=\"1\" class=\"dataframe\">\n",
              "  <thead>\n",
              "    <tr style=\"text-align: right;\">\n",
              "      <th></th>\n",
              "      <th>Maximum</th>\n",
              "      <th>Ohio</th>\n",
              "      <th>Texas</th>\n",
              "      <th>California</th>\n",
              "      <th>XXX</th>\n",
              "      <th>YYYY1</th>\n",
              "      <th>Greater than mean</th>\n",
              "    </tr>\n",
              "  </thead>\n",
              "  <tbody>\n",
              "    <tr>\n",
              "      <th>g</th>\n",
              "      <td>10.0</td>\n",
              "      <td>0.000000</td>\n",
              "      <td>2.000000</td>\n",
              "      <td>4.000000</td>\n",
              "      <td>8</td>\n",
              "      <td>10</td>\n",
              "      <td>0</td>\n",
              "    </tr>\n",
              "    <tr>\n",
              "      <th>2003</th>\n",
              "      <td>20.0</td>\n",
              "      <td>0.497516</td>\n",
              "      <td>0.926966</td>\n",
              "      <td>0.443191</td>\n",
              "      <td>90</td>\n",
              "      <td>20</td>\n",
              "      <td>3</td>\n",
              "    </tr>\n",
              "    <tr>\n",
              "      <th>2001</th>\n",
              "      <td>21.0</td>\n",
              "      <td>0.598574</td>\n",
              "      <td>0.492668</td>\n",
              "      <td>0.971234</td>\n",
              "      <td>90</td>\n",
              "      <td>21</td>\n",
              "      <td>3</td>\n",
              "    </tr>\n",
              "    <tr>\n",
              "      <th>2002</th>\n",
              "      <td>20.0</td>\n",
              "      <td>0.734206</td>\n",
              "      <td>0.498811</td>\n",
              "      <td>0.729184</td>\n",
              "      <td>90</td>\n",
              "      <td>20</td>\n",
              "      <td>3</td>\n",
              "    </tr>\n",
              "    <tr>\n",
              "      <th>g1</th>\n",
              "      <td>6.0</td>\n",
              "      <td>2.000000</td>\n",
              "      <td>3.000000</td>\n",
              "      <td>4.000000</td>\n",
              "      <td>5</td>\n",
              "      <td>6</td>\n",
              "      <td>0</td>\n",
              "    </tr>\n",
              "  </tbody>\n",
              "</table>\n",
              "</div>"
            ],
            "text/plain": [
              "      Maximum      Ohio     Texas  California  XXX  YYYY1  Greater than mean\n",
              "g        10.0  0.000000  2.000000    4.000000    8     10                  0\n",
              "2003     20.0  0.497516  0.926966    0.443191   90     20                  3\n",
              "2001     21.0  0.598574  0.492668    0.971234   90     21                  3\n",
              "2002     20.0  0.734206  0.498811    0.729184   90     20                  3\n",
              "g1        6.0  2.000000  3.000000    4.000000    5      6                  0"
            ]
          },
          "execution_count": 190,
          "metadata": {},
          "output_type": "execute_result"
        }
      ],
      "source": [
        "frame1.sort_values('Ohio')\n"
      ]
    },
    {
      "cell_type": "markdown",
      "metadata": {
        "id": "P-zwWfy0klio"
      },
      "source": [
        " ## impact of Nan on sorting, these values are pushed to the end"
      ]
    },
    {
      "cell_type": "code",
      "execution_count": 191,
      "metadata": {
        "id": "y3beXz-RkqMM"
      },
      "outputs": [],
      "source": [
        "frame1.iloc[0,1]=None"
      ]
    },
    {
      "cell_type": "code",
      "execution_count": 192,
      "metadata": {
        "colab": {
          "base_uri": "https://localhost:8080/",
          "height": 204
        },
        "id": "N_IK4gkxEQ1b",
        "outputId": "5bc125dd-b507-4123-cb31-59b2085be9a1"
      },
      "outputs": [
        {
          "data": {
            "text/html": [
              "<div>\n",
              "<style scoped>\n",
              "    .dataframe tbody tr th:only-of-type {\n",
              "        vertical-align: middle;\n",
              "    }\n",
              "\n",
              "    .dataframe tbody tr th {\n",
              "        vertical-align: top;\n",
              "    }\n",
              "\n",
              "    .dataframe thead th {\n",
              "        text-align: right;\n",
              "    }\n",
              "</style>\n",
              "<table border=\"1\" class=\"dataframe\">\n",
              "  <thead>\n",
              "    <tr style=\"text-align: right;\">\n",
              "      <th></th>\n",
              "      <th>Maximum</th>\n",
              "      <th>Ohio</th>\n",
              "      <th>Texas</th>\n",
              "      <th>California</th>\n",
              "      <th>XXX</th>\n",
              "      <th>YYYY1</th>\n",
              "      <th>Greater than mean</th>\n",
              "    </tr>\n",
              "  </thead>\n",
              "  <tbody>\n",
              "    <tr>\n",
              "      <th>2001</th>\n",
              "      <td>21.0</td>\n",
              "      <td>NaN</td>\n",
              "      <td>0.492668</td>\n",
              "      <td>0.971234</td>\n",
              "      <td>90</td>\n",
              "      <td>21</td>\n",
              "      <td>3</td>\n",
              "    </tr>\n",
              "    <tr>\n",
              "      <th>2002</th>\n",
              "      <td>20.0</td>\n",
              "      <td>0.734206</td>\n",
              "      <td>0.498811</td>\n",
              "      <td>0.729184</td>\n",
              "      <td>90</td>\n",
              "      <td>20</td>\n",
              "      <td>3</td>\n",
              "    </tr>\n",
              "    <tr>\n",
              "      <th>2003</th>\n",
              "      <td>20.0</td>\n",
              "      <td>0.497516</td>\n",
              "      <td>0.926966</td>\n",
              "      <td>0.443191</td>\n",
              "      <td>90</td>\n",
              "      <td>20</td>\n",
              "      <td>3</td>\n",
              "    </tr>\n",
              "    <tr>\n",
              "      <th>g</th>\n",
              "      <td>10.0</td>\n",
              "      <td>0.000000</td>\n",
              "      <td>2.000000</td>\n",
              "      <td>4.000000</td>\n",
              "      <td>8</td>\n",
              "      <td>10</td>\n",
              "      <td>0</td>\n",
              "    </tr>\n",
              "    <tr>\n",
              "      <th>g1</th>\n",
              "      <td>6.0</td>\n",
              "      <td>2.000000</td>\n",
              "      <td>3.000000</td>\n",
              "      <td>4.000000</td>\n",
              "      <td>5</td>\n",
              "      <td>6</td>\n",
              "      <td>0</td>\n",
              "    </tr>\n",
              "  </tbody>\n",
              "</table>\n",
              "</div>"
            ],
            "text/plain": [
              "      Maximum      Ohio     Texas  California  XXX  YYYY1  Greater than mean\n",
              "2001     21.0       NaN  0.492668    0.971234   90     21                  3\n",
              "2002     20.0  0.734206  0.498811    0.729184   90     20                  3\n",
              "2003     20.0  0.497516  0.926966    0.443191   90     20                  3\n",
              "g        10.0  0.000000  2.000000    4.000000    8     10                  0\n",
              "g1        6.0  2.000000  3.000000    4.000000    5      6                  0"
            ]
          },
          "execution_count": 192,
          "metadata": {},
          "output_type": "execute_result"
        }
      ],
      "source": [
        "frame1"
      ]
    },
    {
      "cell_type": "code",
      "execution_count": 195,
      "metadata": {
        "colab": {
          "base_uri": "https://localhost:8080/",
          "height": 204
        },
        "id": "7MTBqg7dldPX",
        "outputId": "f3fcae8f-755e-4be3-dc00-d92c5efb896b"
      },
      "outputs": [
        {
          "data": {
            "text/html": [
              "<div>\n",
              "<style scoped>\n",
              "    .dataframe tbody tr th:only-of-type {\n",
              "        vertical-align: middle;\n",
              "    }\n",
              "\n",
              "    .dataframe tbody tr th {\n",
              "        vertical-align: top;\n",
              "    }\n",
              "\n",
              "    .dataframe thead th {\n",
              "        text-align: right;\n",
              "    }\n",
              "</style>\n",
              "<table border=\"1\" class=\"dataframe\">\n",
              "  <thead>\n",
              "    <tr style=\"text-align: right;\">\n",
              "      <th></th>\n",
              "      <th>Maximum</th>\n",
              "      <th>Ohio</th>\n",
              "      <th>Texas</th>\n",
              "      <th>California</th>\n",
              "      <th>XXX</th>\n",
              "      <th>YYYY1</th>\n",
              "      <th>Greater than mean</th>\n",
              "    </tr>\n",
              "  </thead>\n",
              "  <tbody>\n",
              "    <tr>\n",
              "      <th>2003</th>\n",
              "      <td>20.0</td>\n",
              "      <td>0.497516</td>\n",
              "      <td>0.926966</td>\n",
              "      <td>0.443191</td>\n",
              "      <td>90</td>\n",
              "      <td>20</td>\n",
              "      <td>3</td>\n",
              "    </tr>\n",
              "    <tr>\n",
              "      <th>2002</th>\n",
              "      <td>20.0</td>\n",
              "      <td>0.734206</td>\n",
              "      <td>0.498811</td>\n",
              "      <td>0.729184</td>\n",
              "      <td>90</td>\n",
              "      <td>20</td>\n",
              "      <td>3</td>\n",
              "    </tr>\n",
              "    <tr>\n",
              "      <th>2001</th>\n",
              "      <td>21.0</td>\n",
              "      <td>NaN</td>\n",
              "      <td>0.492668</td>\n",
              "      <td>0.971234</td>\n",
              "      <td>90</td>\n",
              "      <td>21</td>\n",
              "      <td>3</td>\n",
              "    </tr>\n",
              "    <tr>\n",
              "      <th>g</th>\n",
              "      <td>10.0</td>\n",
              "      <td>0.000000</td>\n",
              "      <td>2.000000</td>\n",
              "      <td>4.000000</td>\n",
              "      <td>8</td>\n",
              "      <td>10</td>\n",
              "      <td>0</td>\n",
              "    </tr>\n",
              "    <tr>\n",
              "      <th>g1</th>\n",
              "      <td>6.0</td>\n",
              "      <td>2.000000</td>\n",
              "      <td>3.000000</td>\n",
              "      <td>4.000000</td>\n",
              "      <td>5</td>\n",
              "      <td>6</td>\n",
              "      <td>0</td>\n",
              "    </tr>\n",
              "  </tbody>\n",
              "</table>\n",
              "</div>"
            ],
            "text/plain": [
              "      Maximum      Ohio     Texas  California  XXX  YYYY1  Greater than mean\n",
              "2003     20.0  0.497516  0.926966    0.443191   90     20                  3\n",
              "2002     20.0  0.734206  0.498811    0.729184   90     20                  3\n",
              "2001     21.0       NaN  0.492668    0.971234   90     21                  3\n",
              "g        10.0  0.000000  2.000000    4.000000    8     10                  0\n",
              "g1        6.0  2.000000  3.000000    4.000000    5      6                  0"
            ]
          },
          "execution_count": 195,
          "metadata": {},
          "output_type": "execute_result"
        }
      ],
      "source": [
        "frame1.sort_values(by='California')"
      ]
    },
    {
      "cell_type": "code",
      "execution_count": 196,
      "metadata": {
        "colab": {
          "base_uri": "https://localhost:8080/",
          "height": 204
        },
        "id": "rSr3orEQWZGW",
        "outputId": "b5ef0ee9-9d23-4f31-a9ac-b7eb8df66d83"
      },
      "outputs": [
        {
          "data": {
            "text/html": [
              "<div>\n",
              "<style scoped>\n",
              "    .dataframe tbody tr th:only-of-type {\n",
              "        vertical-align: middle;\n",
              "    }\n",
              "\n",
              "    .dataframe tbody tr th {\n",
              "        vertical-align: top;\n",
              "    }\n",
              "\n",
              "    .dataframe thead th {\n",
              "        text-align: right;\n",
              "    }\n",
              "</style>\n",
              "<table border=\"1\" class=\"dataframe\">\n",
              "  <thead>\n",
              "    <tr style=\"text-align: right;\">\n",
              "      <th></th>\n",
              "      <th>Maximum</th>\n",
              "      <th>Ohio</th>\n",
              "      <th>Texas</th>\n",
              "      <th>California</th>\n",
              "      <th>XXX</th>\n",
              "      <th>YYYY1</th>\n",
              "      <th>Greater than mean</th>\n",
              "    </tr>\n",
              "  </thead>\n",
              "  <tbody>\n",
              "    <tr>\n",
              "      <th>g</th>\n",
              "      <td>10.0</td>\n",
              "      <td>0.000000</td>\n",
              "      <td>2.000000</td>\n",
              "      <td>4.000000</td>\n",
              "      <td>8</td>\n",
              "      <td>10</td>\n",
              "      <td>0</td>\n",
              "    </tr>\n",
              "    <tr>\n",
              "      <th>2003</th>\n",
              "      <td>20.0</td>\n",
              "      <td>0.497516</td>\n",
              "      <td>0.926966</td>\n",
              "      <td>0.443191</td>\n",
              "      <td>90</td>\n",
              "      <td>20</td>\n",
              "      <td>3</td>\n",
              "    </tr>\n",
              "    <tr>\n",
              "      <th>2002</th>\n",
              "      <td>20.0</td>\n",
              "      <td>0.734206</td>\n",
              "      <td>0.498811</td>\n",
              "      <td>0.729184</td>\n",
              "      <td>90</td>\n",
              "      <td>20</td>\n",
              "      <td>3</td>\n",
              "    </tr>\n",
              "    <tr>\n",
              "      <th>g1</th>\n",
              "      <td>6.0</td>\n",
              "      <td>2.000000</td>\n",
              "      <td>3.000000</td>\n",
              "      <td>4.000000</td>\n",
              "      <td>5</td>\n",
              "      <td>6</td>\n",
              "      <td>0</td>\n",
              "    </tr>\n",
              "    <tr>\n",
              "      <th>2001</th>\n",
              "      <td>21.0</td>\n",
              "      <td>NaN</td>\n",
              "      <td>0.492668</td>\n",
              "      <td>0.971234</td>\n",
              "      <td>90</td>\n",
              "      <td>21</td>\n",
              "      <td>3</td>\n",
              "    </tr>\n",
              "  </tbody>\n",
              "</table>\n",
              "</div>"
            ],
            "text/plain": [
              "      Maximum      Ohio     Texas  California  XXX  YYYY1  Greater than mean\n",
              "g        10.0  0.000000  2.000000    4.000000    8     10                  0\n",
              "2003     20.0  0.497516  0.926966    0.443191   90     20                  3\n",
              "2002     20.0  0.734206  0.498811    0.729184   90     20                  3\n",
              "g1        6.0  2.000000  3.000000    4.000000    5      6                  0\n",
              "2001     21.0       NaN  0.492668    0.971234   90     21                  3"
            ]
          },
          "execution_count": 196,
          "metadata": {},
          "output_type": "execute_result"
        }
      ],
      "source": [
        "frame1.sort_values(by=['Ohio','XXX'])"
      ]
    },
    {
      "cell_type": "markdown",
      "metadata": {
        "id": "U_qZNhkYZzfy"
      },
      "source": [
        "## ranking of rows: rank() method returns a rank of every respective element of a series/dataframe passed. The rank is returned on the basis of position after sorting. In case of ties, mean is taken as rank"
      ]
    },
    {
      "cell_type": "code",
      "execution_count": 197,
      "metadata": {
        "colab": {
          "base_uri": "https://localhost:8080/",
          "height": 204
        },
        "id": "5gxKBa4Lac6q",
        "outputId": "a12ff410-c3f3-4cdb-9337-9ac714079cea"
      },
      "outputs": [
        {
          "data": {
            "text/html": [
              "<div>\n",
              "<style scoped>\n",
              "    .dataframe tbody tr th:only-of-type {\n",
              "        vertical-align: middle;\n",
              "    }\n",
              "\n",
              "    .dataframe tbody tr th {\n",
              "        vertical-align: top;\n",
              "    }\n",
              "\n",
              "    .dataframe thead th {\n",
              "        text-align: right;\n",
              "    }\n",
              "</style>\n",
              "<table border=\"1\" class=\"dataframe\">\n",
              "  <thead>\n",
              "    <tr style=\"text-align: right;\">\n",
              "      <th></th>\n",
              "      <th>Maximum</th>\n",
              "      <th>Ohio</th>\n",
              "      <th>Texas</th>\n",
              "      <th>California</th>\n",
              "      <th>XXX</th>\n",
              "      <th>YYYY1</th>\n",
              "      <th>Greater than mean</th>\n",
              "    </tr>\n",
              "  </thead>\n",
              "  <tbody>\n",
              "    <tr>\n",
              "      <th>2001</th>\n",
              "      <td>21.0</td>\n",
              "      <td>NaN</td>\n",
              "      <td>0.492668</td>\n",
              "      <td>0.971234</td>\n",
              "      <td>90</td>\n",
              "      <td>21</td>\n",
              "      <td>3</td>\n",
              "    </tr>\n",
              "    <tr>\n",
              "      <th>2002</th>\n",
              "      <td>20.0</td>\n",
              "      <td>0.734206</td>\n",
              "      <td>0.498811</td>\n",
              "      <td>0.729184</td>\n",
              "      <td>90</td>\n",
              "      <td>20</td>\n",
              "      <td>3</td>\n",
              "    </tr>\n",
              "    <tr>\n",
              "      <th>2003</th>\n",
              "      <td>20.0</td>\n",
              "      <td>0.497516</td>\n",
              "      <td>0.926966</td>\n",
              "      <td>0.443191</td>\n",
              "      <td>90</td>\n",
              "      <td>20</td>\n",
              "      <td>3</td>\n",
              "    </tr>\n",
              "    <tr>\n",
              "      <th>g</th>\n",
              "      <td>10.0</td>\n",
              "      <td>0.000000</td>\n",
              "      <td>2.000000</td>\n",
              "      <td>4.000000</td>\n",
              "      <td>8</td>\n",
              "      <td>10</td>\n",
              "      <td>0</td>\n",
              "    </tr>\n",
              "    <tr>\n",
              "      <th>g1</th>\n",
              "      <td>6.0</td>\n",
              "      <td>2.000000</td>\n",
              "      <td>3.000000</td>\n",
              "      <td>4.000000</td>\n",
              "      <td>5</td>\n",
              "      <td>6</td>\n",
              "      <td>0</td>\n",
              "    </tr>\n",
              "  </tbody>\n",
              "</table>\n",
              "</div>"
            ],
            "text/plain": [
              "      Maximum      Ohio     Texas  California  XXX  YYYY1  Greater than mean\n",
              "2001     21.0       NaN  0.492668    0.971234   90     21                  3\n",
              "2002     20.0  0.734206  0.498811    0.729184   90     20                  3\n",
              "2003     20.0  0.497516  0.926966    0.443191   90     20                  3\n",
              "g        10.0  0.000000  2.000000    4.000000    8     10                  0\n",
              "g1        6.0  2.000000  3.000000    4.000000    5      6                  0"
            ]
          },
          "execution_count": 197,
          "metadata": {},
          "output_type": "execute_result"
        }
      ],
      "source": [
        "frame1"
      ]
    },
    {
      "cell_type": "markdown",
      "metadata": {
        "id": "Wc4YI_vg8KBu"
      },
      "source": [
        "## deafult in data frame is row-wise (axis=0) i.e. for each column, rank() generates rank using mean() for same values"
      ]
    },
    {
      "cell_type": "code",
      "execution_count": 198,
      "metadata": {
        "colab": {
          "base_uri": "https://localhost:8080/",
          "height": 204
        },
        "id": "c-fLDS_N7ngu",
        "outputId": "a991352b-e615-49ad-80d8-6485803c897a"
      },
      "outputs": [
        {
          "data": {
            "text/html": [
              "<div>\n",
              "<style scoped>\n",
              "    .dataframe tbody tr th:only-of-type {\n",
              "        vertical-align: middle;\n",
              "    }\n",
              "\n",
              "    .dataframe tbody tr th {\n",
              "        vertical-align: top;\n",
              "    }\n",
              "\n",
              "    .dataframe thead th {\n",
              "        text-align: right;\n",
              "    }\n",
              "</style>\n",
              "<table border=\"1\" class=\"dataframe\">\n",
              "  <thead>\n",
              "    <tr style=\"text-align: right;\">\n",
              "      <th></th>\n",
              "      <th>Maximum</th>\n",
              "      <th>Ohio</th>\n",
              "      <th>Texas</th>\n",
              "      <th>California</th>\n",
              "      <th>XXX</th>\n",
              "      <th>YYYY1</th>\n",
              "      <th>Greater than mean</th>\n",
              "    </tr>\n",
              "  </thead>\n",
              "  <tbody>\n",
              "    <tr>\n",
              "      <th>2001</th>\n",
              "      <td>5.0</td>\n",
              "      <td>NaN</td>\n",
              "      <td>1.0</td>\n",
              "      <td>3.0</td>\n",
              "      <td>4.0</td>\n",
              "      <td>5.0</td>\n",
              "      <td>4.0</td>\n",
              "    </tr>\n",
              "    <tr>\n",
              "      <th>2002</th>\n",
              "      <td>3.5</td>\n",
              "      <td>3.0</td>\n",
              "      <td>2.0</td>\n",
              "      <td>2.0</td>\n",
              "      <td>4.0</td>\n",
              "      <td>3.5</td>\n",
              "      <td>4.0</td>\n",
              "    </tr>\n",
              "    <tr>\n",
              "      <th>2003</th>\n",
              "      <td>3.5</td>\n",
              "      <td>2.0</td>\n",
              "      <td>3.0</td>\n",
              "      <td>1.0</td>\n",
              "      <td>4.0</td>\n",
              "      <td>3.5</td>\n",
              "      <td>4.0</td>\n",
              "    </tr>\n",
              "    <tr>\n",
              "      <th>g</th>\n",
              "      <td>2.0</td>\n",
              "      <td>1.0</td>\n",
              "      <td>4.0</td>\n",
              "      <td>4.5</td>\n",
              "      <td>2.0</td>\n",
              "      <td>2.0</td>\n",
              "      <td>1.5</td>\n",
              "    </tr>\n",
              "    <tr>\n",
              "      <th>g1</th>\n",
              "      <td>1.0</td>\n",
              "      <td>4.0</td>\n",
              "      <td>5.0</td>\n",
              "      <td>4.5</td>\n",
              "      <td>1.0</td>\n",
              "      <td>1.0</td>\n",
              "      <td>1.5</td>\n",
              "    </tr>\n",
              "  </tbody>\n",
              "</table>\n",
              "</div>"
            ],
            "text/plain": [
              "      Maximum  Ohio  Texas  California  XXX  YYYY1  Greater than mean\n",
              "2001      5.0   NaN    1.0         3.0  4.0    5.0                4.0\n",
              "2002      3.5   3.0    2.0         2.0  4.0    3.5                4.0\n",
              "2003      3.5   2.0    3.0         1.0  4.0    3.5                4.0\n",
              "g         2.0   1.0    4.0         4.5  2.0    2.0                1.5\n",
              "g1        1.0   4.0    5.0         4.5  1.0    1.0                1.5"
            ]
          },
          "execution_count": 198,
          "metadata": {},
          "output_type": "execute_result"
        }
      ],
      "source": [
        "frame1.rank()"
      ]
    },
    {
      "cell_type": "code",
      "execution_count": 199,
      "metadata": {
        "colab": {
          "base_uri": "https://localhost:8080/",
          "height": 204
        },
        "id": "spI9p7K_F23Y",
        "outputId": "99dff0bf-9f66-4635-8eb3-088ef68cf410"
      },
      "outputs": [
        {
          "data": {
            "text/html": [
              "<div>\n",
              "<style scoped>\n",
              "    .dataframe tbody tr th:only-of-type {\n",
              "        vertical-align: middle;\n",
              "    }\n",
              "\n",
              "    .dataframe tbody tr th {\n",
              "        vertical-align: top;\n",
              "    }\n",
              "\n",
              "    .dataframe thead th {\n",
              "        text-align: right;\n",
              "    }\n",
              "</style>\n",
              "<table border=\"1\" class=\"dataframe\">\n",
              "  <thead>\n",
              "    <tr style=\"text-align: right;\">\n",
              "      <th></th>\n",
              "      <th>Maximum</th>\n",
              "      <th>Ohio</th>\n",
              "      <th>Texas</th>\n",
              "      <th>California</th>\n",
              "      <th>XXX</th>\n",
              "      <th>YYYY1</th>\n",
              "      <th>Greater than mean</th>\n",
              "    </tr>\n",
              "  </thead>\n",
              "  <tbody>\n",
              "    <tr>\n",
              "      <th>2001</th>\n",
              "      <td>21.0</td>\n",
              "      <td>NaN</td>\n",
              "      <td>0.492668</td>\n",
              "      <td>0.971234</td>\n",
              "      <td>90</td>\n",
              "      <td>21</td>\n",
              "      <td>3</td>\n",
              "    </tr>\n",
              "    <tr>\n",
              "      <th>2002</th>\n",
              "      <td>20.0</td>\n",
              "      <td>0.734206</td>\n",
              "      <td>0.498811</td>\n",
              "      <td>0.729184</td>\n",
              "      <td>90</td>\n",
              "      <td>20</td>\n",
              "      <td>3</td>\n",
              "    </tr>\n",
              "    <tr>\n",
              "      <th>2003</th>\n",
              "      <td>20.0</td>\n",
              "      <td>0.497516</td>\n",
              "      <td>0.926966</td>\n",
              "      <td>0.443191</td>\n",
              "      <td>90</td>\n",
              "      <td>20</td>\n",
              "      <td>3</td>\n",
              "    </tr>\n",
              "    <tr>\n",
              "      <th>g</th>\n",
              "      <td>10.0</td>\n",
              "      <td>0.000000</td>\n",
              "      <td>2.000000</td>\n",
              "      <td>4.000000</td>\n",
              "      <td>8</td>\n",
              "      <td>10</td>\n",
              "      <td>0</td>\n",
              "    </tr>\n",
              "    <tr>\n",
              "      <th>g1</th>\n",
              "      <td>6.0</td>\n",
              "      <td>2.000000</td>\n",
              "      <td>3.000000</td>\n",
              "      <td>4.000000</td>\n",
              "      <td>5</td>\n",
              "      <td>6</td>\n",
              "      <td>0</td>\n",
              "    </tr>\n",
              "  </tbody>\n",
              "</table>\n",
              "</div>"
            ],
            "text/plain": [
              "      Maximum      Ohio     Texas  California  XXX  YYYY1  Greater than mean\n",
              "2001     21.0       NaN  0.492668    0.971234   90     21                  3\n",
              "2002     20.0  0.734206  0.498811    0.729184   90     20                  3\n",
              "2003     20.0  0.497516  0.926966    0.443191   90     20                  3\n",
              "g        10.0  0.000000  2.000000    4.000000    8     10                  0\n",
              "g1        6.0  2.000000  3.000000    4.000000    5      6                  0"
            ]
          },
          "execution_count": 199,
          "metadata": {},
          "output_type": "execute_result"
        }
      ],
      "source": [
        "frame1"
      ]
    },
    {
      "cell_type": "markdown",
      "metadata": {
        "id": "-05F3RW87xm4"
      },
      "source": [
        "#rank row-wise"
      ]
    },
    {
      "cell_type": "code",
      "execution_count": 200,
      "metadata": {
        "colab": {
          "base_uri": "https://localhost:8080/",
          "height": 204
        },
        "id": "7EivOUrHahwt",
        "outputId": "014f49cc-7fd8-41c9-931c-ae114605cfb0"
      },
      "outputs": [
        {
          "data": {
            "text/html": [
              "<div>\n",
              "<style scoped>\n",
              "    .dataframe tbody tr th:only-of-type {\n",
              "        vertical-align: middle;\n",
              "    }\n",
              "\n",
              "    .dataframe tbody tr th {\n",
              "        vertical-align: top;\n",
              "    }\n",
              "\n",
              "    .dataframe thead th {\n",
              "        text-align: right;\n",
              "    }\n",
              "</style>\n",
              "<table border=\"1\" class=\"dataframe\">\n",
              "  <thead>\n",
              "    <tr style=\"text-align: right;\">\n",
              "      <th></th>\n",
              "      <th>Maximum</th>\n",
              "      <th>Ohio</th>\n",
              "      <th>Texas</th>\n",
              "      <th>California</th>\n",
              "      <th>XXX</th>\n",
              "      <th>YYYY1</th>\n",
              "      <th>Greater than mean</th>\n",
              "    </tr>\n",
              "  </thead>\n",
              "  <tbody>\n",
              "    <tr>\n",
              "      <th>2001</th>\n",
              "      <td>4.5</td>\n",
              "      <td>NaN</td>\n",
              "      <td>1.0</td>\n",
              "      <td>2.0</td>\n",
              "      <td>6.0</td>\n",
              "      <td>4.5</td>\n",
              "      <td>3.0</td>\n",
              "    </tr>\n",
              "    <tr>\n",
              "      <th>2002</th>\n",
              "      <td>5.5</td>\n",
              "      <td>3.0</td>\n",
              "      <td>1.0</td>\n",
              "      <td>2.0</td>\n",
              "      <td>7.0</td>\n",
              "      <td>5.5</td>\n",
              "      <td>4.0</td>\n",
              "    </tr>\n",
              "    <tr>\n",
              "      <th>2003</th>\n",
              "      <td>5.5</td>\n",
              "      <td>2.0</td>\n",
              "      <td>3.0</td>\n",
              "      <td>1.0</td>\n",
              "      <td>7.0</td>\n",
              "      <td>5.5</td>\n",
              "      <td>4.0</td>\n",
              "    </tr>\n",
              "    <tr>\n",
              "      <th>g</th>\n",
              "      <td>6.5</td>\n",
              "      <td>1.5</td>\n",
              "      <td>3.0</td>\n",
              "      <td>4.0</td>\n",
              "      <td>5.0</td>\n",
              "      <td>6.5</td>\n",
              "      <td>1.5</td>\n",
              "    </tr>\n",
              "    <tr>\n",
              "      <th>g1</th>\n",
              "      <td>6.5</td>\n",
              "      <td>2.0</td>\n",
              "      <td>3.0</td>\n",
              "      <td>4.0</td>\n",
              "      <td>5.0</td>\n",
              "      <td>6.5</td>\n",
              "      <td>1.0</td>\n",
              "    </tr>\n",
              "  </tbody>\n",
              "</table>\n",
              "</div>"
            ],
            "text/plain": [
              "      Maximum  Ohio  Texas  California  XXX  YYYY1  Greater than mean\n",
              "2001      4.5   NaN    1.0         2.0  6.0    4.5                3.0\n",
              "2002      5.5   3.0    1.0         2.0  7.0    5.5                4.0\n",
              "2003      5.5   2.0    3.0         1.0  7.0    5.5                4.0\n",
              "g         6.5   1.5    3.0         4.0  5.0    6.5                1.5\n",
              "g1        6.5   2.0    3.0         4.0  5.0    6.5                1.0"
            ]
          },
          "execution_count": 200,
          "metadata": {},
          "output_type": "execute_result"
        }
      ],
      "source": [
        "frame1.rank(axis=1)"
      ]
    },
    {
      "cell_type": "markdown",
      "metadata": {
        "id": "Q3ahuSDCa-w9"
      },
      "source": [
        "#Assign different ranks as per apperance of value\n",
        "\n"
      ]
    },
    {
      "cell_type": "code",
      "execution_count": null,
      "metadata": {
        "colab": {
          "base_uri": "https://localhost:8080/"
        },
        "id": "T_FzU-nta825",
        "outputId": "6ae29d02-adb9-448d-e0a8-806facb60ecf"
      },
      "outputs": [
        {
          "data": {
            "text/plain": [
              "0    8\n",
              "2    8\n",
              "3    4\n",
              "7    4\n",
              "5    3\n",
              "4    2\n",
              "1   -5\n",
              "6   -5\n",
              "dtype: int64"
            ]
          },
          "execution_count": 19,
          "metadata": {},
          "output_type": "execute_result"
        }
      ],
      "source": [
        "s2= pd.Series([8, -5, 8, 4, 2, 3, -5, 4])\n",
        "s2.sort_values(ascending=False)"
      ]
    },
    {
      "cell_type": "markdown",
      "metadata": {
        "id": "jI9wI_9Bxy4e"
      },
      "source": [
        "## assign max ranks to equal values"
      ]
    },
    {
      "cell_type": "code",
      "execution_count": 201,
      "metadata": {
        "colab": {
          "base_uri": "https://localhost:8080/"
        },
        "id": "dnjCNp-CbZ-T",
        "outputId": "b9d2c6e0-6a9b-4ae4-a37f-cc7c943cd4f8"
      },
      "outputs": [
        {
          "data": {
            "text/plain": [
              "0    1.0\n",
              "1    2.0\n",
              "2    3.0\n",
              "3    4.0\n",
              "dtype: float64"
            ]
          },
          "execution_count": 201,
          "metadata": {},
          "output_type": "execute_result"
        }
      ],
      "source": [
        "maxrank=s2.rank(method='min')\n",
        "maxrank"
      ]
    },
    {
      "cell_type": "markdown",
      "metadata": {
        "id": "SutemmTocKXY"
      },
      "source": [
        "## ranking as per apperance of values"
      ]
    },
    {
      "cell_type": "code",
      "execution_count": null,
      "metadata": {
        "id": "JYXoYabwcSv5"
      },
      "outputs": [],
      "source": [
        "s2.name='unsorted'"
      ]
    },
    {
      "cell_type": "code",
      "execution_count": null,
      "metadata": {
        "colab": {
          "base_uri": "https://localhost:8080/"
        },
        "id": "4LdbVExAcQ56",
        "outputId": "c460571c-a28f-4201-cb27-988a00fcadbf"
      },
      "outputs": [
        {
          "name": "stdout",
          "output_type": "stream",
          "text": [
            "series \t ranks\n",
            "8        7.0\n",
            "-5       1.0\n",
            "8        8.0\n",
            "4        5.0\n",
            "2        3.0\n",
            "3        4.0\n",
            "-5       2.0\n",
            "4        6.0\n"
          ]
        }
      ],
      "source": [
        "d1=s2.rank(method='first')\n",
        "d1.name='rank-first'\n",
        "print('series', \"\\t\" ,'ranks')\n",
        "for i in range(len(d1)):\n",
        "  print(\"{0:<8} {1:.1f}\".format(s2.iloc[i],d1.iloc[i]))"
      ]
    },
    {
      "cell_type": "markdown",
      "metadata": {
        "id": "IWgJCQ2gfPh3"
      },
      "source": [
        "## what is happening here: series are added as row with name of series as row index"
      ]
    },
    {
      "cell_type": "code",
      "execution_count": null,
      "metadata": {
        "colab": {
          "base_uri": "https://localhost:8080/",
          "height": 111
        },
        "id": "FfrAVx1VcpCe",
        "outputId": "967b4788-751a-4722-f71f-06f72ffb47c6"
      },
      "outputs": [
        {
          "data": {
            "text/html": [
              "<div>\n",
              "<style scoped>\n",
              "    .dataframe tbody tr th:only-of-type {\n",
              "        vertical-align: middle;\n",
              "    }\n",
              "\n",
              "    .dataframe tbody tr th {\n",
              "        vertical-align: top;\n",
              "    }\n",
              "\n",
              "    .dataframe thead th {\n",
              "        text-align: right;\n",
              "    }\n",
              "</style>\n",
              "<table border=\"1\" class=\"dataframe\">\n",
              "  <thead>\n",
              "    <tr style=\"text-align: right;\">\n",
              "      <th></th>\n",
              "      <th>0</th>\n",
              "      <th>1</th>\n",
              "      <th>2</th>\n",
              "      <th>3</th>\n",
              "      <th>4</th>\n",
              "      <th>5</th>\n",
              "      <th>6</th>\n",
              "      <th>7</th>\n",
              "    </tr>\n",
              "  </thead>\n",
              "  <tbody>\n",
              "    <tr>\n",
              "      <th>unsorted</th>\n",
              "      <td>8.0</td>\n",
              "      <td>-5.0</td>\n",
              "      <td>8.0</td>\n",
              "      <td>4.0</td>\n",
              "      <td>2.0</td>\n",
              "      <td>3.0</td>\n",
              "      <td>-5.0</td>\n",
              "      <td>4.0</td>\n",
              "    </tr>\n",
              "    <tr>\n",
              "      <th>rank-first</th>\n",
              "      <td>7.0</td>\n",
              "      <td>1.0</td>\n",
              "      <td>8.0</td>\n",
              "      <td>5.0</td>\n",
              "      <td>3.0</td>\n",
              "      <td>4.0</td>\n",
              "      <td>2.0</td>\n",
              "      <td>6.0</td>\n",
              "    </tr>\n",
              "  </tbody>\n",
              "</table>\n",
              "</div>"
            ],
            "text/plain": [
              "              0    1    2    3    4    5    6    7\n",
              "unsorted    8.0 -5.0  8.0  4.0  2.0  3.0 -5.0  4.0\n",
              "rank-first  7.0  1.0  8.0  5.0  3.0  4.0  2.0  6.0"
            ]
          },
          "execution_count": 23,
          "metadata": {},
          "output_type": "execute_result"
        }
      ],
      "source": [
        "df3=pd.DataFrame([s2,d1])\n",
        "df3"
      ]
    },
    {
      "cell_type": "markdown",
      "metadata": {
        "id": "iC1hg3sWgMfE"
      },
      "source": [
        "#problem: create a dataframe having ranking of a data series using different rank method"
      ]
    },
    {
      "cell_type": "markdown",
      "metadata": {
        "id": "hia3Av3LfZ1b"
      },
      "source": [
        "#adding series as columns of the data frame"
      ]
    },
    {
      "cell_type": "code",
      "execution_count": null,
      "metadata": {
        "colab": {
          "base_uri": "https://localhost:8080/",
          "height": 296
        },
        "id": "SxEIFA6DdgxD",
        "outputId": "dad4f26d-dfc0-4b6c-cff2-13fd872d0191"
      },
      "outputs": [
        {
          "data": {
            "text/html": [
              "<div>\n",
              "<style scoped>\n",
              "    .dataframe tbody tr th:only-of-type {\n",
              "        vertical-align: middle;\n",
              "    }\n",
              "\n",
              "    .dataframe tbody tr th {\n",
              "        vertical-align: top;\n",
              "    }\n",
              "\n",
              "    .dataframe thead th {\n",
              "        text-align: right;\n",
              "    }\n",
              "</style>\n",
              "<table border=\"1\" class=\"dataframe\">\n",
              "  <thead>\n",
              "    <tr style=\"text-align: right;\">\n",
              "      <th></th>\n",
              "      <th>original</th>\n",
              "      <th>ranked-first</th>\n",
              "    </tr>\n",
              "  </thead>\n",
              "  <tbody>\n",
              "    <tr>\n",
              "      <th>0</th>\n",
              "      <td>8</td>\n",
              "      <td>7.0</td>\n",
              "    </tr>\n",
              "    <tr>\n",
              "      <th>1</th>\n",
              "      <td>-5</td>\n",
              "      <td>1.0</td>\n",
              "    </tr>\n",
              "    <tr>\n",
              "      <th>2</th>\n",
              "      <td>8</td>\n",
              "      <td>8.0</td>\n",
              "    </tr>\n",
              "    <tr>\n",
              "      <th>3</th>\n",
              "      <td>4</td>\n",
              "      <td>5.0</td>\n",
              "    </tr>\n",
              "    <tr>\n",
              "      <th>4</th>\n",
              "      <td>2</td>\n",
              "      <td>3.0</td>\n",
              "    </tr>\n",
              "    <tr>\n",
              "      <th>5</th>\n",
              "      <td>3</td>\n",
              "      <td>4.0</td>\n",
              "    </tr>\n",
              "    <tr>\n",
              "      <th>6</th>\n",
              "      <td>-5</td>\n",
              "      <td>2.0</td>\n",
              "    </tr>\n",
              "    <tr>\n",
              "      <th>7</th>\n",
              "      <td>4</td>\n",
              "      <td>6.0</td>\n",
              "    </tr>\n",
              "  </tbody>\n",
              "</table>\n",
              "</div>"
            ],
            "text/plain": [
              "   original  ranked-first\n",
              "0         8           7.0\n",
              "1        -5           1.0\n",
              "2         8           8.0\n",
              "3         4           5.0\n",
              "4         2           3.0\n",
              "5         3           4.0\n",
              "6        -5           2.0\n",
              "7         4           6.0"
            ]
          },
          "execution_count": 24,
          "metadata": {},
          "output_type": "execute_result"
        }
      ],
      "source": [
        "df4=pd.DataFrame()\n",
        "df4['original']=s2\n",
        "df4['ranked-first']=d1\n",
        "df4"
      ]
    },
    {
      "cell_type": "code",
      "execution_count": null,
      "metadata": {
        "colab": {
          "base_uri": "https://localhost:8080/"
        },
        "id": "qE4wMQD5eDz9",
        "outputId": "c408bf39-f4ff-4e0b-e128-34b50de7ba82"
      },
      "outputs": [
        {
          "data": {
            "text/plain": [
              "0    8.0\n",
              "1    2.0\n",
              "2    8.0\n",
              "3    6.0\n",
              "4    3.0\n",
              "5    4.0\n",
              "6    2.0\n",
              "7    6.0\n",
              "Name: unsorted, dtype: float64"
            ]
          },
          "execution_count": 25,
          "metadata": {},
          "output_type": "execute_result"
        }
      ],
      "source": [
        "d3=s2.rank(method='max')\n",
        "d3"
      ]
    },
    {
      "cell_type": "code",
      "execution_count": null,
      "metadata": {
        "colab": {
          "base_uri": "https://localhost:8080/",
          "height": 296
        },
        "id": "VFwyY-9seOVQ",
        "outputId": "faaef557-2ff3-4d20-e2a9-457305105214"
      },
      "outputs": [
        {
          "data": {
            "text/html": [
              "<div>\n",
              "<style scoped>\n",
              "    .dataframe tbody tr th:only-of-type {\n",
              "        vertical-align: middle;\n",
              "    }\n",
              "\n",
              "    .dataframe tbody tr th {\n",
              "        vertical-align: top;\n",
              "    }\n",
              "\n",
              "    .dataframe thead th {\n",
              "        text-align: right;\n",
              "    }\n",
              "</style>\n",
              "<table border=\"1\" class=\"dataframe\">\n",
              "  <thead>\n",
              "    <tr style=\"text-align: right;\">\n",
              "      <th></th>\n",
              "      <th>original</th>\n",
              "      <th>max-rank</th>\n",
              "      <th>ranked-first</th>\n",
              "    </tr>\n",
              "  </thead>\n",
              "  <tbody>\n",
              "    <tr>\n",
              "      <th>0</th>\n",
              "      <td>8</td>\n",
              "      <td>8.0</td>\n",
              "      <td>7.0</td>\n",
              "    </tr>\n",
              "    <tr>\n",
              "      <th>1</th>\n",
              "      <td>-5</td>\n",
              "      <td>2.0</td>\n",
              "      <td>1.0</td>\n",
              "    </tr>\n",
              "    <tr>\n",
              "      <th>2</th>\n",
              "      <td>8</td>\n",
              "      <td>8.0</td>\n",
              "      <td>8.0</td>\n",
              "    </tr>\n",
              "    <tr>\n",
              "      <th>3</th>\n",
              "      <td>4</td>\n",
              "      <td>6.0</td>\n",
              "      <td>5.0</td>\n",
              "    </tr>\n",
              "    <tr>\n",
              "      <th>4</th>\n",
              "      <td>2</td>\n",
              "      <td>3.0</td>\n",
              "      <td>3.0</td>\n",
              "    </tr>\n",
              "    <tr>\n",
              "      <th>5</th>\n",
              "      <td>3</td>\n",
              "      <td>4.0</td>\n",
              "      <td>4.0</td>\n",
              "    </tr>\n",
              "    <tr>\n",
              "      <th>6</th>\n",
              "      <td>-5</td>\n",
              "      <td>2.0</td>\n",
              "      <td>2.0</td>\n",
              "    </tr>\n",
              "    <tr>\n",
              "      <th>7</th>\n",
              "      <td>4</td>\n",
              "      <td>6.0</td>\n",
              "      <td>6.0</td>\n",
              "    </tr>\n",
              "  </tbody>\n",
              "</table>\n",
              "</div>"
            ],
            "text/plain": [
              "   original  max-rank  ranked-first\n",
              "0         8       8.0           7.0\n",
              "1        -5       2.0           1.0\n",
              "2         8       8.0           8.0\n",
              "3         4       6.0           5.0\n",
              "4         2       3.0           3.0\n",
              "5         3       4.0           4.0\n",
              "6        -5       2.0           2.0\n",
              "7         4       6.0           6.0"
            ]
          },
          "execution_count": 26,
          "metadata": {},
          "output_type": "execute_result"
        }
      ],
      "source": [
        "df4.insert(1,'max-rank',d3)\n",
        "df4"
      ]
    },
    {
      "cell_type": "code",
      "execution_count": null,
      "metadata": {
        "colab": {
          "base_uri": "https://localhost:8080/",
          "height": 296
        },
        "id": "-pSzYUF3fsI2",
        "outputId": "4fcf67c3-f962-4c08-add3-0eef0ce910a3"
      },
      "outputs": [
        {
          "data": {
            "text/html": [
              "<div>\n",
              "<style scoped>\n",
              "    .dataframe tbody tr th:only-of-type {\n",
              "        vertical-align: middle;\n",
              "    }\n",
              "\n",
              "    .dataframe tbody tr th {\n",
              "        vertical-align: top;\n",
              "    }\n",
              "\n",
              "    .dataframe thead th {\n",
              "        text-align: right;\n",
              "    }\n",
              "</style>\n",
              "<table border=\"1\" class=\"dataframe\">\n",
              "  <thead>\n",
              "    <tr style=\"text-align: right;\">\n",
              "      <th></th>\n",
              "      <th>original</th>\n",
              "      <th>max-rank</th>\n",
              "      <th>ranked-first</th>\n",
              "      <th>meanrank</th>\n",
              "    </tr>\n",
              "  </thead>\n",
              "  <tbody>\n",
              "    <tr>\n",
              "      <th>0</th>\n",
              "      <td>8</td>\n",
              "      <td>8.0</td>\n",
              "      <td>7.0</td>\n",
              "      <td>7.5</td>\n",
              "    </tr>\n",
              "    <tr>\n",
              "      <th>1</th>\n",
              "      <td>-5</td>\n",
              "      <td>2.0</td>\n",
              "      <td>1.0</td>\n",
              "      <td>1.5</td>\n",
              "    </tr>\n",
              "    <tr>\n",
              "      <th>2</th>\n",
              "      <td>8</td>\n",
              "      <td>8.0</td>\n",
              "      <td>8.0</td>\n",
              "      <td>7.5</td>\n",
              "    </tr>\n",
              "    <tr>\n",
              "      <th>3</th>\n",
              "      <td>4</td>\n",
              "      <td>6.0</td>\n",
              "      <td>5.0</td>\n",
              "      <td>5.5</td>\n",
              "    </tr>\n",
              "    <tr>\n",
              "      <th>4</th>\n",
              "      <td>2</td>\n",
              "      <td>3.0</td>\n",
              "      <td>3.0</td>\n",
              "      <td>3.0</td>\n",
              "    </tr>\n",
              "    <tr>\n",
              "      <th>5</th>\n",
              "      <td>3</td>\n",
              "      <td>4.0</td>\n",
              "      <td>4.0</td>\n",
              "      <td>4.0</td>\n",
              "    </tr>\n",
              "    <tr>\n",
              "      <th>6</th>\n",
              "      <td>-5</td>\n",
              "      <td>2.0</td>\n",
              "      <td>2.0</td>\n",
              "      <td>1.5</td>\n",
              "    </tr>\n",
              "    <tr>\n",
              "      <th>7</th>\n",
              "      <td>4</td>\n",
              "      <td>6.0</td>\n",
              "      <td>6.0</td>\n",
              "      <td>5.5</td>\n",
              "    </tr>\n",
              "  </tbody>\n",
              "</table>\n",
              "</div>"
            ],
            "text/plain": [
              "   original  max-rank  ranked-first  meanrank\n",
              "0         8       8.0           7.0       7.5\n",
              "1        -5       2.0           1.0       1.5\n",
              "2         8       8.0           8.0       7.5\n",
              "3         4       6.0           5.0       5.5\n",
              "4         2       3.0           3.0       3.0\n",
              "5         3       4.0           4.0       4.0\n",
              "6        -5       2.0           2.0       1.5\n",
              "7         4       6.0           6.0       5.5"
            ]
          },
          "execution_count": 29,
          "metadata": {},
          "output_type": "execute_result"
        }
      ],
      "source": [
        "df4['meanrank']=df4['original'].rank(method='average')\n",
        "df4"
      ]
    },
    {
      "cell_type": "markdown",
      "metadata": {
        "id": "3dKSzab3gyrB"
      },
      "source": [
        "#By default, ranks are computed for each column using mean() method. In case ranks are to be computed rowwise then use axis=1/columns"
      ]
    },
    {
      "cell_type": "code",
      "execution_count": null,
      "metadata": {
        "colab": {
          "base_uri": "https://localhost:8080/",
          "height": 296
        },
        "id": "6Xod_7fChLnZ",
        "outputId": "605db695-2e73-454c-9b1e-4da23beaf66a"
      },
      "outputs": [
        {
          "data": {
            "text/html": [
              "<div>\n",
              "<style scoped>\n",
              "    .dataframe tbody tr th:only-of-type {\n",
              "        vertical-align: middle;\n",
              "    }\n",
              "\n",
              "    .dataframe tbody tr th {\n",
              "        vertical-align: top;\n",
              "    }\n",
              "\n",
              "    .dataframe thead th {\n",
              "        text-align: right;\n",
              "    }\n",
              "</style>\n",
              "<table border=\"1\" class=\"dataframe\">\n",
              "  <thead>\n",
              "    <tr style=\"text-align: right;\">\n",
              "      <th></th>\n",
              "      <th>X</th>\n",
              "      <th>Y</th>\n",
              "      <th>Z</th>\n",
              "      <th>W</th>\n",
              "    </tr>\n",
              "  </thead>\n",
              "  <tbody>\n",
              "    <tr>\n",
              "      <th>0</th>\n",
              "      <td>7.5</td>\n",
              "      <td>7.5</td>\n",
              "      <td>7.0</td>\n",
              "      <td>7.5</td>\n",
              "    </tr>\n",
              "    <tr>\n",
              "      <th>1</th>\n",
              "      <td>1.5</td>\n",
              "      <td>1.5</td>\n",
              "      <td>1.0</td>\n",
              "      <td>1.5</td>\n",
              "    </tr>\n",
              "    <tr>\n",
              "      <th>2</th>\n",
              "      <td>7.5</td>\n",
              "      <td>7.5</td>\n",
              "      <td>8.0</td>\n",
              "      <td>7.5</td>\n",
              "    </tr>\n",
              "    <tr>\n",
              "      <th>3</th>\n",
              "      <td>5.5</td>\n",
              "      <td>5.5</td>\n",
              "      <td>5.0</td>\n",
              "      <td>5.5</td>\n",
              "    </tr>\n",
              "    <tr>\n",
              "      <th>4</th>\n",
              "      <td>3.0</td>\n",
              "      <td>3.0</td>\n",
              "      <td>3.0</td>\n",
              "      <td>3.0</td>\n",
              "    </tr>\n",
              "    <tr>\n",
              "      <th>5</th>\n",
              "      <td>4.0</td>\n",
              "      <td>4.0</td>\n",
              "      <td>4.0</td>\n",
              "      <td>4.0</td>\n",
              "    </tr>\n",
              "    <tr>\n",
              "      <th>6</th>\n",
              "      <td>1.5</td>\n",
              "      <td>1.5</td>\n",
              "      <td>2.0</td>\n",
              "      <td>1.5</td>\n",
              "    </tr>\n",
              "    <tr>\n",
              "      <th>7</th>\n",
              "      <td>5.5</td>\n",
              "      <td>5.5</td>\n",
              "      <td>6.0</td>\n",
              "      <td>5.5</td>\n",
              "    </tr>\n",
              "  </tbody>\n",
              "</table>\n",
              "</div>"
            ],
            "text/plain": [
              "     X    Y    Z    W\n",
              "0  7.5  7.5  7.0  7.5\n",
              "1  1.5  1.5  1.0  1.5\n",
              "2  7.5  7.5  8.0  7.5\n",
              "3  5.5  5.5  5.0  5.5\n",
              "4  3.0  3.0  3.0  3.0\n",
              "5  4.0  4.0  4.0  4.0\n",
              "6  1.5  1.5  2.0  1.5\n",
              "7  5.5  5.5  6.0  5.5"
            ]
          },
          "execution_count": 125,
          "metadata": {},
          "output_type": "execute_result"
        }
      ],
      "source": [
        "df5=df4.rank()\n",
        "df5.columns=['X','Y','Z','W']\n",
        "df5"
      ]
    },
    {
      "cell_type": "code",
      "execution_count": null,
      "metadata": {
        "colab": {
          "base_uri": "https://localhost:8080/",
          "height": 296
        },
        "id": "oLBrZTcjh_RS",
        "outputId": "7170993b-83fb-4858-c9a6-5c319a7ad65d"
      },
      "outputs": [
        {
          "data": {
            "text/html": [
              "<div>\n",
              "<style scoped>\n",
              "    .dataframe tbody tr th:only-of-type {\n",
              "        vertical-align: middle;\n",
              "    }\n",
              "\n",
              "    .dataframe tbody tr th {\n",
              "        vertical-align: top;\n",
              "    }\n",
              "\n",
              "    .dataframe thead th {\n",
              "        text-align: right;\n",
              "    }\n",
              "</style>\n",
              "<table border=\"1\" class=\"dataframe\">\n",
              "  <thead>\n",
              "    <tr style=\"text-align: right;\">\n",
              "      <th></th>\n",
              "      <th>X</th>\n",
              "      <th>Y</th>\n",
              "      <th>Z</th>\n",
              "      <th>W</th>\n",
              "    </tr>\n",
              "  </thead>\n",
              "  <tbody>\n",
              "    <tr>\n",
              "      <th>0</th>\n",
              "      <td>4.0</td>\n",
              "      <td>4.0</td>\n",
              "      <td>1.0</td>\n",
              "      <td>4.0</td>\n",
              "    </tr>\n",
              "    <tr>\n",
              "      <th>1</th>\n",
              "      <td>4.0</td>\n",
              "      <td>4.0</td>\n",
              "      <td>1.0</td>\n",
              "      <td>4.0</td>\n",
              "    </tr>\n",
              "    <tr>\n",
              "      <th>2</th>\n",
              "      <td>3.0</td>\n",
              "      <td>3.0</td>\n",
              "      <td>4.0</td>\n",
              "      <td>3.0</td>\n",
              "    </tr>\n",
              "    <tr>\n",
              "      <th>3</th>\n",
              "      <td>4.0</td>\n",
              "      <td>4.0</td>\n",
              "      <td>1.0</td>\n",
              "      <td>4.0</td>\n",
              "    </tr>\n",
              "    <tr>\n",
              "      <th>4</th>\n",
              "      <td>4.0</td>\n",
              "      <td>4.0</td>\n",
              "      <td>4.0</td>\n",
              "      <td>4.0</td>\n",
              "    </tr>\n",
              "    <tr>\n",
              "      <th>5</th>\n",
              "      <td>4.0</td>\n",
              "      <td>4.0</td>\n",
              "      <td>4.0</td>\n",
              "      <td>4.0</td>\n",
              "    </tr>\n",
              "    <tr>\n",
              "      <th>6</th>\n",
              "      <td>3.0</td>\n",
              "      <td>3.0</td>\n",
              "      <td>4.0</td>\n",
              "      <td>3.0</td>\n",
              "    </tr>\n",
              "    <tr>\n",
              "      <th>7</th>\n",
              "      <td>3.0</td>\n",
              "      <td>3.0</td>\n",
              "      <td>4.0</td>\n",
              "      <td>3.0</td>\n",
              "    </tr>\n",
              "  </tbody>\n",
              "</table>\n",
              "</div>"
            ],
            "text/plain": [
              "     X    Y    Z    W\n",
              "0  4.0  4.0  1.0  4.0\n",
              "1  4.0  4.0  1.0  4.0\n",
              "2  3.0  3.0  4.0  3.0\n",
              "3  4.0  4.0  1.0  4.0\n",
              "4  4.0  4.0  4.0  4.0\n",
              "5  4.0  4.0  4.0  4.0\n",
              "6  3.0  3.0  4.0  3.0\n",
              "7  3.0  3.0  4.0  3.0"
            ]
          },
          "execution_count": 126,
          "metadata": {},
          "output_type": "execute_result"
        }
      ],
      "source": [
        "df5.rank(axis=1,method='max')"
      ]
    },
    {
      "cell_type": "markdown",
      "metadata": {
        "id": "b1NN5M1TmO5G"
      },
      "source": [
        "#row labels/index labels may be duplicated. Note reindex() needs unique labels"
      ]
    },
    {
      "cell_type": "code",
      "execution_count": null,
      "metadata": {
        "colab": {
          "base_uri": "https://localhost:8080/"
        },
        "id": "oHGRjkcSZDKP",
        "outputId": "7c2f6456-8888-4fc1-8c4a-579c1e613e3b"
      },
      "outputs": [
        {
          "data": {
            "text/plain": [
              "a    0\n",
              "a    1\n",
              "b    2\n",
              "b    3\n",
              "c    4\n",
              "dtype: int64"
            ]
          },
          "execution_count": 127,
          "metadata": {},
          "output_type": "execute_result"
        }
      ],
      "source": [
        "obj = pd.Series(range(5), index=['a', 'a', 'b', 'b', 'c'])\n",
        "obj"
      ]
    },
    {
      "cell_type": "code",
      "execution_count": null,
      "metadata": {
        "colab": {
          "base_uri": "https://localhost:8080/"
        },
        "id": "KxGybd2KmjHU",
        "outputId": "8369275d-4559-4615-fc7f-3eec2f366573"
      },
      "outputs": [
        {
          "data": {
            "text/plain": [
              "False"
            ]
          },
          "execution_count": 128,
          "metadata": {},
          "output_type": "execute_result"
        }
      ],
      "source": [
        "obj.index.is_unique"
      ]
    },
    {
      "cell_type": "code",
      "execution_count": null,
      "metadata": {
        "colab": {
          "base_uri": "https://localhost:8080/"
        },
        "id": "PPkR9u_km5QU",
        "outputId": "c40297c2-e1ec-4eb6-8276-5966d2f0d4e7"
      },
      "outputs": [
        {
          "data": {
            "text/plain": [
              "a    0\n",
              "a    1\n",
              "dtype: int64"
            ]
          },
          "execution_count": 129,
          "metadata": {},
          "output_type": "execute_result"
        }
      ],
      "source": [
        "obj['a']"
      ]
    },
    {
      "cell_type": "markdown",
      "metadata": {
        "id": "oz0t6atnmr-r"
      },
      "source": [
        "#by default no name to dataseries object"
      ]
    },
    {
      "cell_type": "code",
      "execution_count": null,
      "metadata": {
        "id": "YElmzIENmkK5"
      },
      "outputs": [],
      "source": [
        "obj.name"
      ]
    },
    {
      "cell_type": "markdown",
      "metadata": {
        "id": "LL9p-DNAmwpH"
      },
      "source": []
    },
    {
      "cell_type": "code",
      "execution_count": null,
      "metadata": {
        "id": "1msYA6Ysmp1M"
      },
      "outputs": [],
      "source": [
        "obj.name='Series1'"
      ]
    },
    {
      "cell_type": "markdown",
      "metadata": {
        "id": "5aOkqFGum-uQ"
      },
      "source": [
        "#find the output?"
      ]
    },
    {
      "cell_type": "code",
      "execution_count": null,
      "metadata": {
        "colab": {
          "base_uri": "https://localhost:8080/",
          "height": 204
        },
        "id": "TZiclMDfnBhU",
        "outputId": "80ed9761-20b5-40c6-8c8e-2cebd8ef8221"
      },
      "outputs": [
        {
          "data": {
            "text/html": [
              "<div>\n",
              "<style scoped>\n",
              "    .dataframe tbody tr th:only-of-type {\n",
              "        vertical-align: middle;\n",
              "    }\n",
              "\n",
              "    .dataframe tbody tr th {\n",
              "        vertical-align: top;\n",
              "    }\n",
              "\n",
              "    .dataframe thead th {\n",
              "        text-align: right;\n",
              "    }\n",
              "</style>\n",
              "<table border=\"1\" class=\"dataframe\">\n",
              "  <thead>\n",
              "    <tr style=\"text-align: right;\">\n",
              "      <th></th>\n",
              "      <th>XX</th>\n",
              "      <th>YY</th>\n",
              "      <th>ZZ</th>\n",
              "    </tr>\n",
              "  </thead>\n",
              "  <tbody>\n",
              "    <tr>\n",
              "      <th>a</th>\n",
              "      <td>0.636137</td>\n",
              "      <td>-0.272675</td>\n",
              "      <td>-0.440010</td>\n",
              "    </tr>\n",
              "    <tr>\n",
              "      <th>a</th>\n",
              "      <td>1.797088</td>\n",
              "      <td>-5.363503</td>\n",
              "      <td>0.450279</td>\n",
              "    </tr>\n",
              "    <tr>\n",
              "      <th>b</th>\n",
              "      <td>2.464888</td>\n",
              "      <td>-2.751594</td>\n",
              "      <td>-2.508961</td>\n",
              "    </tr>\n",
              "    <tr>\n",
              "      <th>b</th>\n",
              "      <td>1.375123</td>\n",
              "      <td>-2.364279</td>\n",
              "      <td>-0.162705</td>\n",
              "    </tr>\n",
              "    <tr>\n",
              "      <th>c</th>\n",
              "      <td>0.617199</td>\n",
              "      <td>-3.981401</td>\n",
              "      <td>-2.044461</td>\n",
              "    </tr>\n",
              "  </tbody>\n",
              "</table>\n",
              "</div>"
            ],
            "text/plain": [
              "         XX        YY        ZZ\n",
              "a  0.636137 -0.272675 -0.440010\n",
              "a  1.797088 -5.363503  0.450279\n",
              "b  2.464888 -2.751594 -2.508961\n",
              "b  1.375123 -2.364279 -0.162705\n",
              "c  0.617199 -3.981401 -2.044461"
            ]
          },
          "execution_count": 266,
          "metadata": {},
          "output_type": "execute_result"
        }
      ],
      "source": [
        "df = pd.DataFrame(np.random.randn(5, 3)*2, index=['a', 'a', 'b', 'b','c'],columns=['XX','YY','ZZ'])\n",
        "df\n"
      ]
    },
    {
      "cell_type": "code",
      "execution_count": null,
      "metadata": {
        "colab": {
          "base_uri": "https://localhost:8080/",
          "height": 111
        },
        "id": "BPNPcJpynSZF",
        "outputId": "93fe3e96-bf90-4894-b79c-f3e8df605d7f"
      },
      "outputs": [
        {
          "data": {
            "text/html": [
              "<div>\n",
              "<style scoped>\n",
              "    .dataframe tbody tr th:only-of-type {\n",
              "        vertical-align: middle;\n",
              "    }\n",
              "\n",
              "    .dataframe tbody tr th {\n",
              "        vertical-align: top;\n",
              "    }\n",
              "\n",
              "    .dataframe thead th {\n",
              "        text-align: right;\n",
              "    }\n",
              "</style>\n",
              "<table border=\"1\" class=\"dataframe\">\n",
              "  <thead>\n",
              "    <tr style=\"text-align: right;\">\n",
              "      <th></th>\n",
              "      <th>XX</th>\n",
              "      <th>YY</th>\n",
              "      <th>ZZ</th>\n",
              "    </tr>\n",
              "  </thead>\n",
              "  <tbody>\n",
              "    <tr>\n",
              "      <th>b</th>\n",
              "      <td>2.464888</td>\n",
              "      <td>-2.751594</td>\n",
              "      <td>-2.508961</td>\n",
              "    </tr>\n",
              "    <tr>\n",
              "      <th>b</th>\n",
              "      <td>1.375123</td>\n",
              "      <td>-2.364279</td>\n",
              "      <td>-0.162705</td>\n",
              "    </tr>\n",
              "  </tbody>\n",
              "</table>\n",
              "</div>"
            ],
            "text/plain": [
              "         XX        YY        ZZ\n",
              "b  2.464888 -2.751594 -2.508961\n",
              "b  1.375123 -2.364279 -0.162705"
            ]
          },
          "execution_count": 267,
          "metadata": {},
          "output_type": "execute_result"
        }
      ],
      "source": [
        "df.loc['b']"
      ]
    },
    {
      "cell_type": "markdown",
      "metadata": {
        "id": "Me2Gcg9gnZ1C"
      },
      "source": [
        "#Summarizing and Descriptive Statistics"
      ]
    },
    {
      "cell_type": "code",
      "execution_count": null,
      "metadata": {
        "colab": {
          "base_uri": "https://localhost:8080/",
          "height": 204
        },
        "id": "cwZMF_aRnZKL",
        "outputId": "510bcd09-9e26-41aa-be3b-1dfc664ea211"
      },
      "outputs": [
        {
          "data": {
            "text/html": [
              "<div>\n",
              "<style scoped>\n",
              "    .dataframe tbody tr th:only-of-type {\n",
              "        vertical-align: middle;\n",
              "    }\n",
              "\n",
              "    .dataframe tbody tr th {\n",
              "        vertical-align: top;\n",
              "    }\n",
              "\n",
              "    .dataframe thead th {\n",
              "        text-align: right;\n",
              "    }\n",
              "</style>\n",
              "<table border=\"1\" class=\"dataframe\">\n",
              "  <thead>\n",
              "    <tr style=\"text-align: right;\">\n",
              "      <th></th>\n",
              "      <th>XX</th>\n",
              "      <th>YY</th>\n",
              "      <th>ZZ</th>\n",
              "    </tr>\n",
              "  </thead>\n",
              "  <tbody>\n",
              "    <tr>\n",
              "      <th>a</th>\n",
              "      <td>0.636137</td>\n",
              "      <td>-0.272675</td>\n",
              "      <td>-0.440010</td>\n",
              "    </tr>\n",
              "    <tr>\n",
              "      <th>a</th>\n",
              "      <td>1.797088</td>\n",
              "      <td>-5.363503</td>\n",
              "      <td>0.450279</td>\n",
              "    </tr>\n",
              "    <tr>\n",
              "      <th>b</th>\n",
              "      <td>2.464888</td>\n",
              "      <td>NaN</td>\n",
              "      <td>-2.508961</td>\n",
              "    </tr>\n",
              "    <tr>\n",
              "      <th>b</th>\n",
              "      <td>1.375123</td>\n",
              "      <td>NaN</td>\n",
              "      <td>-0.162705</td>\n",
              "    </tr>\n",
              "    <tr>\n",
              "      <th>c</th>\n",
              "      <td>0.617199</td>\n",
              "      <td>-3.981401</td>\n",
              "      <td>-2.044461</td>\n",
              "    </tr>\n",
              "  </tbody>\n",
              "</table>\n",
              "</div>"
            ],
            "text/plain": [
              "         XX        YY        ZZ\n",
              "a  0.636137 -0.272675 -0.440010\n",
              "a  1.797088 -5.363503  0.450279\n",
              "b  2.464888       NaN -2.508961\n",
              "b  1.375123       NaN -0.162705\n",
              "c  0.617199 -3.981401 -2.044461"
            ]
          },
          "execution_count": 268,
          "metadata": {},
          "output_type": "execute_result"
        }
      ],
      "source": [
        "df.loc['b','YY']=None\n",
        "df"
      ]
    },
    {
      "cell_type": "markdown",
      "metadata": {
        "id": "FfRtvkqqoURO"
      },
      "source": [
        "#by default Na values are ignored"
      ]
    },
    {
      "cell_type": "code",
      "execution_count": null,
      "metadata": {
        "colab": {
          "base_uri": "https://localhost:8080/"
        },
        "id": "wZ6HLJKBn-F7",
        "outputId": "77fe4b45-13ea-41c8-e70f-d0ff347f9416"
      },
      "outputs": [
        {
          "data": {
            "text/plain": [
              "a   -0.731119\n",
              "a    0.020714\n",
              "b   -1.457560\n",
              "b   -0.357385\n",
              "c   -0.017059\n",
              "dtype: float64"
            ]
          },
          "execution_count": 133,
          "metadata": {},
          "output_type": "execute_result"
        }
      ],
      "source": [
        "df.mean(axis=1)"
      ]
    },
    {
      "cell_type": "code",
      "execution_count": null,
      "metadata": {
        "colab": {
          "base_uri": "https://localhost:8080/"
        },
        "id": "u1UXJS35oKD6",
        "outputId": "8482830e-a349-4bf3-ce36-e6bc2f9635da"
      },
      "outputs": [
        {
          "data": {
            "text/plain": [
              "a   -0.731119\n",
              "a    0.020714\n",
              "b         NaN\n",
              "b         NaN\n",
              "c   -0.017059\n",
              "dtype: float64"
            ]
          },
          "execution_count": 134,
          "metadata": {},
          "output_type": "execute_result"
        }
      ],
      "source": [
        "df.mean(axis=1,skipna=False)"
      ]
    },
    {
      "cell_type": "markdown",
      "metadata": {
        "id": "QhjFnhvPo7fe"
      },
      "source": [
        "#indirect statistics to get index with min value"
      ]
    },
    {
      "cell_type": "code",
      "execution_count": null,
      "metadata": {
        "colab": {
          "base_uri": "https://localhost:8080/",
          "height": 204
        },
        "id": "nCIVDaHTByy_",
        "outputId": "2864dfc8-57b1-4fa7-a24a-36a14c3fbc23"
      },
      "outputs": [
        {
          "data": {
            "text/html": [
              "<div>\n",
              "<style scoped>\n",
              "    .dataframe tbody tr th:only-of-type {\n",
              "        vertical-align: middle;\n",
              "    }\n",
              "\n",
              "    .dataframe tbody tr th {\n",
              "        vertical-align: top;\n",
              "    }\n",
              "\n",
              "    .dataframe thead th {\n",
              "        text-align: right;\n",
              "    }\n",
              "</style>\n",
              "<table border=\"1\" class=\"dataframe\">\n",
              "  <thead>\n",
              "    <tr style=\"text-align: right;\">\n",
              "      <th></th>\n",
              "      <th>XX</th>\n",
              "      <th>YY</th>\n",
              "      <th>ZZ</th>\n",
              "    </tr>\n",
              "  </thead>\n",
              "  <tbody>\n",
              "    <tr>\n",
              "      <th>a</th>\n",
              "      <td>0.636137</td>\n",
              "      <td>-0.272675</td>\n",
              "      <td>-0.440010</td>\n",
              "    </tr>\n",
              "    <tr>\n",
              "      <th>a</th>\n",
              "      <td>1.797088</td>\n",
              "      <td>-5.363503</td>\n",
              "      <td>0.450279</td>\n",
              "    </tr>\n",
              "    <tr>\n",
              "      <th>b</th>\n",
              "      <td>2.464888</td>\n",
              "      <td>NaN</td>\n",
              "      <td>-2.508961</td>\n",
              "    </tr>\n",
              "    <tr>\n",
              "      <th>b</th>\n",
              "      <td>1.375123</td>\n",
              "      <td>NaN</td>\n",
              "      <td>-0.162705</td>\n",
              "    </tr>\n",
              "    <tr>\n",
              "      <th>c</th>\n",
              "      <td>0.617199</td>\n",
              "      <td>-3.981401</td>\n",
              "      <td>-2.044461</td>\n",
              "    </tr>\n",
              "  </tbody>\n",
              "</table>\n",
              "</div>"
            ],
            "text/plain": [
              "         XX        YY        ZZ\n",
              "a  0.636137 -0.272675 -0.440010\n",
              "a  1.797088 -5.363503  0.450279\n",
              "b  2.464888       NaN -2.508961\n",
              "b  1.375123       NaN -0.162705\n",
              "c  0.617199 -3.981401 -2.044461"
            ]
          },
          "execution_count": 269,
          "metadata": {},
          "output_type": "execute_result"
        }
      ],
      "source": [
        "df"
      ]
    },
    {
      "cell_type": "code",
      "execution_count": null,
      "metadata": {
        "colab": {
          "base_uri": "https://localhost:8080/"
        },
        "id": "kZkRWfQCpAXt",
        "outputId": "28a9c045-044a-4f45-dddd-cadc3140368e"
      },
      "outputs": [
        {
          "data": {
            "text/plain": [
              "XX    c\n",
              "YY    a\n",
              "ZZ    b\n",
              "dtype: object"
            ]
          },
          "execution_count": 270,
          "metadata": {},
          "output_type": "execute_result"
        }
      ],
      "source": [
        "df.idxmin()"
      ]
    },
    {
      "cell_type": "code",
      "execution_count": null,
      "metadata": {
        "colab": {
          "base_uri": "https://localhost:8080/",
          "height": 36
        },
        "id": "5Nkv1eBMpOgf",
        "outputId": "0a47a301-8c9e-4da7-cd44-bc1bd7993b97"
      },
      "outputs": [
        {
          "data": {
            "application/vnd.google.colaboratory.intrinsic+json": {
              "type": "string"
            },
            "text/plain": [
              "'a'"
            ]
          },
          "execution_count": 271,
          "metadata": {},
          "output_type": "execute_result"
        }
      ],
      "source": [
        "df['ZZ'].idxmax()"
      ]
    },
    {
      "cell_type": "code",
      "execution_count": null,
      "metadata": {
        "colab": {
          "base_uri": "https://localhost:8080/"
        },
        "id": "Rny9b5z9pXEC",
        "outputId": "27fd665b-dc13-4727-9ab6-1b6a3f551db8"
      },
      "outputs": [
        {
          "data": {
            "text/plain": [
              "a   -0.440010\n",
              "a    0.010269\n",
              "b   -2.498692\n",
              "b   -2.661397\n",
              "c   -4.705858\n",
              "Name: ZZ, dtype: float64"
            ]
          },
          "execution_count": 272,
          "metadata": {},
          "output_type": "execute_result"
        }
      ],
      "source": [
        "df['ZZ'].cumsum()"
      ]
    },
    {
      "cell_type": "markdown",
      "metadata": {
        "id": "Wmi24W96prNZ"
      },
      "source": [
        "#Statistical summary of numeric data"
      ]
    },
    {
      "cell_type": "code",
      "execution_count": null,
      "metadata": {
        "colab": {
          "base_uri": "https://localhost:8080/",
          "height": 204
        },
        "id": "l__NbmZNqA4t",
        "outputId": "e26987b5-02a0-4bce-bdd5-44a3d5f59adf"
      },
      "outputs": [
        {
          "data": {
            "text/html": [
              "<div>\n",
              "<style scoped>\n",
              "    .dataframe tbody tr th:only-of-type {\n",
              "        vertical-align: middle;\n",
              "    }\n",
              "\n",
              "    .dataframe tbody tr th {\n",
              "        vertical-align: top;\n",
              "    }\n",
              "\n",
              "    .dataframe thead th {\n",
              "        text-align: right;\n",
              "    }\n",
              "</style>\n",
              "<table border=\"1\" class=\"dataframe\">\n",
              "  <thead>\n",
              "    <tr style=\"text-align: right;\">\n",
              "      <th></th>\n",
              "      <th>XX</th>\n",
              "      <th>YY</th>\n",
              "      <th>ZZ</th>\n",
              "    </tr>\n",
              "  </thead>\n",
              "  <tbody>\n",
              "    <tr>\n",
              "      <th>a</th>\n",
              "      <td>2.469835</td>\n",
              "      <td>-2.535221</td>\n",
              "      <td>-2.127972</td>\n",
              "    </tr>\n",
              "    <tr>\n",
              "      <th>a</th>\n",
              "      <td>-3.394944</td>\n",
              "      <td>1.130319</td>\n",
              "      <td>2.326766</td>\n",
              "    </tr>\n",
              "    <tr>\n",
              "      <th>b</th>\n",
              "      <td>-1.954144</td>\n",
              "      <td>NaN</td>\n",
              "      <td>-0.960977</td>\n",
              "    </tr>\n",
              "    <tr>\n",
              "      <th>b</th>\n",
              "      <td>0.950506</td>\n",
              "      <td>NaN</td>\n",
              "      <td>-1.665275</td>\n",
              "    </tr>\n",
              "    <tr>\n",
              "      <th>c</th>\n",
              "      <td>-0.995845</td>\n",
              "      <td>-1.290803</td>\n",
              "      <td>2.235472</td>\n",
              "    </tr>\n",
              "  </tbody>\n",
              "</table>\n",
              "</div>"
            ],
            "text/plain": [
              "         XX        YY        ZZ\n",
              "a  2.469835 -2.535221 -2.127972\n",
              "a -3.394944  1.130319  2.326766\n",
              "b -1.954144       NaN -0.960977\n",
              "b  0.950506       NaN -1.665275\n",
              "c -0.995845 -1.290803  2.235472"
            ]
          },
          "execution_count": 142,
          "metadata": {},
          "output_type": "execute_result"
        }
      ],
      "source": [
        "df"
      ]
    },
    {
      "cell_type": "code",
      "execution_count": null,
      "metadata": {
        "colab": {
          "base_uri": "https://localhost:8080/",
          "height": 204
        },
        "id": "CbGLc0w1qZSg",
        "outputId": "4cee0064-5e77-4f0f-895b-b48058cbddea"
      },
      "outputs": [
        {
          "data": {
            "text/html": [
              "<div>\n",
              "<style scoped>\n",
              "    .dataframe tbody tr th:only-of-type {\n",
              "        vertical-align: middle;\n",
              "    }\n",
              "\n",
              "    .dataframe tbody tr th {\n",
              "        vertical-align: top;\n",
              "    }\n",
              "\n",
              "    .dataframe thead th {\n",
              "        text-align: right;\n",
              "    }\n",
              "</style>\n",
              "<table border=\"1\" class=\"dataframe\">\n",
              "  <thead>\n",
              "    <tr style=\"text-align: right;\">\n",
              "      <th></th>\n",
              "      <th>XX</th>\n",
              "      <th>YY</th>\n",
              "      <th>ZZ</th>\n",
              "    </tr>\n",
              "  </thead>\n",
              "  <tbody>\n",
              "    <tr>\n",
              "      <th>a</th>\n",
              "      <td>4.0</td>\n",
              "      <td>1.0</td>\n",
              "      <td>4.0</td>\n",
              "    </tr>\n",
              "    <tr>\n",
              "      <th>a</th>\n",
              "      <td>1.0</td>\n",
              "      <td>2.0</td>\n",
              "      <td>5.0</td>\n",
              "    </tr>\n",
              "    <tr>\n",
              "      <th>b</th>\n",
              "      <td>3.0</td>\n",
              "      <td>3.0</td>\n",
              "      <td>2.0</td>\n",
              "    </tr>\n",
              "    <tr>\n",
              "      <th>b</th>\n",
              "      <td>2.0</td>\n",
              "      <td>5.0</td>\n",
              "      <td>3.0</td>\n",
              "    </tr>\n",
              "    <tr>\n",
              "      <th>c</th>\n",
              "      <td>5.0</td>\n",
              "      <td>4.0</td>\n",
              "      <td>1.0</td>\n",
              "    </tr>\n",
              "  </tbody>\n",
              "</table>\n",
              "</div>"
            ],
            "text/plain": [
              "    XX   YY   ZZ\n",
              "a  4.0  1.0  4.0\n",
              "a  1.0  2.0  5.0\n",
              "b  3.0  3.0  2.0\n",
              "b  2.0  5.0  3.0\n",
              "c  5.0  4.0  1.0"
            ]
          },
          "execution_count": 204,
          "metadata": {},
          "output_type": "execute_result"
        }
      ],
      "source": [
        "df.rank()"
      ]
    },
    {
      "cell_type": "code",
      "execution_count": null,
      "metadata": {
        "colab": {
          "base_uri": "https://localhost:8080/",
          "height": 296
        },
        "id": "SXeW9ZERpksA",
        "outputId": "502ee6e7-ec13-475b-b077-a725af4405b4"
      },
      "outputs": [
        {
          "data": {
            "text/html": [
              "<div>\n",
              "<style scoped>\n",
              "    .dataframe tbody tr th:only-of-type {\n",
              "        vertical-align: middle;\n",
              "    }\n",
              "\n",
              "    .dataframe tbody tr th {\n",
              "        vertical-align: top;\n",
              "    }\n",
              "\n",
              "    .dataframe thead th {\n",
              "        text-align: right;\n",
              "    }\n",
              "</style>\n",
              "<table border=\"1\" class=\"dataframe\">\n",
              "  <thead>\n",
              "    <tr style=\"text-align: right;\">\n",
              "      <th></th>\n",
              "      <th>XX</th>\n",
              "      <th>YY</th>\n",
              "      <th>ZZ</th>\n",
              "    </tr>\n",
              "  </thead>\n",
              "  <tbody>\n",
              "    <tr>\n",
              "      <th>count</th>\n",
              "      <td>5.000000</td>\n",
              "      <td>3.000000</td>\n",
              "      <td>5.000000</td>\n",
              "    </tr>\n",
              "    <tr>\n",
              "      <th>mean</th>\n",
              "      <td>1.378087</td>\n",
              "      <td>-3.205860</td>\n",
              "      <td>-0.941172</td>\n",
              "    </tr>\n",
              "    <tr>\n",
              "      <th>std</th>\n",
              "      <td>0.788376</td>\n",
              "      <td>2.632533</td>\n",
              "      <td>1.271664</td>\n",
              "    </tr>\n",
              "    <tr>\n",
              "      <th>min</th>\n",
              "      <td>0.617199</td>\n",
              "      <td>-5.363503</td>\n",
              "      <td>-2.508961</td>\n",
              "    </tr>\n",
              "    <tr>\n",
              "      <th>25%</th>\n",
              "      <td>0.636137</td>\n",
              "      <td>-4.672452</td>\n",
              "      <td>-2.044461</td>\n",
              "    </tr>\n",
              "    <tr>\n",
              "      <th>50%</th>\n",
              "      <td>1.375123</td>\n",
              "      <td>-3.981401</td>\n",
              "      <td>-0.440010</td>\n",
              "    </tr>\n",
              "    <tr>\n",
              "      <th>75%</th>\n",
              "      <td>1.797088</td>\n",
              "      <td>-2.127038</td>\n",
              "      <td>-0.162705</td>\n",
              "    </tr>\n",
              "    <tr>\n",
              "      <th>max</th>\n",
              "      <td>2.464888</td>\n",
              "      <td>-0.272675</td>\n",
              "      <td>0.450279</td>\n",
              "    </tr>\n",
              "  </tbody>\n",
              "</table>\n",
              "</div>"
            ],
            "text/plain": [
              "             XX        YY        ZZ\n",
              "count  5.000000  3.000000  5.000000\n",
              "mean   1.378087 -3.205860 -0.941172\n",
              "std    0.788376  2.632533  1.271664\n",
              "min    0.617199 -5.363503 -2.508961\n",
              "25%    0.636137 -4.672452 -2.044461\n",
              "50%    1.375123 -3.981401 -0.440010\n",
              "75%    1.797088 -2.127038 -0.162705\n",
              "max    2.464888 -0.272675  0.450279"
            ]
          },
          "execution_count": 273,
          "metadata": {},
          "output_type": "execute_result"
        }
      ],
      "source": [
        "df.describe()"
      ]
    },
    {
      "cell_type": "code",
      "execution_count": null,
      "metadata": {
        "id": "znsQI0UvyywE"
      },
      "outputs": [],
      "source": [
        "df['WW']=list('abcce')"
      ]
    },
    {
      "cell_type": "markdown",
      "metadata": {
        "id": "Jdg6EDasy6WI"
      },
      "source": [
        "#non-numeric columns are ignored in describe"
      ]
    },
    {
      "cell_type": "code",
      "execution_count": null,
      "metadata": {
        "colab": {
          "base_uri": "https://localhost:8080/",
          "height": 204
        },
        "id": "Sb8azEwcy_-O",
        "outputId": "f448d890-999d-40eb-80ef-daf1b2f824aa"
      },
      "outputs": [
        {
          "data": {
            "text/html": [
              "<div>\n",
              "<style scoped>\n",
              "    .dataframe tbody tr th:only-of-type {\n",
              "        vertical-align: middle;\n",
              "    }\n",
              "\n",
              "    .dataframe tbody tr th {\n",
              "        vertical-align: top;\n",
              "    }\n",
              "\n",
              "    .dataframe thead th {\n",
              "        text-align: right;\n",
              "    }\n",
              "</style>\n",
              "<table border=\"1\" class=\"dataframe\">\n",
              "  <thead>\n",
              "    <tr style=\"text-align: right;\">\n",
              "      <th></th>\n",
              "      <th>XX</th>\n",
              "      <th>YY</th>\n",
              "      <th>ZZ</th>\n",
              "      <th>WW</th>\n",
              "    </tr>\n",
              "  </thead>\n",
              "  <tbody>\n",
              "    <tr>\n",
              "      <th>a</th>\n",
              "      <td>0.636137</td>\n",
              "      <td>-0.272675</td>\n",
              "      <td>-0.440010</td>\n",
              "      <td>a</td>\n",
              "    </tr>\n",
              "    <tr>\n",
              "      <th>a</th>\n",
              "      <td>1.797088</td>\n",
              "      <td>-5.363503</td>\n",
              "      <td>0.450279</td>\n",
              "      <td>b</td>\n",
              "    </tr>\n",
              "    <tr>\n",
              "      <th>b</th>\n",
              "      <td>2.464888</td>\n",
              "      <td>NaN</td>\n",
              "      <td>-2.508961</td>\n",
              "      <td>c</td>\n",
              "    </tr>\n",
              "    <tr>\n",
              "      <th>b</th>\n",
              "      <td>1.375123</td>\n",
              "      <td>NaN</td>\n",
              "      <td>-0.162705</td>\n",
              "      <td>c</td>\n",
              "    </tr>\n",
              "    <tr>\n",
              "      <th>c</th>\n",
              "      <td>0.617199</td>\n",
              "      <td>-3.981401</td>\n",
              "      <td>-2.044461</td>\n",
              "      <td>e</td>\n",
              "    </tr>\n",
              "  </tbody>\n",
              "</table>\n",
              "</div>"
            ],
            "text/plain": [
              "         XX        YY        ZZ WW\n",
              "a  0.636137 -0.272675 -0.440010  a\n",
              "a  1.797088 -5.363503  0.450279  b\n",
              "b  2.464888       NaN -2.508961  c\n",
              "b  1.375123       NaN -0.162705  c\n",
              "c  0.617199 -3.981401 -2.044461  e"
            ]
          },
          "execution_count": 275,
          "metadata": {},
          "output_type": "execute_result"
        }
      ],
      "source": [
        "df"
      ]
    },
    {
      "cell_type": "code",
      "execution_count": null,
      "metadata": {
        "colab": {
          "base_uri": "https://localhost:8080/",
          "height": 296
        },
        "id": "Jn_n69Axy2WG",
        "outputId": "ec095884-9b38-4559-f9eb-7906095b497b"
      },
      "outputs": [
        {
          "data": {
            "text/html": [
              "<div>\n",
              "<style scoped>\n",
              "    .dataframe tbody tr th:only-of-type {\n",
              "        vertical-align: middle;\n",
              "    }\n",
              "\n",
              "    .dataframe tbody tr th {\n",
              "        vertical-align: top;\n",
              "    }\n",
              "\n",
              "    .dataframe thead th {\n",
              "        text-align: right;\n",
              "    }\n",
              "</style>\n",
              "<table border=\"1\" class=\"dataframe\">\n",
              "  <thead>\n",
              "    <tr style=\"text-align: right;\">\n",
              "      <th></th>\n",
              "      <th>XX</th>\n",
              "      <th>YY</th>\n",
              "      <th>ZZ</th>\n",
              "    </tr>\n",
              "  </thead>\n",
              "  <tbody>\n",
              "    <tr>\n",
              "      <th>count</th>\n",
              "      <td>5.000000</td>\n",
              "      <td>3.000000</td>\n",
              "      <td>5.000000</td>\n",
              "    </tr>\n",
              "    <tr>\n",
              "      <th>mean</th>\n",
              "      <td>1.378087</td>\n",
              "      <td>-3.205860</td>\n",
              "      <td>-0.941172</td>\n",
              "    </tr>\n",
              "    <tr>\n",
              "      <th>std</th>\n",
              "      <td>0.788376</td>\n",
              "      <td>2.632533</td>\n",
              "      <td>1.271664</td>\n",
              "    </tr>\n",
              "    <tr>\n",
              "      <th>min</th>\n",
              "      <td>0.617199</td>\n",
              "      <td>-5.363503</td>\n",
              "      <td>-2.508961</td>\n",
              "    </tr>\n",
              "    <tr>\n",
              "      <th>25%</th>\n",
              "      <td>0.636137</td>\n",
              "      <td>-4.672452</td>\n",
              "      <td>-2.044461</td>\n",
              "    </tr>\n",
              "    <tr>\n",
              "      <th>50%</th>\n",
              "      <td>1.375123</td>\n",
              "      <td>-3.981401</td>\n",
              "      <td>-0.440010</td>\n",
              "    </tr>\n",
              "    <tr>\n",
              "      <th>75%</th>\n",
              "      <td>1.797088</td>\n",
              "      <td>-2.127038</td>\n",
              "      <td>-0.162705</td>\n",
              "    </tr>\n",
              "    <tr>\n",
              "      <th>max</th>\n",
              "      <td>2.464888</td>\n",
              "      <td>-0.272675</td>\n",
              "      <td>0.450279</td>\n",
              "    </tr>\n",
              "  </tbody>\n",
              "</table>\n",
              "</div>"
            ],
            "text/plain": [
              "             XX        YY        ZZ\n",
              "count  5.000000  3.000000  5.000000\n",
              "mean   1.378087 -3.205860 -0.941172\n",
              "std    0.788376  2.632533  1.271664\n",
              "min    0.617199 -5.363503 -2.508961\n",
              "25%    0.636137 -4.672452 -2.044461\n",
              "50%    1.375123 -3.981401 -0.440010\n",
              "75%    1.797088 -2.127038 -0.162705\n",
              "max    2.464888 -0.272675  0.450279"
            ]
          },
          "execution_count": 276,
          "metadata": {},
          "output_type": "execute_result"
        }
      ],
      "source": [
        "df.describe()"
      ]
    },
    {
      "cell_type": "markdown",
      "metadata": {
        "id": "JUzcbAnCrl9p"
      },
      "source": [
        "#what is percentile: Used to compare a value with other values in a dataset\n",
        "\n",
        "How to compute: a)Rank the values in the data set in order from smallest to largest.b) multiply the desired P by N c) round off to nearest integer which gives row index. Use it to get value from the ranked data 3.6=>4\n"
      ]
    },
    {
      "cell_type": "markdown",
      "metadata": {
        "id": "D_H00K6rwBNn"
      },
      "source": [
        "#describe on string data"
      ]
    },
    {
      "cell_type": "code",
      "execution_count": null,
      "metadata": {
        "colab": {
          "base_uri": "https://localhost:8080/"
        },
        "id": "KcEDMazMzHCd",
        "outputId": "c58c3281-8c87-43d4-d1e1-f91ade5984c8"
      },
      "outputs": [
        {
          "data": {
            "text/plain": [
              "count     5\n",
              "unique    4\n",
              "top       c\n",
              "freq      2\n",
              "Name: WW, dtype: object"
            ]
          },
          "execution_count": 277,
          "metadata": {},
          "output_type": "execute_result"
        }
      ],
      "source": [
        "df['WW'].describe()"
      ]
    },
    {
      "cell_type": "code",
      "execution_count": null,
      "metadata": {
        "colab": {
          "base_uri": "https://localhost:8080/"
        },
        "id": "9Dq28qL5wGnI",
        "outputId": "2a975773-69c3-4fcb-e3e3-a6026ae63f93"
      },
      "outputs": [
        {
          "data": {
            "text/plain": [
              "0     a\n",
              "1     x\n",
              "2     c\n",
              "3     a\n",
              "4     a\n",
              "5     x\n",
              "6     c\n",
              "7     a\n",
              "8     a\n",
              "9     x\n",
              "10    c\n",
              "11    a\n",
              "dtype: object"
            ]
          },
          "execution_count": 152,
          "metadata": {},
          "output_type": "execute_result"
        }
      ],
      "source": [
        "str1=pd.Series(list('axca')*3)\n",
        "str1"
      ]
    },
    {
      "cell_type": "code",
      "execution_count": null,
      "metadata": {
        "colab": {
          "base_uri": "https://localhost:8080/"
        },
        "id": "5jDaxmLfwYFR",
        "outputId": "d5eccb28-5ae1-49a0-cf54-457cd2c6de63"
      },
      "outputs": [
        {
          "data": {
            "text/plain": [
              "count     12\n",
              "unique     3\n",
              "top        a\n",
              "freq       6\n",
              "dtype: object"
            ]
          },
          "execution_count": 153,
          "metadata": {},
          "output_type": "execute_result"
        }
      ],
      "source": [
        "str1.describe()"
      ]
    },
    {
      "cell_type": "markdown",
      "metadata": {
        "id": "vvSo0QpJOXx7"
      },
      "source": [
        "#more statistical functions"
      ]
    },
    {
      "cell_type": "markdown",
      "metadata": {
        "id": "Sit164c75WTp"
      },
      "source": [
        "#Covariance indicates the direction of the linear relationship between variables and is  affected by the change in scale. Simply stated, covariance is a measure of the relationship between two random variables.\n",
        "#Correlation measures both the strength and direction of the linear relationship between two variables. "
      ]
    },
    {
      "cell_type": "markdown",
      "metadata": {
        "id": "T0gpa2Yl5DOP"
      },
      "source": [
        "#pairwise correlation of columns\n",
        "=cov(c1,c2)/std(c1)*std(c2)\n",
        "\n",
        "where cov(c1,c2)=\\sum((c1_i-mean(c1)((c2_i-mean(c2))/N\n"
      ]
    },
    {
      "cell_type": "code",
      "execution_count": null,
      "metadata": {
        "colab": {
          "base_uri": "https://localhost:8080/",
          "height": 141
        },
        "id": "K9R4Gqb_5heE",
        "outputId": "82dd6002-9416-49a4-84fd-f9f493a79d46"
      },
      "outputs": [
        {
          "data": {
            "text/html": [
              "<div>\n",
              "<style scoped>\n",
              "    .dataframe tbody tr th:only-of-type {\n",
              "        vertical-align: middle;\n",
              "    }\n",
              "\n",
              "    .dataframe tbody tr th {\n",
              "        vertical-align: top;\n",
              "    }\n",
              "\n",
              "    .dataframe thead th {\n",
              "        text-align: right;\n",
              "    }\n",
              "</style>\n",
              "<table border=\"1\" class=\"dataframe\">\n",
              "  <thead>\n",
              "    <tr style=\"text-align: right;\">\n",
              "      <th></th>\n",
              "      <th>XX</th>\n",
              "      <th>YY</th>\n",
              "      <th>ZZ</th>\n",
              "    </tr>\n",
              "  </thead>\n",
              "  <tbody>\n",
              "    <tr>\n",
              "      <th>XX</th>\n",
              "      <td>5.407232</td>\n",
              "      <td>-5.269808</td>\n",
              "      <td>-3.799606</td>\n",
              "    </tr>\n",
              "    <tr>\n",
              "      <th>YY</th>\n",
              "      <td>-5.269808</td>\n",
              "      <td>3.474432</td>\n",
              "      <td>3.663333</td>\n",
              "    </tr>\n",
              "    <tr>\n",
              "      <th>ZZ</th>\n",
              "      <td>-3.799606</td>\n",
              "      <td>3.663333</td>\n",
              "      <td>4.657171</td>\n",
              "    </tr>\n",
              "  </tbody>\n",
              "</table>\n",
              "</div>"
            ],
            "text/plain": [
              "          XX        YY        ZZ\n",
              "XX  5.407232 -5.269808 -3.799606\n",
              "YY -5.269808  3.474432  3.663333\n",
              "ZZ -3.799606  3.663333  4.657171"
            ]
          },
          "execution_count": 154,
          "metadata": {},
          "output_type": "execute_result"
        }
      ],
      "source": [
        "df.cov()"
      ]
    },
    {
      "cell_type": "code",
      "execution_count": null,
      "metadata": {
        "colab": {
          "base_uri": "https://localhost:8080/",
          "height": 141
        },
        "id": "4s-BhSSi4_No",
        "outputId": "3dd35f0c-7b7c-4cff-a03c-894df3f763de"
      },
      "outputs": [
        {
          "data": {
            "text/html": [
              "<div>\n",
              "<style scoped>\n",
              "    .dataframe tbody tr th:only-of-type {\n",
              "        vertical-align: middle;\n",
              "    }\n",
              "\n",
              "    .dataframe tbody tr th {\n",
              "        vertical-align: top;\n",
              "    }\n",
              "\n",
              "    .dataframe thead th {\n",
              "        text-align: right;\n",
              "    }\n",
              "</style>\n",
              "<table border=\"1\" class=\"dataframe\">\n",
              "  <thead>\n",
              "    <tr style=\"text-align: right;\">\n",
              "      <th></th>\n",
              "      <th>XX</th>\n",
              "      <th>YY</th>\n",
              "      <th>ZZ</th>\n",
              "    </tr>\n",
              "  </thead>\n",
              "  <tbody>\n",
              "    <tr>\n",
              "      <th>XX</th>\n",
              "      <td>1.000000</td>\n",
              "      <td>-0.958849</td>\n",
              "      <td>-0.757164</td>\n",
              "    </tr>\n",
              "    <tr>\n",
              "      <th>YY</th>\n",
              "      <td>-0.958849</td>\n",
              "      <td>1.000000</td>\n",
              "      <td>0.771927</td>\n",
              "    </tr>\n",
              "    <tr>\n",
              "      <th>ZZ</th>\n",
              "      <td>-0.757164</td>\n",
              "      <td>0.771927</td>\n",
              "      <td>1.000000</td>\n",
              "    </tr>\n",
              "  </tbody>\n",
              "</table>\n",
              "</div>"
            ],
            "text/plain": [
              "          XX        YY        ZZ\n",
              "XX  1.000000 -0.958849 -0.757164\n",
              "YY -0.958849  1.000000  0.771927\n",
              "ZZ -0.757164  0.771927  1.000000"
            ]
          },
          "execution_count": 155,
          "metadata": {},
          "output_type": "execute_result"
        }
      ],
      "source": [
        "df.corr()"
      ]
    },
    {
      "cell_type": "code",
      "execution_count": null,
      "metadata": {
        "colab": {
          "base_uri": "https://localhost:8080/"
        },
        "id": "Ge90EP8P688e",
        "outputId": "09fdcb66-1d9d-4b8a-ee29-09a7aa347403"
      },
      "outputs": [
        {
          "data": {
            "text/plain": [
              "XX    1.000000\n",
              "YY   -0.958849\n",
              "ZZ   -0.757164\n",
              "dtype: float64"
            ]
          },
          "execution_count": 156,
          "metadata": {},
          "output_type": "execute_result"
        }
      ],
      "source": [
        "df.corrwith(df.loc[:,'XX'])"
      ]
    },
    {
      "cell_type": "markdown",
      "metadata": {
        "id": "MP_lQrIw7aut"
      },
      "source": [
        "#unique and membership"
      ]
    },
    {
      "cell_type": "code",
      "execution_count": null,
      "metadata": {
        "colab": {
          "base_uri": "https://localhost:8080/"
        },
        "id": "vZSgf50r7dnV",
        "outputId": "6520b65a-c7f1-4346-9f6c-2614c1cc84be"
      },
      "outputs": [
        {
          "data": {
            "text/plain": [
              "0     a\n",
              "1     x\n",
              "2     c\n",
              "3     a\n",
              "4     a\n",
              "5     x\n",
              "6     c\n",
              "7     a\n",
              "8     a\n",
              "9     x\n",
              "10    c\n",
              "11    a\n",
              "dtype: object"
            ]
          },
          "execution_count": 278,
          "metadata": {},
          "output_type": "execute_result"
        }
      ],
      "source": [
        "str1=pd.Series(list('axca')*3)\n",
        "str1"
      ]
    },
    {
      "cell_type": "markdown",
      "metadata": {
        "id": "sSwvB9aYzZ6X"
      },
      "source": [
        "#extract unique values from a series (not on data frame)"
      ]
    },
    {
      "cell_type": "code",
      "execution_count": null,
      "metadata": {
        "colab": {
          "base_uri": "https://localhost:8080/"
        },
        "id": "smHCFRYX7fN9",
        "outputId": "6032648e-462b-4a9e-ec81-ba384e0c7530"
      },
      "outputs": [
        {
          "data": {
            "text/plain": [
              "array(['a', 'x', 'c'], dtype=object)"
            ]
          },
          "execution_count": 279,
          "metadata": {},
          "output_type": "execute_result"
        }
      ],
      "source": [
        "a=str1.unique()\n",
        "a"
      ]
    },
    {
      "cell_type": "code",
      "execution_count": null,
      "metadata": {
        "colab": {
          "base_uri": "https://localhost:8080/"
        },
        "id": "07dru6MA7tCa",
        "outputId": "fe26d705-67d4-4bf5-ac1c-272a79de7864"
      },
      "outputs": [
        {
          "data": {
            "text/plain": [
              "a    6\n",
              "c    3\n",
              "x    3\n",
              "dtype: int64"
            ]
          },
          "execution_count": 280,
          "metadata": {},
          "output_type": "execute_result"
        }
      ],
      "source": [
        "str1.value_counts()"
      ]
    },
    {
      "cell_type": "code",
      "execution_count": null,
      "metadata": {
        "colab": {
          "base_uri": "https://localhost:8080/"
        },
        "id": "rRKG8V4f7xBt",
        "outputId": "8bbe23e9-b345-4e70-efff-d9c46a995769"
      },
      "outputs": [
        {
          "data": {
            "text/plain": [
              "array([6, 8, 8, 8, 5, 8, 6, 6, 8, 8])"
            ]
          },
          "execution_count": 160,
          "metadata": {},
          "output_type": "execute_result"
        }
      ],
      "source": [
        "a1=np.random.randint(5,10,size=10)\n",
        "a1"
      ]
    },
    {
      "cell_type": "code",
      "execution_count": null,
      "metadata": {
        "colab": {
          "base_uri": "https://localhost:8080/"
        },
        "id": "byRvQ4D-8BKo",
        "outputId": "b94feb84-279a-48cf-8edc-163aa46440f4"
      },
      "outputs": [
        {
          "data": {
            "text/plain": [
              "5    1\n",
              "6    3\n",
              "8    6\n",
              "dtype: int64"
            ]
          },
          "execution_count": 161,
          "metadata": {},
          "output_type": "execute_result"
        }
      ],
      "source": [
        "pd.value_counts(a1,sort=False)"
      ]
    },
    {
      "cell_type": "code",
      "execution_count": null,
      "metadata": {
        "colab": {
          "base_uri": "https://localhost:8080/",
          "height": 204
        },
        "id": "2N8l-MCizp0n",
        "outputId": "844cb26c-31f4-461d-e9b5-03c6a35f4388"
      },
      "outputs": [
        {
          "data": {
            "text/html": [
              "<div>\n",
              "<style scoped>\n",
              "    .dataframe tbody tr th:only-of-type {\n",
              "        vertical-align: middle;\n",
              "    }\n",
              "\n",
              "    .dataframe tbody tr th {\n",
              "        vertical-align: top;\n",
              "    }\n",
              "\n",
              "    .dataframe thead th {\n",
              "        text-align: right;\n",
              "    }\n",
              "</style>\n",
              "<table border=\"1\" class=\"dataframe\">\n",
              "  <thead>\n",
              "    <tr style=\"text-align: right;\">\n",
              "      <th></th>\n",
              "      <th>XX</th>\n",
              "      <th>YY</th>\n",
              "      <th>ZZ</th>\n",
              "      <th>WW</th>\n",
              "    </tr>\n",
              "  </thead>\n",
              "  <tbody>\n",
              "    <tr>\n",
              "      <th>a</th>\n",
              "      <td>0.636137</td>\n",
              "      <td>-0.272675</td>\n",
              "      <td>-0.440010</td>\n",
              "      <td>a</td>\n",
              "    </tr>\n",
              "    <tr>\n",
              "      <th>a</th>\n",
              "      <td>1.797088</td>\n",
              "      <td>-5.363503</td>\n",
              "      <td>0.450279</td>\n",
              "      <td>b</td>\n",
              "    </tr>\n",
              "    <tr>\n",
              "      <th>b</th>\n",
              "      <td>2.464888</td>\n",
              "      <td>NaN</td>\n",
              "      <td>-2.508961</td>\n",
              "      <td>c</td>\n",
              "    </tr>\n",
              "    <tr>\n",
              "      <th>b</th>\n",
              "      <td>1.375123</td>\n",
              "      <td>NaN</td>\n",
              "      <td>-0.162705</td>\n",
              "      <td>c</td>\n",
              "    </tr>\n",
              "    <tr>\n",
              "      <th>c</th>\n",
              "      <td>0.617199</td>\n",
              "      <td>-3.981401</td>\n",
              "      <td>-2.044461</td>\n",
              "      <td>e</td>\n",
              "    </tr>\n",
              "  </tbody>\n",
              "</table>\n",
              "</div>"
            ],
            "text/plain": [
              "         XX        YY        ZZ WW\n",
              "a  0.636137 -0.272675 -0.440010  a\n",
              "a  1.797088 -5.363503  0.450279  b\n",
              "b  2.464888       NaN -2.508961  c\n",
              "b  1.375123       NaN -0.162705  c\n",
              "c  0.617199 -3.981401 -2.044461  e"
            ]
          },
          "execution_count": 281,
          "metadata": {},
          "output_type": "execute_result"
        }
      ],
      "source": [
        "df"
      ]
    },
    {
      "cell_type": "code",
      "execution_count": null,
      "metadata": {
        "colab": {
          "base_uri": "https://localhost:8080/",
          "height": 235
        },
        "id": "zqssW_wwzuYc",
        "outputId": "8b3cf511-2209-491a-fb2b-db3224abce9b"
      },
      "outputs": [
        {
          "data": {
            "text/html": [
              "<div>\n",
              "<style scoped>\n",
              "    .dataframe tbody tr th:only-of-type {\n",
              "        vertical-align: middle;\n",
              "    }\n",
              "\n",
              "    .dataframe tbody tr th {\n",
              "        vertical-align: top;\n",
              "    }\n",
              "\n",
              "    .dataframe thead th {\n",
              "        text-align: right;\n",
              "    }\n",
              "</style>\n",
              "<table border=\"1\" class=\"dataframe\">\n",
              "  <thead>\n",
              "    <tr style=\"text-align: right;\">\n",
              "      <th></th>\n",
              "      <th>XX</th>\n",
              "      <th>YY</th>\n",
              "      <th>ZZ</th>\n",
              "      <th>WW</th>\n",
              "    </tr>\n",
              "  </thead>\n",
              "  <tbody>\n",
              "    <tr>\n",
              "      <th>a</th>\n",
              "      <td>0.636137</td>\n",
              "      <td>-0.272675</td>\n",
              "      <td>-0.440010</td>\n",
              "      <td>a</td>\n",
              "    </tr>\n",
              "    <tr>\n",
              "      <th>a</th>\n",
              "      <td>1.797088</td>\n",
              "      <td>-5.363503</td>\n",
              "      <td>0.450279</td>\n",
              "      <td>b</td>\n",
              "    </tr>\n",
              "    <tr>\n",
              "      <th>b</th>\n",
              "      <td>2.464888</td>\n",
              "      <td>NaN</td>\n",
              "      <td>-2.508961</td>\n",
              "      <td>c</td>\n",
              "    </tr>\n",
              "    <tr>\n",
              "      <th>b</th>\n",
              "      <td>1.375123</td>\n",
              "      <td>NaN</td>\n",
              "      <td>-0.162705</td>\n",
              "      <td>c</td>\n",
              "    </tr>\n",
              "    <tr>\n",
              "      <th>c</th>\n",
              "      <td>0.617199</td>\n",
              "      <td>-3.981401</td>\n",
              "      <td>-2.044461</td>\n",
              "      <td>e</td>\n",
              "    </tr>\n",
              "    <tr>\n",
              "      <th>d</th>\n",
              "      <td>2.469835</td>\n",
              "      <td>-2.535221</td>\n",
              "      <td>-2.127972</td>\n",
              "      <td>a</td>\n",
              "    </tr>\n",
              "  </tbody>\n",
              "</table>\n",
              "</div>"
            ],
            "text/plain": [
              "         XX        YY        ZZ WW\n",
              "a  0.636137 -0.272675 -0.440010  a\n",
              "a  1.797088 -5.363503  0.450279  b\n",
              "b  2.464888       NaN -2.508961  c\n",
              "b  1.375123       NaN -0.162705  c\n",
              "c  0.617199 -3.981401 -2.044461  e\n",
              "d  2.469835 -2.535221 -2.127972  a"
            ]
          },
          "execution_count": 282,
          "metadata": {},
          "output_type": "execute_result"
        }
      ],
      "source": [
        "df.loc['d']=[2.469835,\t-2.535221,\t-2.127972,\t'a']\n",
        "df"
      ]
    },
    {
      "cell_type": "markdown",
      "metadata": {
        "id": "JYJxl8H28vab"
      },
      "source": [
        "#membership isin()"
      ]
    },
    {
      "cell_type": "code",
      "execution_count": null,
      "metadata": {
        "id": "eI2JNYWu8xv_"
      },
      "outputs": [],
      "source": [
        "mask=str1.isin(['a','c'])"
      ]
    },
    {
      "cell_type": "code",
      "execution_count": null,
      "metadata": {
        "colab": {
          "base_uri": "https://localhost:8080/"
        },
        "id": "ubZR3dBWO3y_",
        "outputId": "26261d0e-4bdb-4d29-e5fa-dabbb7a594d4"
      },
      "outputs": [
        {
          "data": {
            "text/plain": [
              "0      True\n",
              "1     False\n",
              "2      True\n",
              "3      True\n",
              "4      True\n",
              "5     False\n",
              "6      True\n",
              "7      True\n",
              "8      True\n",
              "9     False\n",
              "10     True\n",
              "11     True\n",
              "dtype: bool"
            ]
          },
          "execution_count": 386,
          "metadata": {},
          "output_type": "execute_result"
        }
      ],
      "source": [
        "mask"
      ]
    },
    {
      "cell_type": "markdown",
      "metadata": {
        "id": "F2ssZYry873-"
      },
      "source": [
        "#benefit of mask: to retrieve selected elements"
      ]
    },
    {
      "cell_type": "code",
      "execution_count": null,
      "metadata": {
        "colab": {
          "base_uri": "https://localhost:8080/"
        },
        "id": "DkQ8zW5a9B38",
        "outputId": "c510780f-a921-4f25-9692-3a4d2d7d49a1"
      },
      "outputs": [
        {
          "data": {
            "text/plain": [
              "0     a\n",
              "2     c\n",
              "3     a\n",
              "4     a\n",
              "6     c\n",
              "7     a\n",
              "8     a\n",
              "10    c\n",
              "11    a\n",
              "dtype: object"
            ]
          },
          "execution_count": 163,
          "metadata": {},
          "output_type": "execute_result"
        }
      ],
      "source": [
        "str1[mask]"
      ]
    },
    {
      "cell_type": "markdown",
      "metadata": {
        "id": "tJH6AaDHO79o"
      },
      "source": [
        "#given are grades obtained by students in three questions"
      ]
    },
    {
      "cell_type": "code",
      "execution_count": null,
      "metadata": {
        "colab": {
          "base_uri": "https://localhost:8080/",
          "height": 204
        },
        "id": "UqFmiWcr-TZa",
        "outputId": "49e6ccb9-bbb9-4a63-bdd5-85b6f42d353c"
      },
      "outputs": [
        {
          "data": {
            "text/html": [
              "<div>\n",
              "<style scoped>\n",
              "    .dataframe tbody tr th:only-of-type {\n",
              "        vertical-align: middle;\n",
              "    }\n",
              "\n",
              "    .dataframe tbody tr th {\n",
              "        vertical-align: top;\n",
              "    }\n",
              "\n",
              "    .dataframe thead th {\n",
              "        text-align: right;\n",
              "    }\n",
              "</style>\n",
              "<table border=\"1\" class=\"dataframe\">\n",
              "  <thead>\n",
              "    <tr style=\"text-align: right;\">\n",
              "      <th></th>\n",
              "      <th>Qu1</th>\n",
              "      <th>Qu2</th>\n",
              "      <th>Qu3</th>\n",
              "    </tr>\n",
              "  </thead>\n",
              "  <tbody>\n",
              "    <tr>\n",
              "      <th>0</th>\n",
              "      <td>A</td>\n",
              "      <td>A</td>\n",
              "      <td>B</td>\n",
              "    </tr>\n",
              "    <tr>\n",
              "      <th>1</th>\n",
              "      <td>B</td>\n",
              "      <td>B</td>\n",
              "      <td>B</td>\n",
              "    </tr>\n",
              "    <tr>\n",
              "      <th>2</th>\n",
              "      <td>B</td>\n",
              "      <td>B</td>\n",
              "      <td>D</td>\n",
              "    </tr>\n",
              "    <tr>\n",
              "      <th>3</th>\n",
              "      <td>C</td>\n",
              "      <td>D</td>\n",
              "      <td>D</td>\n",
              "    </tr>\n",
              "    <tr>\n",
              "      <th>4</th>\n",
              "      <td>D</td>\n",
              "      <td>D</td>\n",
              "      <td>D</td>\n",
              "    </tr>\n",
              "  </tbody>\n",
              "</table>\n",
              "</div>"
            ],
            "text/plain": [
              "  Qu1 Qu2 Qu3\n",
              "0   A   A   B\n",
              "1   B   B   B\n",
              "2   B   B   D\n",
              "3   C   D   D\n",
              "4   D   D   D"
            ]
          },
          "execution_count": 283,
          "metadata": {},
          "output_type": "execute_result"
        }
      ],
      "source": [
        "data = pd.DataFrame({'Qu1': ['A', 'B', 'B', 'C', 'D'],\n",
        "                     'Qu2': ['A', 'B', 'B', 'D', 'D'],\n",
        "                     'Qu3': ['B', 'B', 'D', 'D', 'D']})\n",
        "data"
      ]
    },
    {
      "cell_type": "code",
      "execution_count": null,
      "metadata": {
        "colab": {
          "base_uri": "https://localhost:8080/"
        },
        "id": "I0j9DwYU-5p2",
        "outputId": "806af0b8-e210-4c39-f3e5-893e7b228ef7"
      },
      "outputs": [
        {
          "data": {
            "text/plain": [
              "D    2\n",
              "B    2\n",
              "A    1\n",
              "Name: Qu2, dtype: int64"
            ]
          },
          "execution_count": 284,
          "metadata": {},
          "output_type": "execute_result"
        }
      ],
      "source": [
        "data['Qu2'].value_counts()"
      ]
    },
    {
      "cell_type": "markdown",
      "metadata": {
        "id": "UKF2Tbg5_UGR"
      },
      "source": [
        "#to get  histogram (frequency) of distinct values in each column"
      ]
    },
    {
      "cell_type": "code",
      "execution_count": null,
      "metadata": {
        "colab": {
          "base_uri": "https://localhost:8080/",
          "height": 172
        },
        "id": "7OCs2Au0-hoM",
        "outputId": "f977813c-01c3-4f02-c3fe-a655cb40e0e9"
      },
      "outputs": [
        {
          "data": {
            "text/html": [
              "<div>\n",
              "<style scoped>\n",
              "    .dataframe tbody tr th:only-of-type {\n",
              "        vertical-align: middle;\n",
              "    }\n",
              "\n",
              "    .dataframe tbody tr th {\n",
              "        vertical-align: top;\n",
              "    }\n",
              "\n",
              "    .dataframe thead th {\n",
              "        text-align: right;\n",
              "    }\n",
              "</style>\n",
              "<table border=\"1\" class=\"dataframe\">\n",
              "  <thead>\n",
              "    <tr style=\"text-align: right;\">\n",
              "      <th></th>\n",
              "      <th>Qu1</th>\n",
              "      <th>Qu2</th>\n",
              "      <th>Qu3</th>\n",
              "    </tr>\n",
              "  </thead>\n",
              "  <tbody>\n",
              "    <tr>\n",
              "      <th>A</th>\n",
              "      <td>1</td>\n",
              "      <td>1.0</td>\n",
              "      <td>0.0</td>\n",
              "    </tr>\n",
              "    <tr>\n",
              "      <th>B</th>\n",
              "      <td>2</td>\n",
              "      <td>2.0</td>\n",
              "      <td>2.0</td>\n",
              "    </tr>\n",
              "    <tr>\n",
              "      <th>C</th>\n",
              "      <td>1</td>\n",
              "      <td>0.0</td>\n",
              "      <td>0.0</td>\n",
              "    </tr>\n",
              "    <tr>\n",
              "      <th>D</th>\n",
              "      <td>1</td>\n",
              "      <td>2.0</td>\n",
              "      <td>3.0</td>\n",
              "    </tr>\n",
              "  </tbody>\n",
              "</table>\n",
              "</div>"
            ],
            "text/plain": [
              "   Qu1  Qu2  Qu3\n",
              "A    1  1.0  0.0\n",
              "B    2  2.0  2.0\n",
              "C    1  0.0  0.0\n",
              "D    1  2.0  3.0"
            ]
          },
          "execution_count": 285,
          "metadata": {},
          "output_type": "execute_result"
        }
      ],
      "source": [
        "result = data.apply(pd.value_counts).fillna(0)\n",
        "result"
      ]
    },
    {
      "cell_type": "markdown",
      "metadata": {
        "id": "abmrCxk9_l3W"
      },
      "source": [
        "#matching indexed in two data series: to get index value of content in passed series with that of matched series , useful in joining two series or for alignment"
      ]
    },
    {
      "cell_type": "code",
      "execution_count": null,
      "metadata": {
        "colab": {
          "base_uri": "https://localhost:8080/"
        },
        "id": "k2-rZE0e_sLK",
        "outputId": "4ab17757-2459-4b06-b6d4-032ec6ff7b80"
      },
      "outputs": [
        {
          "data": {
            "text/plain": [
              "array([0, 2, 1, 1, 0, 2])"
            ]
          },
          "execution_count": 390,
          "metadata": {},
          "output_type": "execute_result"
        }
      ],
      "source": [
        "to_match = pd.Series(['c', 'a', 'b', 'b', 'c', 'a'])\n",
        "unique_vals = pd.Series(['c', 'b', 'a'])\n",
        "pd.Index(unique_vals).get_indexer(to_match)"
      ]
    },
    {
      "cell_type": "code",
      "execution_count": null,
      "metadata": {
        "colab": {
          "base_uri": "https://localhost:8080/"
        },
        "id": "T93WgIjQSpgo",
        "outputId": "49c72f88-9cd2-4f4a-cb68-8a01a1469ea4"
      },
      "outputs": [
        {
          "data": {
            "text/plain": [
              "Index(['a', 'e', 'c', 'g', 'g1'], dtype='object')"
            ]
          },
          "execution_count": 288,
          "metadata": {},
          "output_type": "execute_result"
        }
      ],
      "source": [
        "frame.index"
      ]
    },
    {
      "cell_type": "code",
      "execution_count": null,
      "metadata": {
        "colab": {
          "base_uri": "https://localhost:8080/"
        },
        "id": "-Rsx1C4uStTj",
        "outputId": "d8933d7d-744d-49b6-97ec-847e553b85cb"
      },
      "outputs": [
        {
          "data": {
            "text/plain": [
              "array([False, False, False, False, False])"
            ]
          },
          "execution_count": 287,
          "metadata": {},
          "output_type": "execute_result"
        }
      ],
      "source": [
        "I=frame.index.duplicated()\n",
        "I"
      ]
    },
    {
      "cell_type": "markdown",
      "metadata": {
        "id": "UAbWN1bgPPE3"
      },
      "source": [
        "#problem to do:  Generate a data frame with 4 columns and 10 rows. One column is 'Name' of type string and others are named as user-specified and are of Numeric type. Remove duplicate rows. Find correlation between all pairs of attributes which are numeric.\n",
        "Create a new data frame having name column along with coulmn having correlation >0.5 with rest of columns"
      ]
    },
    {
      "cell_type": "code",
      "execution_count": null,
      "metadata": {
        "id": "syhIKKqcM8kw"
      },
      "outputs": [],
      "source": [
        "A B C\n",
        "AA  AB AC\n",
        "BA  BB  BC\n",
        "CA   CB  CC    \n",
        "AB 0.6\n",
        "AC  0.7\n",
        "BC 0.4\n",
        "  \n",
        "  AC +BC =.55  C >0.55"
      ]
    }
  ],
  "metadata": {
    "colab": {
      "name": "dataframe2.ipynb",
      "provenance": []
    },
    "kernelspec": {
      "display_name": "Python 3.9.13 64-bit",
      "language": "python",
      "name": "python3"
    },
    "language_info": {
      "codemirror_mode": {
        "name": "ipython",
        "version": 3
      },
      "file_extension": ".py",
      "mimetype": "text/x-python",
      "name": "python",
      "nbconvert_exporter": "python",
      "pygments_lexer": "ipython3",
      "version": "3.9.13"
    },
    "vscode": {
      "interpreter": {
        "hash": "1cab0ba58926470a5a9ebf47b9a6bd95521f8f13bc9986a801c458fcdbbdf03a"
      }
    }
  },
  "nbformat": 4,
  "nbformat_minor": 0
}
