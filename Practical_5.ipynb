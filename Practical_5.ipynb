{
 "cells": [
  {
   "cell_type": "code",
   "execution_count": 1,
   "metadata": {},
   "outputs": [],
   "source": [
    "import pandas as pd \n",
    "import numpy as np\n",
    "import matplotlib.pyplot as plt"
   ]
  },
  {
   "cell_type": "markdown",
   "metadata": {},
   "source": [
    "# Q1 \n",
    "##### Consider the following data frame containing a family name, gender of the family member and her/his monthly income in each record. Name Gender MonthlyIncome (Rs.) Shah Male 114000.00 ..................................\n",
    "##### Write a program in Python using Pandas to perform the following:"
   ]
  },
  {
   "cell_type": "code",
   "execution_count": 53,
   "metadata": {},
   "outputs": [
    {
     "data": {
      "text/html": [
       "<div>\n",
       "<style scoped>\n",
       "    .dataframe tbody tr th:only-of-type {\n",
       "        vertical-align: middle;\n",
       "    }\n",
       "\n",
       "    .dataframe tbody tr th {\n",
       "        vertical-align: top;\n",
       "    }\n",
       "\n",
       "    .dataframe thead th {\n",
       "        text-align: right;\n",
       "    }\n",
       "</style>\n",
       "<table border=\"1\" class=\"dataframe\">\n",
       "  <thead>\n",
       "    <tr style=\"text-align: right;\">\n",
       "      <th></th>\n",
       "      <th>Name</th>\n",
       "      <th>Gender</th>\n",
       "      <th>MonthlyIncome(Rs.)</th>\n",
       "    </tr>\n",
       "  </thead>\n",
       "  <tbody>\n",
       "    <tr>\n",
       "      <th>0</th>\n",
       "      <td>Shah</td>\n",
       "      <td>Male</td>\n",
       "      <td>114000</td>\n",
       "    </tr>\n",
       "    <tr>\n",
       "      <th>1</th>\n",
       "      <td>Vats</td>\n",
       "      <td>Male</td>\n",
       "      <td>65000</td>\n",
       "    </tr>\n",
       "    <tr>\n",
       "      <th>2</th>\n",
       "      <td>Vats</td>\n",
       "      <td>Female</td>\n",
       "      <td>43150</td>\n",
       "    </tr>\n",
       "    <tr>\n",
       "      <th>3</th>\n",
       "      <td>Kumar</td>\n",
       "      <td>Female</td>\n",
       "      <td>69500</td>\n",
       "    </tr>\n",
       "    <tr>\n",
       "      <th>4</th>\n",
       "      <td>Vats</td>\n",
       "      <td>Female</td>\n",
       "      <td>155000</td>\n",
       "    </tr>\n",
       "    <tr>\n",
       "      <th>5</th>\n",
       "      <td>Kumar</td>\n",
       "      <td>Male</td>\n",
       "      <td>103000</td>\n",
       "    </tr>\n",
       "    <tr>\n",
       "      <th>6</th>\n",
       "      <td>Shah</td>\n",
       "      <td>Male</td>\n",
       "      <td>55000</td>\n",
       "    </tr>\n",
       "    <tr>\n",
       "      <th>7</th>\n",
       "      <td>Shah</td>\n",
       "      <td>Female</td>\n",
       "      <td>112400</td>\n",
       "    </tr>\n",
       "    <tr>\n",
       "      <th>8</th>\n",
       "      <td>Kumar</td>\n",
       "      <td>Female</td>\n",
       "      <td>81030</td>\n",
       "    </tr>\n",
       "    <tr>\n",
       "      <th>9</th>\n",
       "      <td>Vats</td>\n",
       "      <td>Male</td>\n",
       "      <td>71900</td>\n",
       "    </tr>\n",
       "  </tbody>\n",
       "</table>\n",
       "</div>"
      ],
      "text/plain": [
       "    Name  Gender  MonthlyIncome(Rs.)\n",
       "0   Shah    Male              114000\n",
       "1   Vats    Male               65000\n",
       "2   Vats  Female               43150\n",
       "3  Kumar  Female               69500\n",
       "4   Vats  Female              155000\n",
       "5  Kumar    Male              103000\n",
       "6   Shah    Male               55000\n",
       "7   Shah  Female              112400\n",
       "8  Kumar  Female               81030\n",
       "9   Vats    Male               71900"
      ]
     },
     "execution_count": 53,
     "metadata": {},
     "output_type": "execute_result"
    }
   ],
   "source": [
    "# dataframe creation\n",
    "df = pd.DataFrame({ 'Name': ['Shah','Vats','Vats','Kumar','Vats','Kumar','Shah','Shah','Kumar','Vats'],\n",
    "'Gender':['Male','Male','Female','Female','Female','Male','Male','Female','Female','Male'],\n",
    "'MonthlyIncome(Rs.)':[114000,65000,43150,69500,155000,103000,55000,112400,81030,71900]})\n",
    "\n",
    "df"
   ]
  },
  {
   "cell_type": "markdown",
   "metadata": {},
   "source": [
    "#### (A) Calculate and display familywise (on family name) gross monthly income.\n"
   ]
  },
  {
   "cell_type": "code",
   "execution_count": 54,
   "metadata": {},
   "outputs": [
    {
     "name": "stdout",
     "output_type": "stream",
     "text": [
      "Family wise gross monthly inome :: \n"
     ]
    },
    {
     "data": {
      "text/plain": [
       "Name\n",
       "Kumar    253530\n",
       "Shah     281400\n",
       "Vats     335050\n",
       "Name: MonthlyIncome(Rs.), dtype: int64"
      ]
     },
     "execution_count": 54,
     "metadata": {},
     "output_type": "execute_result"
    }
   ],
   "source": [
    "''' \n",
    "(A)\n",
    "''' \n",
    "print('Family wise gross monthly inome :: ')\n",
    "df.groupby('Name').sum()['MonthlyIncome(Rs.)']"
   ]
  },
  {
   "cell_type": "markdown",
   "metadata": {},
   "source": [
    "#### (B) Calculate and display the member with the highest monthly income in a family."
   ]
  },
  {
   "cell_type": "code",
   "execution_count": 55,
   "metadata": {},
   "outputs": [
    {
     "name": "stdout",
     "output_type": "stream",
     "text": [
      "Member with the highest monthly income in a family :: \n"
     ]
    },
    {
     "data": {
      "text/html": [
       "<div>\n",
       "<style scoped>\n",
       "    .dataframe tbody tr th:only-of-type {\n",
       "        vertical-align: middle;\n",
       "    }\n",
       "\n",
       "    .dataframe tbody tr th {\n",
       "        vertical-align: top;\n",
       "    }\n",
       "\n",
       "    .dataframe thead th {\n",
       "        text-align: right;\n",
       "    }\n",
       "</style>\n",
       "<table border=\"1\" class=\"dataframe\">\n",
       "  <thead>\n",
       "    <tr style=\"text-align: right;\">\n",
       "      <th></th>\n",
       "      <th>Gender</th>\n",
       "      <th>MonthlyIncome(Rs.)</th>\n",
       "    </tr>\n",
       "    <tr>\n",
       "      <th>Name</th>\n",
       "      <th></th>\n",
       "      <th></th>\n",
       "    </tr>\n",
       "  </thead>\n",
       "  <tbody>\n",
       "    <tr>\n",
       "      <th>Kumar</th>\n",
       "      <td>Male</td>\n",
       "      <td>103000</td>\n",
       "    </tr>\n",
       "    <tr>\n",
       "      <th>Shah</th>\n",
       "      <td>Male</td>\n",
       "      <td>114000</td>\n",
       "    </tr>\n",
       "    <tr>\n",
       "      <th>Vats</th>\n",
       "      <td>Male</td>\n",
       "      <td>155000</td>\n",
       "    </tr>\n",
       "  </tbody>\n",
       "</table>\n",
       "</div>"
      ],
      "text/plain": [
       "      Gender  MonthlyIncome(Rs.)\n",
       "Name                            \n",
       "Kumar   Male              103000\n",
       "Shah    Male              114000\n",
       "Vats    Male              155000"
      ]
     },
     "execution_count": 55,
     "metadata": {},
     "output_type": "execute_result"
    }
   ],
   "source": [
    "''' \n",
    "(B)\n",
    "''' \n",
    "print('Member with the highest monthly income in a family :: ')\n",
    "df.groupby('Name').max().sort_values(by='MonthlyIncome(Rs.)')"
   ]
  },
  {
   "cell_type": "markdown",
   "metadata": {},
   "source": [
    "#### (C) Calculate and display monthly income of all members with income greater than Rs.60000.00"
   ]
  },
  {
   "cell_type": "code",
   "execution_count": 56,
   "metadata": {},
   "outputs": [
    {
     "name": "stdout",
     "output_type": "stream",
     "text": [
      "Members with monthly income greater than Rs60000.00 :: \n"
     ]
    },
    {
     "data": {
      "text/html": [
       "<div>\n",
       "<style scoped>\n",
       "    .dataframe tbody tr th:only-of-type {\n",
       "        vertical-align: middle;\n",
       "    }\n",
       "\n",
       "    .dataframe tbody tr th {\n",
       "        vertical-align: top;\n",
       "    }\n",
       "\n",
       "    .dataframe thead th {\n",
       "        text-align: right;\n",
       "    }\n",
       "</style>\n",
       "<table border=\"1\" class=\"dataframe\">\n",
       "  <thead>\n",
       "    <tr style=\"text-align: right;\">\n",
       "      <th></th>\n",
       "      <th>Name</th>\n",
       "      <th>Gender</th>\n",
       "      <th>MonthlyIncome(Rs.)</th>\n",
       "    </tr>\n",
       "  </thead>\n",
       "  <tbody>\n",
       "    <tr>\n",
       "      <th>0</th>\n",
       "      <td>Shah</td>\n",
       "      <td>Male</td>\n",
       "      <td>114000</td>\n",
       "    </tr>\n",
       "    <tr>\n",
       "      <th>1</th>\n",
       "      <td>Vats</td>\n",
       "      <td>Male</td>\n",
       "      <td>65000</td>\n",
       "    </tr>\n",
       "    <tr>\n",
       "      <th>3</th>\n",
       "      <td>Kumar</td>\n",
       "      <td>Female</td>\n",
       "      <td>69500</td>\n",
       "    </tr>\n",
       "    <tr>\n",
       "      <th>4</th>\n",
       "      <td>Vats</td>\n",
       "      <td>Female</td>\n",
       "      <td>155000</td>\n",
       "    </tr>\n",
       "    <tr>\n",
       "      <th>5</th>\n",
       "      <td>Kumar</td>\n",
       "      <td>Male</td>\n",
       "      <td>103000</td>\n",
       "    </tr>\n",
       "    <tr>\n",
       "      <th>7</th>\n",
       "      <td>Shah</td>\n",
       "      <td>Female</td>\n",
       "      <td>112400</td>\n",
       "    </tr>\n",
       "    <tr>\n",
       "      <th>8</th>\n",
       "      <td>Kumar</td>\n",
       "      <td>Female</td>\n",
       "      <td>81030</td>\n",
       "    </tr>\n",
       "    <tr>\n",
       "      <th>9</th>\n",
       "      <td>Vats</td>\n",
       "      <td>Male</td>\n",
       "      <td>71900</td>\n",
       "    </tr>\n",
       "  </tbody>\n",
       "</table>\n",
       "</div>"
      ],
      "text/plain": [
       "    Name  Gender  MonthlyIncome(Rs.)\n",
       "0   Shah    Male              114000\n",
       "1   Vats    Male               65000\n",
       "3  Kumar  Female               69500\n",
       "4   Vats  Female              155000\n",
       "5  Kumar    Male              103000\n",
       "7   Shah  Female              112400\n",
       "8  Kumar  Female               81030\n",
       "9   Vats    Male               71900"
      ]
     },
     "execution_count": 56,
     "metadata": {},
     "output_type": "execute_result"
    }
   ],
   "source": [
    "''' \n",
    "(C)\n",
    "''' \n",
    "print('Members with monthly income greater than Rs60000.00 :: ')\n",
    "df[df['MonthlyIncome(Rs.)'] > 60000]"
   ]
  },
  {
   "cell_type": "markdown",
   "metadata": {},
   "source": [
    "#### (D) Calculate and display the average monthly income of the female members in the Shah family."
   ]
  },
  {
   "cell_type": "code",
   "execution_count": 57,
   "metadata": {},
   "outputs": [
    {
     "name": "stdout",
     "output_type": "stream",
     "text": [
      "Average monthly income of the female members in the Shah family ::  112400.0 rupees\n"
     ]
    }
   ],
   "source": [
    "''' \n",
    "(D)\n",
    "''' \n",
    "\n",
    "salary = df[(df['Name']=='Shah') & (df['Gender']=='Female')]['MonthlyIncome(Rs.)'].mean()\n",
    "print('Average monthly income of the female members in the Shah family :: ',salary,'rupees')"
   ]
  },
  {
   "cell_type": "markdown",
   "metadata": {},
   "source": [
    "#### (E) Find the family name in which females average income is maximum"
   ]
  },
  {
   "cell_type": "code",
   "execution_count": 58,
   "metadata": {},
   "outputs": [
    {
     "name": "stdout",
     "output_type": "stream",
     "text": [
      "Family name in which females average income is maximum :: \n"
     ]
    },
    {
     "data": {
      "text/plain": [
       "Name                      Vats\n",
       "Gender                  Female\n",
       "MonthlyIncome(Rs.)    112400.0\n",
       "dtype: object"
      ]
     },
     "execution_count": 58,
     "metadata": {},
     "output_type": "execute_result"
    }
   ],
   "source": [
    "''' \n",
    "(E)\n",
    "''' \n",
    "\n",
    "print('Family name in which females average income is maximum :: ')\n",
    "tmp_df = df.groupby(['Name','Gender'],as_index=False).mean()    #group on Name and Gender   \n",
    "tmp_df[tmp_df['Gender'] == 'Female'].max()      #extract mean of females salary from each family and\n",
    "                                                #then family name in which females mean salary is maximum"
   ]
  },
  {
   "cell_type": "markdown",
   "metadata": {},
   "source": [
    "#### (F) Compare member count and average income for each family using appropriate plot"
   ]
  },
  {
   "cell_type": "code",
   "execution_count": 52,
   "metadata": {},
   "outputs": [
    {
     "data": {
      "text/html": [
       "<div>\n",
       "<style scoped>\n",
       "    .dataframe tbody tr th:only-of-type {\n",
       "        vertical-align: middle;\n",
       "    }\n",
       "\n",
       "    .dataframe tbody tr th {\n",
       "        vertical-align: top;\n",
       "    }\n",
       "\n",
       "    .dataframe thead th {\n",
       "        text-align: right;\n",
       "    }\n",
       "</style>\n",
       "<table border=\"1\" class=\"dataframe\">\n",
       "  <thead>\n",
       "    <tr style=\"text-align: right;\">\n",
       "      <th>Name</th>\n",
       "      <th>Kumar</th>\n",
       "      <th>Shah</th>\n",
       "      <th>Vats</th>\n",
       "    </tr>\n",
       "  </thead>\n",
       "  <tbody>\n",
       "    <tr>\n",
       "      <th>NumOfMembers</th>\n",
       "      <td>3.0</td>\n",
       "      <td>3.0</td>\n",
       "      <td>4.0</td>\n",
       "    </tr>\n",
       "    <tr>\n",
       "      <th>AVG Income</th>\n",
       "      <td>84510.0</td>\n",
       "      <td>93800.0</td>\n",
       "      <td>83762.5</td>\n",
       "    </tr>\n",
       "  </tbody>\n",
       "</table>\n",
       "</div>"
      ],
      "text/plain": [
       "Name            Kumar     Shah     Vats\n",
       "NumOfMembers      3.0      3.0      4.0\n",
       "AVG Income    84510.0  93800.0  83762.5"
      ]
     },
     "metadata": {},
     "output_type": "display_data"
    },
    {
     "name": "stdout",
     "output_type": "stream",
     "text": [
      "NORMALIZED DATA :: \n"
     ]
    },
    {
     "data": {
      "text/html": [
       "<div>\n",
       "<style scoped>\n",
       "    .dataframe tbody tr th:only-of-type {\n",
       "        vertical-align: middle;\n",
       "    }\n",
       "\n",
       "    .dataframe tbody tr th {\n",
       "        vertical-align: top;\n",
       "    }\n",
       "\n",
       "    .dataframe thead th {\n",
       "        text-align: right;\n",
       "    }\n",
       "</style>\n",
       "<table border=\"1\" class=\"dataframe\">\n",
       "  <thead>\n",
       "    <tr style=\"text-align: right;\">\n",
       "      <th>Name</th>\n",
       "      <th>Kumar</th>\n",
       "      <th>Shah</th>\n",
       "      <th>Vats</th>\n",
       "    </tr>\n",
       "  </thead>\n",
       "  <tbody>\n",
       "    <tr>\n",
       "      <th>NumOfMembers</th>\n",
       "      <td>0.300000</td>\n",
       "      <td>0.300000</td>\n",
       "      <td>0.400000</td>\n",
       "    </tr>\n",
       "    <tr>\n",
       "      <th>AVG Income</th>\n",
       "      <td>0.322468</td>\n",
       "      <td>0.357916</td>\n",
       "      <td>0.319616</td>\n",
       "    </tr>\n",
       "  </tbody>\n",
       "</table>\n",
       "</div>"
      ],
      "text/plain": [
       "Name             Kumar      Shah      Vats\n",
       "NumOfMembers  0.300000  0.300000  0.400000\n",
       "AVG Income    0.322468  0.357916  0.319616"
      ]
     },
     "metadata": {},
     "output_type": "display_data"
    },
    {
     "data": {
      "text/plain": [
       "<AxesSubplot: xlabel='Family_Name', ylabel='Number'>"
      ]
     },
     "execution_count": 52,
     "metadata": {},
     "output_type": "execute_result"
    },
    {
     "data": {
      "image/png": "[encoded data removed]",
      "text/plain": [
       "<Figure size 640x480 with 1 Axes>"
      ]
     },
     "metadata": {},
     "output_type": "display_data"
    }
   ],
   "source": [
    "''' \n",
    "(F)\n",
    "''' \n",
    "# calculate member count and average income for each family\n",
    "tmp_df = df.drop('Gender',axis=1).groupby('Name').agg([('NumOfMembers','count'),('AVG Income','mean')]).droplevel(0,axis='columns')\n",
    "tmp_df = tmp_df.T   #transpose data so that data of all families can be plotted together\n",
    "display(tmp_df)\n",
    "# normalize data so that each row sums to 1 \n",
    "tmp_df = tmp_df.div(tmp_df.sum(1),axis=0)\n",
    "print('NORMALIZED DATA :: ')\n",
    "display(tmp_df)\n",
    "tmp_df.plot(kind = 'bar',xlabel='Family_Name',ylabel='Number')"
   ]
  },
  {
   "cell_type": "markdown",
   "metadata": {},
   "source": [
    "#### (G) Draw a pie chart for each family to show their income distribution gender wise"
   ]
  },
  {
   "cell_type": "code",
   "execution_count": 59,
   "metadata": {},
   "outputs": [
    {
     "data": {
      "text/html": [
       "<div>\n",
       "<style scoped>\n",
       "    .dataframe tbody tr th:only-of-type {\n",
       "        vertical-align: middle;\n",
       "    }\n",
       "\n",
       "    .dataframe tbody tr th {\n",
       "        vertical-align: top;\n",
       "    }\n",
       "\n",
       "    .dataframe thead th {\n",
       "        text-align: right;\n",
       "    }\n",
       "</style>\n",
       "<table border=\"1\" class=\"dataframe\">\n",
       "  <thead>\n",
       "    <tr style=\"text-align: right;\">\n",
       "      <th></th>\n",
       "      <th>Name</th>\n",
       "      <th>Gender</th>\n",
       "      <th>MonthlyIncome(Rs.)</th>\n",
       "    </tr>\n",
       "  </thead>\n",
       "  <tbody>\n",
       "    <tr>\n",
       "      <th>0</th>\n",
       "      <td>Kumar</td>\n",
       "      <td>Female</td>\n",
       "      <td>150530</td>\n",
       "    </tr>\n",
       "    <tr>\n",
       "      <th>1</th>\n",
       "      <td>Kumar</td>\n",
       "      <td>Male</td>\n",
       "      <td>103000</td>\n",
       "    </tr>\n",
       "    <tr>\n",
       "      <th>2</th>\n",
       "      <td>Shah</td>\n",
       "      <td>Female</td>\n",
       "      <td>112400</td>\n",
       "    </tr>\n",
       "    <tr>\n",
       "      <th>3</th>\n",
       "      <td>Shah</td>\n",
       "      <td>Male</td>\n",
       "      <td>169000</td>\n",
       "    </tr>\n",
       "    <tr>\n",
       "      <th>4</th>\n",
       "      <td>Vats</td>\n",
       "      <td>Female</td>\n",
       "      <td>198150</td>\n",
       "    </tr>\n",
       "    <tr>\n",
       "      <th>5</th>\n",
       "      <td>Vats</td>\n",
       "      <td>Male</td>\n",
       "      <td>136900</td>\n",
       "    </tr>\n",
       "  </tbody>\n",
       "</table>\n",
       "</div>"
      ],
      "text/plain": [
       "    Name  Gender  MonthlyIncome(Rs.)\n",
       "0  Kumar  Female              150530\n",
       "1  Kumar    Male              103000\n",
       "2   Shah  Female              112400\n",
       "3   Shah    Male              169000\n",
       "4   Vats  Female              198150\n",
       "5   Vats    Male              136900"
      ]
     },
     "metadata": {},
     "output_type": "display_data"
    },
    {
     "data": {
      "image/png": "[encoded data removed]",
      "text/plain": [
       "<Figure size 640x480 with 1 Axes>"
      ]
     },
     "metadata": {},
     "output_type": "display_data"
    },
    {
     "data": {
      "image/png": "[encoded data removed]",
      "text/plain": [
       "<Figure size 640x480 with 1 Axes>"
      ]
     },
     "metadata": {},
     "output_type": "display_data"
    },
    {
     "data": {
      "image/png": "[encoded data removed]",
      "text/plain": [
       "<Figure size 640x480 with 1 Axes>"
      ]
     },
     "metadata": {},
     "output_type": "display_data"
    }
   ],
   "source": [
    "''' \n",
    "(G)\n",
    "'''\n",
    "\n",
    "tmp_df = df.groupby(['Name','Gender'],as_index=False).sum()\n",
    "display(tmp_df)\n",
    "\n",
    "tmp_df = tmp_df.groupby('Name')\n",
    "for key,data in tmp_df:\n",
    "    new_df = data.drop('Name',axis=1).set_index('Gender') #drop Name column and set Gender col as index\n",
    "    #creating a series containing income of male and female member\n",
    "    tmp_series = pd.Series(new_df.values.flatten(),index=new_df.index)\n",
    "    #plotting pie chart\n",
    "    fig = plt.figure()\n",
    "    plt.pie(tmp_series,labels=tmp_series.index)\n",
    "    plt.title('Income Distribution Of : '+key+' Family')\n",
    "    "
   ]
  },
  {
   "cell_type": "markdown",
   "metadata": {},
   "source": [
    "# Q2\n",
    "### Use tips data to do the following: see appropriate parameters for figs/plots."
   ]
  },
  {
   "cell_type": "code",
   "execution_count": 61,
   "metadata": {},
   "outputs": [
    {
     "data": {
      "text/html": [
       "<div>\n",
       "<style scoped>\n",
       "    .dataframe tbody tr th:only-of-type {\n",
       "        vertical-align: middle;\n",
       "    }\n",
       "\n",
       "    .dataframe tbody tr th {\n",
       "        vertical-align: top;\n",
       "    }\n",
       "\n",
       "    .dataframe thead th {\n",
       "        text-align: right;\n",
       "    }\n",
       "</style>\n",
       "<table border=\"1\" class=\"dataframe\">\n",
       "  <thead>\n",
       "    <tr style=\"text-align: right;\">\n",
       "      <th></th>\n",
       "      <th>total_bill</th>\n",
       "      <th>tip</th>\n",
       "      <th>sex</th>\n",
       "      <th>smoker</th>\n",
       "      <th>day</th>\n",
       "      <th>time</th>\n",
       "      <th>size</th>\n",
       "    </tr>\n",
       "  </thead>\n",
       "  <tbody>\n",
       "    <tr>\n",
       "      <th>0</th>\n",
       "      <td>16.99</td>\n",
       "      <td>1.01</td>\n",
       "      <td>Female</td>\n",
       "      <td>No</td>\n",
       "      <td>Sun</td>\n",
       "      <td>Dinner</td>\n",
       "      <td>2</td>\n",
       "    </tr>\n",
       "    <tr>\n",
       "      <th>1</th>\n",
       "      <td>10.34</td>\n",
       "      <td>1.66</td>\n",
       "      <td>Male</td>\n",
       "      <td>No</td>\n",
       "      <td>Sun</td>\n",
       "      <td>Dinner</td>\n",
       "      <td>3</td>\n",
       "    </tr>\n",
       "    <tr>\n",
       "      <th>2</th>\n",
       "      <td>21.01</td>\n",
       "      <td>3.50</td>\n",
       "      <td>Male</td>\n",
       "      <td>No</td>\n",
       "      <td>Sun</td>\n",
       "      <td>Dinner</td>\n",
       "      <td>3</td>\n",
       "    </tr>\n",
       "    <tr>\n",
       "      <th>3</th>\n",
       "      <td>23.68</td>\n",
       "      <td>3.31</td>\n",
       "      <td>Male</td>\n",
       "      <td>No</td>\n",
       "      <td>Sun</td>\n",
       "      <td>Dinner</td>\n",
       "      <td>2</td>\n",
       "    </tr>\n",
       "    <tr>\n",
       "      <th>4</th>\n",
       "      <td>24.59</td>\n",
       "      <td>3.61</td>\n",
       "      <td>Female</td>\n",
       "      <td>No</td>\n",
       "      <td>Sun</td>\n",
       "      <td>Dinner</td>\n",
       "      <td>4</td>\n",
       "    </tr>\n",
       "  </tbody>\n",
       "</table>\n",
       "</div>"
      ],
      "text/plain": [
       "   total_bill   tip     sex smoker  day    time  size\n",
       "0       16.99  1.01  Female     No  Sun  Dinner     2\n",
       "1       10.34  1.66    Male     No  Sun  Dinner     3\n",
       "2       21.01  3.50    Male     No  Sun  Dinner     3\n",
       "3       23.68  3.31    Male     No  Sun  Dinner     2\n",
       "4       24.59  3.61  Female     No  Sun  Dinner     4"
      ]
     },
     "execution_count": 61,
     "metadata": {},
     "output_type": "execute_result"
    }
   ],
   "source": [
    "import seaborn as sns\n",
    "\n",
    "# importing tips dataframe\n",
    "df = sns.load_dataset('tips')\n",
    "df.head()"
   ]
  },
  {
   "cell_type": "markdown",
   "metadata": {},
   "source": [
    "#### (A) Compare average tips paid by smoker and non-smokers on weekdays and weekends individually using bar plot"
   ]
  },
  {
   "cell_type": "code",
   "execution_count": 62,
   "metadata": {},
   "outputs": [
    {
     "data": {
      "text/html": [
       "<div>\n",
       "<style scoped>\n",
       "    .dataframe tbody tr th:only-of-type {\n",
       "        vertical-align: middle;\n",
       "    }\n",
       "\n",
       "    .dataframe tbody tr th {\n",
       "        vertical-align: top;\n",
       "    }\n",
       "\n",
       "    .dataframe thead th {\n",
       "        text-align: right;\n",
       "    }\n",
       "</style>\n",
       "<table border=\"1\" class=\"dataframe\">\n",
       "  <thead>\n",
       "    <tr style=\"text-align: right;\">\n",
       "      <th></th>\n",
       "      <th>Smoker</th>\n",
       "      <th>Non_Smoker</th>\n",
       "    </tr>\n",
       "  </thead>\n",
       "  <tbody>\n",
       "    <tr>\n",
       "      <th>tip_weekdays</th>\n",
       "      <td>2.881875</td>\n",
       "      <td>2.685102</td>\n",
       "    </tr>\n",
       "    <tr>\n",
       "      <th>tip_weekends</th>\n",
       "      <td>3.075246</td>\n",
       "      <td>3.139216</td>\n",
       "    </tr>\n",
       "  </tbody>\n",
       "</table>\n",
       "</div>"
      ],
      "text/plain": [
       "                Smoker  Non_Smoker\n",
       "tip_weekdays  2.881875    2.685102\n",
       "tip_weekends  3.075246    3.139216"
      ]
     },
     "metadata": {},
     "output_type": "display_data"
    },
    {
     "data": {
      "text/plain": [
       "Text(0.5, 1.0, 'Average tips paid by smoker and non-smokers on weekdays and weekends')"
      ]
     },
     "execution_count": 62,
     "metadata": {},
     "output_type": "execute_result"
    },
    {
     "data": {
      "image/png": "[encoded data removed]",
      "text/plain": [
       "<Figure size 800x500 with 1 Axes>"
      ]
     },
     "metadata": {},
     "output_type": "display_data"
    }
   ],
   "source": [
    "''' \n",
    "(A)\n",
    "''' \n",
    "\n",
    "#average tips paid on weekdays\n",
    "tmp_df = df[(df['day'] != 'Sat') & (df['day'] != 'Sun')].groupby('smoker')\n",
    "tmp_df1 = tmp_df.mean()\n",
    "\n",
    "#average tips paid on weekends\n",
    "tmp_df2 = df[(df['day'] == 'Sat') | (df['day'] == 'Sun')].groupby('smoker')\n",
    "tmp_df2 = tmp_df2.mean()\n",
    "\n",
    "# merge both the dataframes on the basis of indices\n",
    "tmp_df = tmp_df1.merge(tmp_df2,left_index=True,right_index=True,suffixes=['_weekdays','_weekends'])\n",
    "tmp_df = tmp_df[['tip_weekdays','tip_weekends']]   #extract tips columns\n",
    "tmp_df.index = ['Smoker','Non_Smoker']   #change index labels \n",
    "display(tmp_df.T)\n",
    "\n",
    "# bar plot\n",
    "tmp_df.T.plot(kind = 'bar',xlabel = 'Day',ylabel = 'Average Tip Amount given',figsize=(8,5))\n",
    "plt.title('Average tips paid by smoker and non-smokers on weekdays and weekends')"
   ]
  },
  {
   "cell_type": "markdown",
   "metadata": {},
   "source": [
    "#### (B) compare the distribution of bill amount of bills paid on weekday and week end."
   ]
  },
  {
   "cell_type": "code",
   "execution_count": 63,
   "metadata": {},
   "outputs": [
    {
     "data": {
      "text/plain": [
       "<AxesSubplot: title={'center': 'Distribution of bills amount paid on weekday and week end'}, xlabel='Days', ylabel='Total Bill Amount'>"
      ]
     },
     "execution_count": 63,
     "metadata": {},
     "output_type": "execute_result"
    },
    {
     "data": {
      "image/png": "[encoded data removed]",
      "text/plain": [
       "<Figure size 640x480 with 1 Axes>"
      ]
     },
     "metadata": {},
     "output_type": "display_data"
    }
   ],
   "source": [
    "''' \n",
    "(B)\n",
    "''' \n",
    "\n",
    "fig = plt.figure()\n",
    "\n",
    "#Bills paid on weekdays\n",
    "tmp_df1 = df[(df['day'] != 'Sat') & (df['day'] != 'Sun')][['total_bill']].reset_index(drop = True)\n",
    "\n",
    "#Bills paid on weekends\n",
    "tmp_df2 = df[(df['day'] == 'Sat') | (df['day'] == 'Sun')][['total_bill']].reset_index(drop = True)\n",
    "\n",
    "# merge tmp_df1 and tmp_df2\n",
    "tmp_df = tmp_df1.merge(tmp_df2,left_index=True,right_index=True,suffixes=['_weekdays','_weekends'])\n",
    "plt.xlabel('Days')\n",
    "plt.ylabel('Total Bill Amount')\n",
    "plt.title('Distribution of bills amount paid on weekday and week end')\n",
    "\n",
    "tmp_df.boxplot()"
   ]
  },
  {
   "cell_type": "markdown",
   "metadata": {},
   "source": [
    "#### (C) Identify outlier in the bill amount of females customers (explicitly mention the formula used to detect outliers) and show using appropriate plot"
   ]
  },
  {
   "cell_type": "code",
   "execution_count": 64,
   "metadata": {},
   "outputs": [
    {
     "name": "stdout",
     "output_type": "stream",
     "text": [
      "outliers :: \n",
      "11     35.26\n",
      "52     34.81\n",
      "85     34.83\n",
      "102    44.30\n",
      "197    43.11\n",
      "238    35.83\n",
      "Name: total_bill, dtype: float64\n"
     ]
    },
    {
     "data": {
      "text/plain": [
       "Text(0.5, 1.0, 'Bill amount of females customers')"
      ]
     },
     "execution_count": 64,
     "metadata": {},
     "output_type": "execute_result"
    },
    {
     "data": {
      "image/png": "[encoded data removed]",
      "text/plain": [
       "<Figure size 640x480 with 1 Axes>"
      ]
     },
     "metadata": {},
     "output_type": "display_data"
    }
   ],
   "source": [
    "''' \n",
    "(C)\n",
    "''' \n",
    "# extract data of females only\n",
    "tmp_df = df[df['sex']=='Female']\n",
    "\n",
    "# calculate inter quartile range\n",
    "Q1 = tmp_df['total_bill'].quantile(0.25)\n",
    "Q3 = tmp_df['total_bill'].quantile(0.75)\n",
    "\n",
    "IQR = Q3-Q1\n",
    "minVal = Q1 - 1.5*IQR\n",
    "maxVal = Q3 + 1.5*IQR \n",
    "\n",
    "# store values which are less than minVal and greater than the maxVal\n",
    "tmp_df = tmp_df[['total_bill']]\n",
    "outliers = tmp_df[(tmp_df['total_bill'] < minVal) | (tmp_df['total_bill'] > maxVal)]['total_bill']\n",
    "\n",
    "# display outliers\n",
    "print('outliers :: ')\n",
    "if len(outliers) == 0:\n",
    "    print('Nan')\n",
    "else :\n",
    "    print(outliers)\n",
    "\n",
    "# show outliers using box plot\n",
    "tmp_df.boxplot()\n",
    "plt.ylabel('Bill Amount')\n",
    "plt.title('Bill amount of females customers')"
   ]
  },
  {
   "cell_type": "markdown",
   "metadata": {},
   "source": [
    "#### (D) Find the size of customers who have paid maximum tip on weekend."
   ]
  },
  {
   "cell_type": "code",
   "execution_count": 65,
   "metadata": {},
   "outputs": [
    {
     "name": "stdout",
     "output_type": "stream",
     "text": [
      "Size of customers who have paid maximum tip on weekend ::  [3]\n"
     ]
    }
   ],
   "source": [
    "''' \n",
    "(D)\n",
    "''' \n",
    "# extract weekend data \n",
    "tmp_df = df[(df['day'] == 'Sun') | (df['day'] == 'Sat')]\n",
    "# find max tip paid \n",
    "tmp_df = tmp_df[tmp_df['total_bill'] == tmp_df['total_bill'].max()]['size']\n",
    "print('Size of customers who have paid maximum tip on weekend :: ',tmp_df.values)\n"
   ]
  },
  {
   "cell_type": "markdown",
   "metadata": {},
   "source": [
    "#### (E) Compare the average amount of bill paid by females and males customers on all days (using line plot, xaxis has four tics corresponding to day)"
   ]
  },
  {
   "cell_type": "code",
   "execution_count": 66,
   "metadata": {},
   "outputs": [
    {
     "data": {
      "text/html": [
       "<div>\n",
       "<style scoped>\n",
       "    .dataframe tbody tr th:only-of-type {\n",
       "        vertical-align: middle;\n",
       "    }\n",
       "\n",
       "    .dataframe tbody tr th {\n",
       "        vertical-align: top;\n",
       "    }\n",
       "\n",
       "    .dataframe thead tr th {\n",
       "        text-align: left;\n",
       "    }\n",
       "\n",
       "    .dataframe thead tr:last-of-type th {\n",
       "        text-align: right;\n",
       "    }\n",
       "</style>\n",
       "<table border=\"1\" class=\"dataframe\">\n",
       "  <thead>\n",
       "    <tr>\n",
       "      <th></th>\n",
       "      <th colspan=\"2\" halign=\"left\">total_bill</th>\n",
       "    </tr>\n",
       "    <tr>\n",
       "      <th>sex</th>\n",
       "      <th>Male</th>\n",
       "      <th>Female</th>\n",
       "    </tr>\n",
       "    <tr>\n",
       "      <th>day</th>\n",
       "      <th></th>\n",
       "      <th></th>\n",
       "    </tr>\n",
       "  </thead>\n",
       "  <tbody>\n",
       "    <tr>\n",
       "      <th>Thur</th>\n",
       "      <td>18.714667</td>\n",
       "      <td>16.715312</td>\n",
       "    </tr>\n",
       "    <tr>\n",
       "      <th>Fri</th>\n",
       "      <td>19.857000</td>\n",
       "      <td>14.145556</td>\n",
       "    </tr>\n",
       "    <tr>\n",
       "      <th>Sat</th>\n",
       "      <td>20.802542</td>\n",
       "      <td>19.680357</td>\n",
       "    </tr>\n",
       "    <tr>\n",
       "      <th>Sun</th>\n",
       "      <td>21.887241</td>\n",
       "      <td>19.872222</td>\n",
       "    </tr>\n",
       "  </tbody>\n",
       "</table>\n",
       "</div>"
      ],
      "text/plain": [
       "     total_bill           \n",
       "sex        Male     Female\n",
       "day                       \n",
       "Thur  18.714667  16.715312\n",
       "Fri   19.857000  14.145556\n",
       "Sat   20.802542  19.680357\n",
       "Sun   21.887241  19.872222"
      ]
     },
     "metadata": {},
     "output_type": "display_data"
    },
    {
     "data": {
      "text/plain": [
       "Text(0.5, 1.0, 'Average amount of bill paid by females and males customers on all day')"
      ]
     },
     "execution_count": 66,
     "metadata": {},
     "output_type": "execute_result"
    },
    {
     "data": {
      "image/png": "[encoded data removed]",
      "text/plain": [
       "<Figure size 640x480 with 1 Axes>"
      ]
     },
     "metadata": {},
     "output_type": "display_data"
    }
   ],
   "source": [
    "''' \n",
    "(E)\n",
    "''' \n",
    "# group by tips data on the basis of sex and day, then calulate average bill paid on each day\n",
    "tmp_df = df.groupby(['sex','day'])[['total_bill']].mean()\n",
    "tmp_df = tmp_df.unstack(level=0)\n",
    "display(tmp_df)\n",
    "\n",
    "# plot\n",
    "tmp_df.plot(ylabel = 'Average Bill Amount')\n",
    "plt.grid()\n",
    "plt.title('Average amount of bill paid by females and males customers on all day')"
   ]
  }
 ],
 "metadata": {
  "kernelspec": {
   "display_name": "Python 3.9.13 64-bit",
   "language": "python",
   "name": "python3"
  },
  "language_info": {
   "codemirror_mode": {
    "name": "ipython",
    "version": 3
   },
   "file_extension": ".py",
   "mimetype": "text/x-python",
   "name": "python",
   "nbconvert_exporter": "python",
   "pygments_lexer": "ipython3",
   "version": "3.9.13"
  },
  "orig_nbformat": 4,
  "vscode": {
   "interpreter": {
    "hash": "1cab0ba58926470a5a9ebf47b9a6bd95521f8f13bc9986a801c458fcdbbdf03a"
   }
  }
 },
 "nbformat": 4,
 "nbformat_minor": 2
}
