{
 "cells": [
  {
   "cell_type": "code",
   "execution_count": 1,
   "metadata": {},
   "outputs": [],
   "source": [
    "import numpy as np\n",
    "import pandas as pd"
   ]
  },
  {
   "cell_type": "markdown",
   "metadata": {},
   "source": [
    "## PRACTICAL ASSIGNMENT Q 3"
   ]
  },
  {
   "cell_type": "markdown",
   "metadata": {},
   "source": [
    "## Q1"
   ]
  },
  {
   "cell_type": "code",
   "execution_count": 12,
   "metadata": {},
   "outputs": [
    {
     "data": {
      "text/plain": [
       "'\\n(f)\\n'"
      ]
     },
     "execution_count": 12,
     "metadata": {},
     "output_type": "execute_result"
    }
   ],
   "source": [
    "from cmath import nan\n",
    "\n",
    "df = pd.DataFrame(np.random.randint(1,100,150).reshape(50,3),columns=['first','second','third'])\n",
    "df.index.name = 'SNo.'\n",
    "\n",
    "# #initializing rows(selected randomly) with nan \n",
    "# #generating random rows value\n",
    "# random_rows = np.random.randint(0,50,5)\n",
    "# print('Random selected rows :: ',random_rows)\n",
    "\n",
    "# # initializing with nan\n",
    "# df.iloc[random_rows] = nan\n",
    "\n",
    "'''\n",
    "(i)\n",
    "'''\n",
    "\n",
    "# # counting nan values\n",
    "# print('Count of NaN values :: ',df.isna().sum().sum())\n",
    "\n",
    "'''\n",
    "=================================================================\n",
    "'''\n",
    "\n",
    "# initializing specific elements = nan by generating random row and col index value\n",
    "# random_rows = np.random.randint(0,50,15)\n",
    "# random_cols = np.random.randint(0,3,15)\n",
    "# random_index = list(zip(random_rows,random_cols))\n",
    "# print('Random selected positions :: ',random_index)\n",
    "\n",
    "# # initializing value at random_index with nan\n",
    "# for x,y in random_index:\n",
    "#     df.iloc[x,y] = nan\n",
    "\n",
    "# print('Count of NaN values :: ',df.isna().sum().sum())\n",
    "\n",
    "\n",
    "'''\n",
    "(ii)\n",
    "'''\n",
    "# count of null values in a column\n",
    "# nullCount = df.isna().sum()\n",
    "# print('Count of Nan in each column :: \\n',nullCount,'\\n')\n",
    "# indx = nullCount[nullCount>5].index\n",
    "# print('Column with count of nan > 5 :: ',list(indx),'\\n')\n",
    "# data2 = df.drop(indx,axis=1)\n",
    "# print(data2.head(5))\n",
    "\n",
    "'''\n",
    "(iii)\n",
    "'''\n",
    "\n",
    "# # finding sum of each row\n",
    "# data = df.sum(axis=1)\n",
    "\n",
    "# # finding index of the row which have max sum value\n",
    "# max_row_index = data[data == data.max()].index\n",
    "# print('Row index with max sum :: ',max_row_index)\n",
    "# # drop that row\n",
    "# display(df.drop(max_row_index))\n",
    "\n",
    "'''\n",
    "(iv)\n",
    "'''\n",
    "# display(df.sort_values('first'))\n",
    "\n",
    "'''\n",
    "(v)\n",
    "'''\n",
    "\n",
    "# display(df.drop_duplicates(subset='first',keep='first'))\n",
    "\n",
    "'''\n",
    "(vi)\n",
    "'''\n",
    "# print('Correlation between first and second column :: ')\n",
    "# df_corr = df[['first','second']].corr()\n",
    "# display(df_corr)\n",
    "\n",
    "# print('Covariance between second  and third column :: ')\n",
    "# df_cov = df[['second','third']].cov()\n",
    "# display(df_cov)\n",
    "\n",
    "\n",
    "# display(df.head(10))"
   ]
  },
  {
   "cell_type": "markdown",
   "metadata": {},
   "source": [
    "## Q2."
   ]
  },
  {
   "cell_type": "code",
   "execution_count": 48,
   "metadata": {},
   "outputs": [
    {
     "data": {
      "text/plain": [
       "'\\n(vi)\\n'"
      ]
     },
     "execution_count": 48,
     "metadata": {},
     "output_type": "execute_result"
    }
   ],
   "source": [
    "Name = ['A','B','C','D','E','F','G','H','I','J']\n",
    "\n",
    "\n",
    "#function generating roll NO.\n",
    "rollno = []\n",
    "for i in range(1,11):\n",
    "    rollno.append('AC-'+str(i))\n",
    "\n",
    "df = pd.DataFrame(np.random.randint(40,101,50).reshape(10,5),columns = ['S1','S2','S3','S4','S5'])\n",
    "df.insert(0,'Roll No.',rollno,True)\n",
    "df.insert(1,'Name',Name,True)\n",
    "df.set_index('Roll No.',drop=True,inplace = True,)\n",
    "\n",
    "\n",
    "'''\n",
    "(i)\n",
    "'''\n",
    "\n",
    "df['AVG Marks'] = df.loc[:,'S1':'S5'].mean(axis=1)\n",
    "\n",
    "'''\n",
    "(ii)\n",
    "'''\n",
    "\n",
    "# new_row = df.mean()\n",
    "# new_row.name = 'avg'\n",
    "# df = df.append(new_row).fillna('0')\n",
    "\n",
    "'''\n",
    "(iii)\n",
    "'''\n",
    "# for i in df.columns[1:6]:\n",
    "#     print('Descriptive statistics of subject',i)\n",
    "#     display(df[i].describe())\n",
    "\n",
    "'''\n",
    "(iv)\n",
    "'''\n",
    "def grade(i):\n",
    "    if i>95:\n",
    "        return 'A+'  \n",
    "    elif i>90:\n",
    "        return 'A'\n",
    "    elif i>80:\n",
    "        return 'B'\n",
    "    elif i>70:\n",
    "        return 'C'\n",
    "    elif i>60:\n",
    "        return 'D'\n",
    "    else:\n",
    "        return 'E'\n",
    "\n",
    "\n",
    "f = lambda x :  grade(x)\n",
    "df['Grade'] = df['AVG Marks'].apply(f)\n",
    "\n",
    "'''\n",
    "(v)\n",
    "'''\n",
    "# print('Frequency of each grade :: ')\n",
    "# display(df['Grade'].value_counts())\n",
    "\n",
    "\n",
    "'''\n",
    "(vi)\n",
    "'''\n",
    "# assign grade for each subject\n",
    "# df.iloc[:,1:6] = df.iloc[:,1:6].applymap(f)\n",
    "# df.drop(['AVG Marks','Grade'],axis=1,inplace = True)\n",
    "\n",
    "# #function to get grade with max freq\n",
    "# f2 = lambda x : x.value_counts().idxmax()\n",
    "# df['Max Grade Obtained'] = df.iloc[:,1:6].apply(f2,axis=1)\n",
    "\n",
    "# #funtion to get frequency of grade obtained max times\n",
    "# f3 = lambda x : x.value_counts().values[0]\n",
    "# df['Frequency'] = df.iloc[:,1:6].apply(f3,axis=1)\n",
    "\n",
    "# display(df)\n"
   ]
  },
  {
   "cell_type": "markdown",
   "metadata": {},
   "source": [
    "## Q3"
   ]
  },
  {
   "cell_type": "code",
   "execution_count": 4,
   "metadata": {},
   "outputs": [
    {
     "data": {
      "text/plain": [
       "hobbies\n",
       "Reading     3\n",
       "Dancing     2\n",
       "Writing     2\n",
       "Singing     2\n",
       "Painting    2\n",
       "Playing     1\n",
       "dtype: int64"
      ]
     },
     "metadata": {},
     "output_type": "display_data"
    }
   ],
   "source": [
    "hobby1 = ['Reading','Dancing','Writing','Singing','Reading','Painting']\n",
    "hobby2 = ['Painting','Dancing','Reading','Playing','Writing','Singing']\n",
    "\n",
    "hobby1.extend(hobby2)\n",
    "new_series = pd.Series(hobby1).value_counts()\n",
    "new_series.index.name = 'hobbies'\n",
    "display(new_series)"
   ]
  },
  {
   "cell_type": "markdown",
   "metadata": {},
   "source": [
    "## PRACTICE Q"
   ]
  },
  {
   "cell_type": "code",
   "execution_count": 5,
   "metadata": {},
   "outputs": [
    {
     "data": {
      "text/html": [
       "<div>\n",
       "<style scoped>\n",
       "    .dataframe tbody tr th:only-of-type {\n",
       "        vertical-align: middle;\n",
       "    }\n",
       "\n",
       "    .dataframe tbody tr th {\n",
       "        vertical-align: top;\n",
       "    }\n",
       "\n",
       "    .dataframe thead th {\n",
       "        text-align: right;\n",
       "    }\n",
       "</style>\n",
       "<table border=\"1\" class=\"dataframe\">\n",
       "  <thead>\n",
       "    <tr style=\"text-align: right;\">\n",
       "      <th></th>\n",
       "      <th>Temperature</th>\n",
       "      <th>Humidity</th>\n",
       "      <th>Pressure</th>\n",
       "    </tr>\n",
       "    <tr>\n",
       "      <th>Date</th>\n",
       "      <th></th>\n",
       "      <th></th>\n",
       "      <th></th>\n",
       "    </tr>\n",
       "  </thead>\n",
       "  <tbody>\n",
       "    <tr>\n",
       "      <th>2021-01-01</th>\n",
       "      <td>33</td>\n",
       "      <td>64</td>\n",
       "      <td>12</td>\n",
       "    </tr>\n",
       "    <tr>\n",
       "      <th>2021-01-02</th>\n",
       "      <td>38</td>\n",
       "      <td>71</td>\n",
       "      <td>11</td>\n",
       "    </tr>\n",
       "    <tr>\n",
       "      <th>2021-01-03</th>\n",
       "      <td>36</td>\n",
       "      <td>64</td>\n",
       "      <td>13</td>\n",
       "    </tr>\n",
       "    <tr>\n",
       "      <th>2021-01-04</th>\n",
       "      <td>34</td>\n",
       "      <td>79</td>\n",
       "      <td>20</td>\n",
       "    </tr>\n",
       "    <tr>\n",
       "      <th>2021-01-05</th>\n",
       "      <td>34</td>\n",
       "      <td>62</td>\n",
       "      <td>18</td>\n",
       "    </tr>\n",
       "    <tr>\n",
       "      <th>2021-01-06</th>\n",
       "      <td>40</td>\n",
       "      <td>77</td>\n",
       "      <td>11</td>\n",
       "    </tr>\n",
       "    <tr>\n",
       "      <th>2021-01-07</th>\n",
       "      <td>37</td>\n",
       "      <td>77</td>\n",
       "      <td>12</td>\n",
       "    </tr>\n",
       "    <tr>\n",
       "      <th>2021-01-08</th>\n",
       "      <td>40</td>\n",
       "      <td>77</td>\n",
       "      <td>15</td>\n",
       "    </tr>\n",
       "    <tr>\n",
       "      <th>2021-01-09</th>\n",
       "      <td>35</td>\n",
       "      <td>80</td>\n",
       "      <td>11</td>\n",
       "    </tr>\n",
       "    <tr>\n",
       "      <th>2021-01-10</th>\n",
       "      <td>33</td>\n",
       "      <td>63</td>\n",
       "      <td>12</td>\n",
       "    </tr>\n",
       "  </tbody>\n",
       "</table>\n",
       "</div>"
      ],
      "text/plain": [
       "            Temperature  Humidity  Pressure\n",
       "Date                                       \n",
       "2021-01-01           33        64        12\n",
       "2021-01-02           38        71        11\n",
       "2021-01-03           36        64        13\n",
       "2021-01-04           34        79        20\n",
       "2021-01-05           34        62        18\n",
       "2021-01-06           40        77        11\n",
       "2021-01-07           37        77        12\n",
       "2021-01-08           40        77        15\n",
       "2021-01-09           35        80        11\n",
       "2021-01-10           33        63        12"
      ]
     },
     "metadata": {},
     "output_type": "display_data"
    }
   ],
   "source": [
    "df = pd.DataFrame()\n",
    "df['Date'] = pd.date_range('1/1/2021',periods=10)\n",
    "df['Temperature'] = np.random.randint(33,42,10)\n",
    "df['Humidity'] = np.random.randint(60,81,10)\n",
    "df['Pressure'] = np.random.randint(10,21,10)\n",
    "df = df.set_index('Date')\n",
    "\n",
    "display(df)\n",
    "\n"
   ]
  },
  {
   "cell_type": "markdown",
   "metadata": {},
   "source": [
    "## Q4"
   ]
  },
  {
   "cell_type": "code",
   "execution_count": 96,
   "metadata": {},
   "outputs": [
    {
     "data": {
      "text/html": [
       "<div>\n",
       "<style scoped>\n",
       "    .dataframe tbody tr th:only-of-type {\n",
       "        vertical-align: middle;\n",
       "    }\n",
       "\n",
       "    .dataframe tbody tr th {\n",
       "        vertical-align: top;\n",
       "    }\n",
       "\n",
       "    .dataframe thead th {\n",
       "        text-align: right;\n",
       "    }\n",
       "</style>\n",
       "<table border=\"1\" class=\"dataframe\">\n",
       "  <thead>\n",
       "    <tr style=\"text-align: right;\">\n",
       "      <th></th>\n",
       "      <th>Hobby</th>\n",
       "    </tr>\n",
       "    <tr>\n",
       "      <th>Course</th>\n",
       "      <th></th>\n",
       "    </tr>\n",
       "  </thead>\n",
       "  <tbody>\n",
       "  </tbody>\n",
       "</table>\n",
       "</div>"
      ],
      "text/plain": [
       "Empty DataFrame\n",
       "Columns: [Hobby]\n",
       "Index: []"
      ]
     },
     "metadata": {},
     "output_type": "display_data"
    },
    {
     "data": {
      "text/html": [
       "<div>\n",
       "<style scoped>\n",
       "    .dataframe tbody tr th:only-of-type {\n",
       "        vertical-align: middle;\n",
       "    }\n",
       "\n",
       "    .dataframe tbody tr th {\n",
       "        vertical-align: top;\n",
       "    }\n",
       "\n",
       "    .dataframe thead th {\n",
       "        text-align: right;\n",
       "    }\n",
       "</style>\n",
       "<table border=\"1\" class=\"dataframe\">\n",
       "  <thead>\n",
       "    <tr style=\"text-align: right;\">\n",
       "      <th></th>\n",
       "      <th>Hobby</th>\n",
       "    </tr>\n",
       "    <tr>\n",
       "      <th>Course</th>\n",
       "      <th></th>\n",
       "    </tr>\n",
       "  </thead>\n",
       "  <tbody>\n",
       "    <tr>\n",
       "      <th>Bcom(Hons)</th>\n",
       "      <td>painting</td>\n",
       "    </tr>\n",
       "  </tbody>\n",
       "</table>\n",
       "</div>"
      ],
      "text/plain": [
       "               Hobby\n",
       "Course              \n",
       "Bcom(Hons)  painting"
      ]
     },
     "metadata": {},
     "output_type": "display_data"
    },
    {
     "data": {
      "text/html": [
       "<div>\n",
       "<style scoped>\n",
       "    .dataframe tbody tr th:only-of-type {\n",
       "        vertical-align: middle;\n",
       "    }\n",
       "\n",
       "    .dataframe tbody tr th {\n",
       "        vertical-align: top;\n",
       "    }\n",
       "\n",
       "    .dataframe thead th {\n",
       "        text-align: right;\n",
       "    }\n",
       "</style>\n",
       "<table border=\"1\" class=\"dataframe\">\n",
       "  <thead>\n",
       "    <tr style=\"text-align: right;\">\n",
       "      <th></th>\n",
       "      <th>Hobby</th>\n",
       "    </tr>\n",
       "    <tr>\n",
       "      <th>Course</th>\n",
       "      <th></th>\n",
       "    </tr>\n",
       "  </thead>\n",
       "  <tbody>\n",
       "    <tr>\n",
       "      <th>Cs(Hons)</th>\n",
       "      <td>writing</td>\n",
       "    </tr>\n",
       "    <tr>\n",
       "      <th>Cs(Hons)</th>\n",
       "      <td>painting</td>\n",
       "    </tr>\n",
       "  </tbody>\n",
       "</table>\n",
       "</div>"
      ],
      "text/plain": [
       "             Hobby\n",
       "Course            \n",
       "Cs(Hons)   writing\n",
       "Cs(Hons)  painting"
      ]
     },
     "metadata": {},
     "output_type": "display_data"
    },
    {
     "data": {
      "text/plain": [
       "'Number of students exploring each hobby in 2019 :: '"
      ]
     },
     "metadata": {},
     "output_type": "display_data"
    },
    {
     "data": {
      "text/plain": [
       "1"
      ]
     },
     "metadata": {},
     "output_type": "display_data"
    },
    {
     "data": {
      "text/plain": [
       "'Number of students exploring each hobby in 2020:: '"
      ]
     },
     "metadata": {},
     "output_type": "display_data"
    },
    {
     "data": {
      "text/plain": [
       "1"
      ]
     },
     "metadata": {},
     "output_type": "display_data"
    }
   ],
   "source": [
    "# reading two csv files\n",
    "df1 = pd.read_csv('Student_2019.csv')\n",
    "df2 = pd.read_csv('Student_2020.csv' )\n",
    "\n",
    "'''\n",
    "(i)\n",
    "'''\n",
    "\n",
    "# #display all hobbies types for each course in 2019\n",
    "\n",
    "# df1_new = df1[['Course','Hobby']].drop_duplicates(keep='first')\n",
    "# df1_new = df1_new.set_index(['Course','Hobby'],drop=True)\n",
    "# df1_new = df1_new.sort_index()\n",
    "# display('Hobbies in 2019 :: ',df1_new)  \n",
    "\n",
    "\n",
    "# #display all hobbies types for each course in 2020\n",
    "# df2_new = df2[['Course','Hobby']].drop_duplicates(keep='first')\n",
    "# df2_new = df2_new.set_index(['Course','Hobby'],drop=True)\n",
    "# df2_new = df2_new.sort_index()\n",
    "# display('Hobbies in 2020 :: ',df2_new)  \n",
    "\n",
    "'''\n",
    "(ii)\n",
    "'''\n",
    "\n",
    "# print('Hobbies which are there in 2019 but not in 2020 for each course :: ')\n",
    "df1_new = df1[['Course','Hobby']].set_index('Course',drop=True)\n",
    "df2_new = df2[['Course','Hobby']].set_index('Course',drop=True)\n",
    "\n",
    "for i in df1_new.index.unique():\n",
    "    df = df1_new.loc[i]\n",
    "    display(df[~df.isin(df2_new.loc[i].values.flatten())].dropna())\n",
    "\n",
    "\n",
    "'''\n",
    "(iii)\n",
    "'''\n",
    "\n",
    "# print('Hobbies which are common in both years :: ')\n",
    "# for i in df1_new.index.unique():\n",
    "#     df = df1_new.loc[i]\n",
    "#     display(df[df.isin(df2_new.loc[i].values.flatten())].dropna())\n",
    "\n",
    "'''\n",
    "(iv)\n",
    "'''\n",
    "# print('Course names in which students are exploring all hobbies in 2019 :: ')\n",
    "# for i in df1_new.index.unique():\n",
    "#     if (len(df1_new.loc[i]['Hobby'].unique())==4):\n",
    "#         print(i)\n",
    "\n",
    "# print('\\nCourse names in which students are exploring all hobbies in 2020 :: ')\n",
    "# for i in df2_new.index.unique():\n",
    "#     if (len(df2_new.loc[i]['Hobby'].unique())==4):\n",
    "#         print(i)\n",
    "\n",
    "\n",
    "\n",
    "'''\n",
    "(v)\n",
    "'''\n",
    "\n",
    "# display('Number of students exploring each hobby in 2019 :: ',len(df1['Name'].value_counts()[df1['Name'].value_counts()==4])) \n",
    "# display('Number of students exploring each hobby in 2020:: ',len(df2['Name'].value_counts()[df2['Name'].value_counts()==4])) \n"
   ]
  },
  {
   "cell_type": "code",
   "execution_count": null,
   "metadata": {},
   "outputs": [],
   "source": []
  }
 ],
 "metadata": {
  "kernelspec": {
   "display_name": "Python 3.9.13 64-bit",
   "language": "python",
   "name": "python3"
  },
  "language_info": {
   "codemirror_mode": {
    "name": "ipython",
    "version": 3
   },
   "file_extension": ".py",
   "mimetype": "text/x-python",
   "name": "python",
   "nbconvert_exporter": "python",
   "pygments_lexer": "ipython3",
   "version": "3.9.13"
  },
  "orig_nbformat": 4,
  "vscode": {
   "interpreter": {
    "hash": "1cab0ba58926470a5a9ebf47b9a6bd95521f8f13bc9986a801c458fcdbbdf03a"
   }
  }
 },
 "nbformat": 4,
 "nbformat_minor": 2
}
